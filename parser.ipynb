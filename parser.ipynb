{
 "cells": [
  {
   "cell_type": "code",
   "execution_count": 2,
   "metadata": {},
   "outputs": [],
   "source": [
    "from unstructured.partition.auto import partition\n",
    "from unstructured.chunking.basic import chunk_elements\n",
    "from unstructured.chunking.title import chunk_by_title\n",
    "import pandas as pd"
   ]
  },
  {
   "cell_type": "code",
   "execution_count": 3,
   "metadata": {},
   "outputs": [],
   "source": [
    "text_pdf_filename = \"samples/layout-parser-paper.pdf\"\n",
    "table_img_pdf_filename = \"samples/embedded-images-tables.pdf\"\n",
    "img_pdf_filename = \"samples/embedded-images.pdf\"\n",
    "img_filename = \"samples/layout-parser-paper-fast.jpg\"\n",
    "\n",
    "prodesa_alameda_pdf_filename = \"samples/prodesa/memoria-alameda-del-rio.pdf\""
   ]
  },
  {
   "cell_type": "code",
   "execution_count": 3,
   "metadata": {},
   "outputs": [
    {
     "name": "stderr",
     "output_type": "stream",
     "text": [
      "/home/parjua/.pyenv/versions/3.11.0/envs/unstructured-parser/lib/python3.11/site-packages/tqdm/auto.py:21: TqdmWarning: IProgress not found. Please update jupyter and ipywidgets. See https://ipywidgets.readthedocs.io/en/stable/user_install.html\n",
      "  from .autonotebook import tqdm as notebook_tqdm\n"
     ]
    },
    {
     "ename": "KeyboardInterrupt",
     "evalue": "",
     "output_type": "error",
     "traceback": [
      "\u001b[0;31m---------------------------------------------------------------------------\u001b[0m",
      "\u001b[0;31mKeyboardInterrupt\u001b[0m                         Traceback (most recent call last)",
      "Cell \u001b[0;32mIn[3], line 1\u001b[0m\n\u001b[0;32m----> 1\u001b[0m elements \u001b[38;5;241m=\u001b[39m \u001b[43mpartition\u001b[49m\u001b[43m(\u001b[49m\u001b[43mfilename\u001b[49m\u001b[38;5;241;43m=\u001b[39;49m\u001b[43mtext_pdf_filename\u001b[49m\u001b[43m,\u001b[49m\u001b[43m \u001b[49m\u001b[43mstrategy\u001b[49m\u001b[38;5;241;43m=\u001b[39;49m\u001b[38;5;124;43m'\u001b[39;49m\u001b[38;5;124;43mhi_res\u001b[39;49m\u001b[38;5;124;43m'\u001b[39;49m\u001b[43m)\u001b[49m\n\u001b[1;32m      2\u001b[0m \u001b[38;5;66;03m# chunks_el = chunk_elements(elements, max_characters=1024, overlap=204)\u001b[39;00m\n",
      "File \u001b[0;32m~/.pyenv/versions/3.11.0/envs/unstructured-parser/lib/python3.11/site-packages/unstructured/partition/auto.py:342\u001b[0m, in \u001b[0;36mpartition\u001b[0;34m(filename, content_type, file, file_filename, url, include_page_breaks, strategy, encoding, paragraph_grouper, headers, skip_infer_table_types, ssl_verify, ocr_languages, languages, detect_language_per_element, pdf_infer_table_structure, extract_images_in_pdf, extract_image_block_types, extract_image_block_output_dir, extract_image_block_to_payload, xml_keep_tags, data_source_metadata, metadata_filename, request_timeout, hi_res_model_name, model_name, date_from_file_object, starting_page_number, **kwargs)\u001b[0m\n\u001b[1;32m    340\u001b[0m \u001b[38;5;28;01melif\u001b[39;00m file_type \u001b[38;5;241m==\u001b[39m FileType\u001b[38;5;241m.\u001b[39mPDF:\n\u001b[1;32m    341\u001b[0m     partition_pdf \u001b[38;5;241m=\u001b[39m partitioner_loader\u001b[38;5;241m.\u001b[39mget(file_type)\n\u001b[0;32m--> 342\u001b[0m     elements \u001b[38;5;241m=\u001b[39m \u001b[43mpartition_pdf\u001b[49m\u001b[43m(\u001b[49m\n\u001b[1;32m    343\u001b[0m \u001b[43m        \u001b[49m\u001b[43mfilename\u001b[49m\u001b[38;5;241;43m=\u001b[39;49m\u001b[43mfilename\u001b[49m\u001b[43m,\u001b[49m\n\u001b[1;32m    344\u001b[0m \u001b[43m        \u001b[49m\u001b[43mfile\u001b[49m\u001b[38;5;241;43m=\u001b[39;49m\u001b[43mfile\u001b[49m\u001b[43m,\u001b[49m\n\u001b[1;32m    345\u001b[0m \u001b[43m        \u001b[49m\u001b[43murl\u001b[49m\u001b[38;5;241;43m=\u001b[39;49m\u001b[38;5;28;43;01mNone\u001b[39;49;00m\u001b[43m,\u001b[49m\n\u001b[1;32m    346\u001b[0m \u001b[43m        \u001b[49m\u001b[43minclude_page_breaks\u001b[49m\u001b[38;5;241;43m=\u001b[39;49m\u001b[43minclude_page_breaks\u001b[49m\u001b[43m,\u001b[49m\n\u001b[1;32m    347\u001b[0m \u001b[43m        \u001b[49m\u001b[43minfer_table_structure\u001b[49m\u001b[38;5;241;43m=\u001b[39;49m\u001b[43minfer_table_structure\u001b[49m\u001b[43m,\u001b[49m\n\u001b[1;32m    348\u001b[0m \u001b[43m        \u001b[49m\u001b[43mstrategy\u001b[49m\u001b[38;5;241;43m=\u001b[39;49m\u001b[43mstrategy\u001b[49m\u001b[43m,\u001b[49m\n\u001b[1;32m    349\u001b[0m \u001b[43m        \u001b[49m\u001b[43mlanguages\u001b[49m\u001b[38;5;241;43m=\u001b[39;49m\u001b[43mlanguages\u001b[49m\u001b[43m,\u001b[49m\n\u001b[1;32m    350\u001b[0m \u001b[43m        \u001b[49m\u001b[43mhi_res_model_name\u001b[49m\u001b[38;5;241;43m=\u001b[39;49m\u001b[43mhi_res_model_name\u001b[49m\u001b[43m \u001b[49m\u001b[38;5;129;43;01mor\u001b[39;49;00m\u001b[43m \u001b[49m\u001b[43mmodel_name\u001b[49m\u001b[43m,\u001b[49m\n\u001b[1;32m    351\u001b[0m \u001b[43m        \u001b[49m\u001b[43mextract_images_in_pdf\u001b[49m\u001b[38;5;241;43m=\u001b[39;49m\u001b[43mextract_images_in_pdf\u001b[49m\u001b[43m,\u001b[49m\n\u001b[1;32m    352\u001b[0m \u001b[43m        \u001b[49m\u001b[43mextract_image_block_types\u001b[49m\u001b[38;5;241;43m=\u001b[39;49m\u001b[43mextract_image_block_types\u001b[49m\u001b[43m,\u001b[49m\n\u001b[1;32m    353\u001b[0m \u001b[43m        \u001b[49m\u001b[43mextract_image_block_output_dir\u001b[49m\u001b[38;5;241;43m=\u001b[39;49m\u001b[43mextract_image_block_output_dir\u001b[49m\u001b[43m,\u001b[49m\n\u001b[1;32m    354\u001b[0m \u001b[43m        \u001b[49m\u001b[43mextract_image_block_to_payload\u001b[49m\u001b[38;5;241;43m=\u001b[39;49m\u001b[43mextract_image_block_to_payload\u001b[49m\u001b[43m,\u001b[49m\n\u001b[1;32m    355\u001b[0m \u001b[43m        \u001b[49m\u001b[43mstarting_page_number\u001b[49m\u001b[38;5;241;43m=\u001b[39;49m\u001b[43mstarting_page_number\u001b[49m\u001b[43m,\u001b[49m\n\u001b[1;32m    356\u001b[0m \u001b[43m        \u001b[49m\u001b[38;5;241;43m*\u001b[39;49m\u001b[38;5;241;43m*\u001b[39;49m\u001b[43mkwargs\u001b[49m\u001b[43m,\u001b[49m\n\u001b[1;32m    357\u001b[0m \u001b[43m    \u001b[49m\u001b[43m)\u001b[49m\n\u001b[1;32m    358\u001b[0m \u001b[38;5;28;01melif\u001b[39;00m file_type \u001b[38;5;241m==\u001b[39m FileType\u001b[38;5;241m.\u001b[39mPPT:\n\u001b[1;32m    359\u001b[0m     partition_ppt \u001b[38;5;241m=\u001b[39m partitioner_loader\u001b[38;5;241m.\u001b[39mget(file_type)\n",
      "File \u001b[0;32m~/.pyenv/versions/3.11.0/envs/unstructured-parser/lib/python3.11/site-packages/unstructured/documents/elements.py:605\u001b[0m, in \u001b[0;36mprocess_metadata.<locals>.decorator.<locals>.wrapper\u001b[0;34m(*args, **kwargs)\u001b[0m\n\u001b[1;32m    603\u001b[0m \u001b[38;5;129m@functools\u001b[39m\u001b[38;5;241m.\u001b[39mwraps(func)\n\u001b[1;32m    604\u001b[0m \u001b[38;5;28;01mdef\u001b[39;00m \u001b[38;5;21mwrapper\u001b[39m(\u001b[38;5;241m*\u001b[39margs: _P\u001b[38;5;241m.\u001b[39margs, \u001b[38;5;241m*\u001b[39m\u001b[38;5;241m*\u001b[39mkwargs: _P\u001b[38;5;241m.\u001b[39mkwargs) \u001b[38;5;241m-\u001b[39m\u001b[38;5;241m>\u001b[39m \u001b[38;5;28mlist\u001b[39m[Element]:\n\u001b[0;32m--> 605\u001b[0m     elements \u001b[38;5;241m=\u001b[39m \u001b[43mfunc\u001b[49m\u001b[43m(\u001b[49m\u001b[38;5;241;43m*\u001b[39;49m\u001b[43margs\u001b[49m\u001b[43m,\u001b[49m\u001b[43m \u001b[49m\u001b[38;5;241;43m*\u001b[39;49m\u001b[38;5;241;43m*\u001b[39;49m\u001b[43mkwargs\u001b[49m\u001b[43m)\u001b[49m\n\u001b[1;32m    606\u001b[0m     call_args \u001b[38;5;241m=\u001b[39m get_call_args_applying_defaults(func, \u001b[38;5;241m*\u001b[39margs, \u001b[38;5;241m*\u001b[39m\u001b[38;5;241m*\u001b[39mkwargs)\n\u001b[1;32m    608\u001b[0m     regex_metadata: \u001b[38;5;28mdict\u001b[39m[\u001b[38;5;124m\"\u001b[39m\u001b[38;5;124mstr\u001b[39m\u001b[38;5;124m\"\u001b[39m, \u001b[38;5;124m\"\u001b[39m\u001b[38;5;124mstr\u001b[39m\u001b[38;5;124m\"\u001b[39m] \u001b[38;5;241m=\u001b[39m call_args\u001b[38;5;241m.\u001b[39mget(\u001b[38;5;124m\"\u001b[39m\u001b[38;5;124mregex_metadata\u001b[39m\u001b[38;5;124m\"\u001b[39m, {})\n",
      "File \u001b[0;32m~/.pyenv/versions/3.11.0/envs/unstructured-parser/lib/python3.11/site-packages/unstructured/file_utils/filetype.py:731\u001b[0m, in \u001b[0;36madd_filetype.<locals>.decorator.<locals>.wrapper\u001b[0;34m(*args, **kwargs)\u001b[0m\n\u001b[1;32m    729\u001b[0m \u001b[38;5;129m@functools\u001b[39m\u001b[38;5;241m.\u001b[39mwraps(func)\n\u001b[1;32m    730\u001b[0m \u001b[38;5;28;01mdef\u001b[39;00m \u001b[38;5;21mwrapper\u001b[39m(\u001b[38;5;241m*\u001b[39margs: _P\u001b[38;5;241m.\u001b[39margs, \u001b[38;5;241m*\u001b[39m\u001b[38;5;241m*\u001b[39mkwargs: _P\u001b[38;5;241m.\u001b[39mkwargs) \u001b[38;5;241m-\u001b[39m\u001b[38;5;241m>\u001b[39m \u001b[38;5;28mlist\u001b[39m[Element]:\n\u001b[0;32m--> 731\u001b[0m     elements \u001b[38;5;241m=\u001b[39m \u001b[43mfunc\u001b[49m\u001b[43m(\u001b[49m\u001b[38;5;241;43m*\u001b[39;49m\u001b[43margs\u001b[49m\u001b[43m,\u001b[49m\u001b[43m \u001b[49m\u001b[38;5;241;43m*\u001b[39;49m\u001b[38;5;241;43m*\u001b[39;49m\u001b[43mkwargs\u001b[49m\u001b[43m)\u001b[49m\n\u001b[1;32m    732\u001b[0m     params \u001b[38;5;241m=\u001b[39m get_call_args_applying_defaults(func, \u001b[38;5;241m*\u001b[39margs, \u001b[38;5;241m*\u001b[39m\u001b[38;5;241m*\u001b[39mkwargs)\n\u001b[1;32m    733\u001b[0m     include_metadata \u001b[38;5;241m=\u001b[39m params\u001b[38;5;241m.\u001b[39mget(\u001b[38;5;124m\"\u001b[39m\u001b[38;5;124minclude_metadata\u001b[39m\u001b[38;5;124m\"\u001b[39m, \u001b[38;5;28;01mTrue\u001b[39;00m)\n",
      "File \u001b[0;32m~/.pyenv/versions/3.11.0/envs/unstructured-parser/lib/python3.11/site-packages/unstructured/file_utils/filetype.py:687\u001b[0m, in \u001b[0;36madd_metadata.<locals>.wrapper\u001b[0;34m(*args, **kwargs)\u001b[0m\n\u001b[1;32m    685\u001b[0m \u001b[38;5;129m@functools\u001b[39m\u001b[38;5;241m.\u001b[39mwraps(func)\n\u001b[1;32m    686\u001b[0m \u001b[38;5;28;01mdef\u001b[39;00m \u001b[38;5;21mwrapper\u001b[39m(\u001b[38;5;241m*\u001b[39margs: _P\u001b[38;5;241m.\u001b[39margs, \u001b[38;5;241m*\u001b[39m\u001b[38;5;241m*\u001b[39mkwargs: _P\u001b[38;5;241m.\u001b[39mkwargs) \u001b[38;5;241m-\u001b[39m\u001b[38;5;241m>\u001b[39m \u001b[38;5;28mlist\u001b[39m[Element]:\n\u001b[0;32m--> 687\u001b[0m     elements \u001b[38;5;241m=\u001b[39m \u001b[43mfunc\u001b[49m\u001b[43m(\u001b[49m\u001b[38;5;241;43m*\u001b[39;49m\u001b[43margs\u001b[49m\u001b[43m,\u001b[49m\u001b[43m \u001b[49m\u001b[38;5;241;43m*\u001b[39;49m\u001b[38;5;241;43m*\u001b[39;49m\u001b[43mkwargs\u001b[49m\u001b[43m)\u001b[49m\n\u001b[1;32m    688\u001b[0m     call_args \u001b[38;5;241m=\u001b[39m get_call_args_applying_defaults(func, \u001b[38;5;241m*\u001b[39margs, \u001b[38;5;241m*\u001b[39m\u001b[38;5;241m*\u001b[39mkwargs)\n\u001b[1;32m    689\u001b[0m     include_metadata \u001b[38;5;241m=\u001b[39m call_args\u001b[38;5;241m.\u001b[39mget(\u001b[38;5;124m\"\u001b[39m\u001b[38;5;124minclude_metadata\u001b[39m\u001b[38;5;124m\"\u001b[39m, \u001b[38;5;28;01mTrue\u001b[39;00m)\n",
      "File \u001b[0;32m~/.pyenv/versions/3.11.0/envs/unstructured-parser/lib/python3.11/site-packages/unstructured/chunking/dispatch.py:74\u001b[0m, in \u001b[0;36madd_chunking_strategy.<locals>.wrapper\u001b[0;34m(*args, **kwargs)\u001b[0m\n\u001b[1;32m     71\u001b[0m \u001b[38;5;250m\u001b[39m\u001b[38;5;124;03m\"\"\"The decorated function is replaced with this one.\"\"\"\u001b[39;00m\n\u001b[1;32m     73\u001b[0m \u001b[38;5;66;03m# -- call the partitioning function to get the elements --\u001b[39;00m\n\u001b[0;32m---> 74\u001b[0m elements \u001b[38;5;241m=\u001b[39m \u001b[43mfunc\u001b[49m\u001b[43m(\u001b[49m\u001b[38;5;241;43m*\u001b[39;49m\u001b[43margs\u001b[49m\u001b[43m,\u001b[49m\u001b[43m \u001b[49m\u001b[38;5;241;43m*\u001b[39;49m\u001b[38;5;241;43m*\u001b[39;49m\u001b[43mkwargs\u001b[49m\u001b[43m)\u001b[49m\n\u001b[1;32m     76\u001b[0m \u001b[38;5;66;03m# -- look for a chunking-strategy argument --\u001b[39;00m\n\u001b[1;32m     77\u001b[0m call_args \u001b[38;5;241m=\u001b[39m get_call_args_applying_defaults(func, \u001b[38;5;241m*\u001b[39margs, \u001b[38;5;241m*\u001b[39m\u001b[38;5;241m*\u001b[39mkwargs)\n",
      "File \u001b[0;32m~/.pyenv/versions/3.11.0/envs/unstructured-parser/lib/python3.11/site-packages/unstructured/partition/pdf.py:205\u001b[0m, in \u001b[0;36mpartition_pdf\u001b[0;34m(filename, file, include_page_breaks, strategy, infer_table_structure, ocr_languages, languages, include_metadata, metadata_filename, metadata_last_modified, chunking_strategy, hi_res_model_name, extract_images_in_pdf, extract_image_block_types, extract_image_block_output_dir, extract_image_block_to_payload, date_from_file_object, starting_page_number, extract_forms, form_extraction_skip_tables, **kwargs)\u001b[0m\n\u001b[1;32m    201\u001b[0m exactly_one(filename\u001b[38;5;241m=\u001b[39mfilename, file\u001b[38;5;241m=\u001b[39mfile)\n\u001b[1;32m    203\u001b[0m languages \u001b[38;5;241m=\u001b[39m check_language_args(languages \u001b[38;5;129;01mor\u001b[39;00m [], ocr_languages)\n\u001b[0;32m--> 205\u001b[0m \u001b[38;5;28;01mreturn\u001b[39;00m \u001b[43mpartition_pdf_or_image\u001b[49m\u001b[43m(\u001b[49m\n\u001b[1;32m    206\u001b[0m \u001b[43m    \u001b[49m\u001b[43mfilename\u001b[49m\u001b[38;5;241;43m=\u001b[39;49m\u001b[43mfilename\u001b[49m\u001b[43m,\u001b[49m\n\u001b[1;32m    207\u001b[0m \u001b[43m    \u001b[49m\u001b[43mfile\u001b[49m\u001b[38;5;241;43m=\u001b[39;49m\u001b[43mfile\u001b[49m\u001b[43m,\u001b[49m\n\u001b[1;32m    208\u001b[0m \u001b[43m    \u001b[49m\u001b[43minclude_page_breaks\u001b[49m\u001b[38;5;241;43m=\u001b[39;49m\u001b[43minclude_page_breaks\u001b[49m\u001b[43m,\u001b[49m\n\u001b[1;32m    209\u001b[0m \u001b[43m    \u001b[49m\u001b[43mstrategy\u001b[49m\u001b[38;5;241;43m=\u001b[39;49m\u001b[43mstrategy\u001b[49m\u001b[43m,\u001b[49m\n\u001b[1;32m    210\u001b[0m \u001b[43m    \u001b[49m\u001b[43minfer_table_structure\u001b[49m\u001b[38;5;241;43m=\u001b[39;49m\u001b[43minfer_table_structure\u001b[49m\u001b[43m,\u001b[49m\n\u001b[1;32m    211\u001b[0m \u001b[43m    \u001b[49m\u001b[43mlanguages\u001b[49m\u001b[38;5;241;43m=\u001b[39;49m\u001b[43mlanguages\u001b[49m\u001b[43m,\u001b[49m\n\u001b[1;32m    212\u001b[0m \u001b[43m    \u001b[49m\u001b[43mmetadata_last_modified\u001b[49m\u001b[38;5;241;43m=\u001b[39;49m\u001b[43mmetadata_last_modified\u001b[49m\u001b[43m,\u001b[49m\n\u001b[1;32m    213\u001b[0m \u001b[43m    \u001b[49m\u001b[43mhi_res_model_name\u001b[49m\u001b[38;5;241;43m=\u001b[39;49m\u001b[43mhi_res_model_name\u001b[49m\u001b[43m,\u001b[49m\n\u001b[1;32m    214\u001b[0m \u001b[43m    \u001b[49m\u001b[43mextract_images_in_pdf\u001b[49m\u001b[38;5;241;43m=\u001b[39;49m\u001b[43mextract_images_in_pdf\u001b[49m\u001b[43m,\u001b[49m\n\u001b[1;32m    215\u001b[0m \u001b[43m    \u001b[49m\u001b[43mextract_image_block_types\u001b[49m\u001b[38;5;241;43m=\u001b[39;49m\u001b[43mextract_image_block_types\u001b[49m\u001b[43m,\u001b[49m\n\u001b[1;32m    216\u001b[0m \u001b[43m    \u001b[49m\u001b[43mextract_image_block_output_dir\u001b[49m\u001b[38;5;241;43m=\u001b[39;49m\u001b[43mextract_image_block_output_dir\u001b[49m\u001b[43m,\u001b[49m\n\u001b[1;32m    217\u001b[0m \u001b[43m    \u001b[49m\u001b[43mextract_image_block_to_payload\u001b[49m\u001b[38;5;241;43m=\u001b[39;49m\u001b[43mextract_image_block_to_payload\u001b[49m\u001b[43m,\u001b[49m\n\u001b[1;32m    218\u001b[0m \u001b[43m    \u001b[49m\u001b[43mdate_from_file_object\u001b[49m\u001b[38;5;241;43m=\u001b[39;49m\u001b[43mdate_from_file_object\u001b[49m\u001b[43m,\u001b[49m\n\u001b[1;32m    219\u001b[0m \u001b[43m    \u001b[49m\u001b[43mstarting_page_number\u001b[49m\u001b[38;5;241;43m=\u001b[39;49m\u001b[43mstarting_page_number\u001b[49m\u001b[43m,\u001b[49m\n\u001b[1;32m    220\u001b[0m \u001b[43m    \u001b[49m\u001b[43mextract_forms\u001b[49m\u001b[38;5;241;43m=\u001b[39;49m\u001b[43mextract_forms\u001b[49m\u001b[43m,\u001b[49m\n\u001b[1;32m    221\u001b[0m \u001b[43m    \u001b[49m\u001b[43mform_extraction_skip_tables\u001b[49m\u001b[38;5;241;43m=\u001b[39;49m\u001b[43mform_extraction_skip_tables\u001b[49m\u001b[43m,\u001b[49m\n\u001b[1;32m    222\u001b[0m \u001b[43m    \u001b[49m\u001b[38;5;241;43m*\u001b[39;49m\u001b[38;5;241;43m*\u001b[39;49m\u001b[43mkwargs\u001b[49m\u001b[43m,\u001b[49m\n\u001b[1;32m    223\u001b[0m \u001b[43m\u001b[49m\u001b[43m)\u001b[49m\n",
      "File \u001b[0;32m~/.pyenv/versions/3.11.0/envs/unstructured-parser/lib/python3.11/site-packages/unstructured/partition/pdf.py:307\u001b[0m, in \u001b[0;36mpartition_pdf_or_image\u001b[0;34m(filename, file, is_image, include_page_breaks, strategy, infer_table_structure, languages, metadata_last_modified, hi_res_model_name, extract_images_in_pdf, extract_image_block_types, extract_image_block_output_dir, extract_image_block_to_payload, date_from_file_object, starting_page_number, extract_forms, form_extraction_skip_tables, **kwargs)\u001b[0m\n\u001b[1;32m    305\u001b[0m     \u001b[38;5;28;01mwith\u001b[39;00m warnings\u001b[38;5;241m.\u001b[39mcatch_warnings():\n\u001b[1;32m    306\u001b[0m         warnings\u001b[38;5;241m.\u001b[39msimplefilter(\u001b[38;5;124m\"\u001b[39m\u001b[38;5;124mignore\u001b[39m\u001b[38;5;124m\"\u001b[39m)\n\u001b[0;32m--> 307\u001b[0m         elements \u001b[38;5;241m=\u001b[39m \u001b[43m_partition_pdf_or_image_local\u001b[49m\u001b[43m(\u001b[49m\n\u001b[1;32m    308\u001b[0m \u001b[43m            \u001b[49m\u001b[43mfilename\u001b[49m\u001b[38;5;241;43m=\u001b[39;49m\u001b[43mfilename\u001b[49m\u001b[43m,\u001b[49m\n\u001b[1;32m    309\u001b[0m \u001b[43m            \u001b[49m\u001b[43mfile\u001b[49m\u001b[38;5;241;43m=\u001b[39;49m\u001b[43mspooled_to_bytes_io_if_needed\u001b[49m\u001b[43m(\u001b[49m\u001b[43mfile\u001b[49m\u001b[43m)\u001b[49m\u001b[43m,\u001b[49m\n\u001b[1;32m    310\u001b[0m \u001b[43m            \u001b[49m\u001b[43mis_image\u001b[49m\u001b[38;5;241;43m=\u001b[39;49m\u001b[43mis_image\u001b[49m\u001b[43m,\u001b[49m\n\u001b[1;32m    311\u001b[0m \u001b[43m            \u001b[49m\u001b[43minfer_table_structure\u001b[49m\u001b[38;5;241;43m=\u001b[39;49m\u001b[43minfer_table_structure\u001b[49m\u001b[43m,\u001b[49m\n\u001b[1;32m    312\u001b[0m \u001b[43m            \u001b[49m\u001b[43minclude_page_breaks\u001b[49m\u001b[38;5;241;43m=\u001b[39;49m\u001b[43minclude_page_breaks\u001b[49m\u001b[43m,\u001b[49m\n\u001b[1;32m    313\u001b[0m \u001b[43m            \u001b[49m\u001b[43mlanguages\u001b[49m\u001b[38;5;241;43m=\u001b[39;49m\u001b[43mlanguages\u001b[49m\u001b[43m,\u001b[49m\n\u001b[1;32m    314\u001b[0m \u001b[43m            \u001b[49m\u001b[43mocr_languages\u001b[49m\u001b[38;5;241;43m=\u001b[39;49m\u001b[43mocr_languages\u001b[49m\u001b[43m,\u001b[49m\n\u001b[1;32m    315\u001b[0m \u001b[43m            \u001b[49m\u001b[43mmetadata_last_modified\u001b[49m\u001b[38;5;241;43m=\u001b[39;49m\u001b[43mmetadata_last_modified\u001b[49m\u001b[43m \u001b[49m\u001b[38;5;129;43;01mor\u001b[39;49;00m\u001b[43m \u001b[49m\u001b[43mlast_modification_date\u001b[49m\u001b[43m,\u001b[49m\n\u001b[1;32m    316\u001b[0m \u001b[43m            \u001b[49m\u001b[43mhi_res_model_name\u001b[49m\u001b[38;5;241;43m=\u001b[39;49m\u001b[43mhi_res_model_name\u001b[49m\u001b[43m,\u001b[49m\n\u001b[1;32m    317\u001b[0m \u001b[43m            \u001b[49m\u001b[43mpdf_text_extractable\u001b[49m\u001b[38;5;241;43m=\u001b[39;49m\u001b[43mpdf_text_extractable\u001b[49m\u001b[43m,\u001b[49m\n\u001b[1;32m    318\u001b[0m \u001b[43m            \u001b[49m\u001b[43mextract_images_in_pdf\u001b[49m\u001b[38;5;241;43m=\u001b[39;49m\u001b[43mextract_images_in_pdf\u001b[49m\u001b[43m,\u001b[49m\n\u001b[1;32m    319\u001b[0m \u001b[43m            \u001b[49m\u001b[43mextract_image_block_types\u001b[49m\u001b[38;5;241;43m=\u001b[39;49m\u001b[43mextract_image_block_types\u001b[49m\u001b[43m,\u001b[49m\n\u001b[1;32m    320\u001b[0m \u001b[43m            \u001b[49m\u001b[43mextract_image_block_output_dir\u001b[49m\u001b[38;5;241;43m=\u001b[39;49m\u001b[43mextract_image_block_output_dir\u001b[49m\u001b[43m,\u001b[49m\n\u001b[1;32m    321\u001b[0m \u001b[43m            \u001b[49m\u001b[43mextract_image_block_to_payload\u001b[49m\u001b[38;5;241;43m=\u001b[39;49m\u001b[43mextract_image_block_to_payload\u001b[49m\u001b[43m,\u001b[49m\n\u001b[1;32m    322\u001b[0m \u001b[43m            \u001b[49m\u001b[43mstarting_page_number\u001b[49m\u001b[38;5;241;43m=\u001b[39;49m\u001b[43mstarting_page_number\u001b[49m\u001b[43m,\u001b[49m\n\u001b[1;32m    323\u001b[0m \u001b[43m            \u001b[49m\u001b[43mextract_forms\u001b[49m\u001b[38;5;241;43m=\u001b[39;49m\u001b[43mextract_forms\u001b[49m\u001b[43m,\u001b[49m\n\u001b[1;32m    324\u001b[0m \u001b[43m            \u001b[49m\u001b[43mform_extraction_skip_tables\u001b[49m\u001b[38;5;241;43m=\u001b[39;49m\u001b[43mform_extraction_skip_tables\u001b[49m\u001b[43m,\u001b[49m\n\u001b[1;32m    325\u001b[0m \u001b[43m            \u001b[49m\u001b[38;5;241;43m*\u001b[39;49m\u001b[38;5;241;43m*\u001b[39;49m\u001b[43mkwargs\u001b[49m\u001b[43m,\u001b[49m\n\u001b[1;32m    326\u001b[0m \u001b[43m        \u001b[49m\u001b[43m)\u001b[49m\n\u001b[1;32m    327\u001b[0m         out_elements \u001b[38;5;241m=\u001b[39m _process_uncategorized_text_elements(elements)\n\u001b[1;32m    329\u001b[0m \u001b[38;5;28;01melif\u001b[39;00m strategy \u001b[38;5;241m==\u001b[39m PartitionStrategy\u001b[38;5;241m.\u001b[39mFAST:\n",
      "File \u001b[0;32m~/.pyenv/versions/3.11.0/envs/unstructured-parser/lib/python3.11/site-packages/unstructured/utils.py:217\u001b[0m, in \u001b[0;36mrequires_dependencies.<locals>.decorator.<locals>.wrapper\u001b[0;34m(*args, **kwargs)\u001b[0m\n\u001b[1;32m    214\u001b[0m \u001b[38;5;129m@wraps\u001b[39m(func)\n\u001b[1;32m    215\u001b[0m \u001b[38;5;28;01mdef\u001b[39;00m \u001b[38;5;21mwrapper\u001b[39m(\u001b[38;5;241m*\u001b[39margs: _P\u001b[38;5;241m.\u001b[39margs, \u001b[38;5;241m*\u001b[39m\u001b[38;5;241m*\u001b[39mkwargs: _P\u001b[38;5;241m.\u001b[39mkwargs):\n\u001b[1;32m    216\u001b[0m     run_check()\n\u001b[0;32m--> 217\u001b[0m     \u001b[38;5;28;01mreturn\u001b[39;00m \u001b[43mfunc\u001b[49m\u001b[43m(\u001b[49m\u001b[38;5;241;43m*\u001b[39;49m\u001b[43margs\u001b[49m\u001b[43m,\u001b[49m\u001b[43m \u001b[49m\u001b[38;5;241;43m*\u001b[39;49m\u001b[38;5;241;43m*\u001b[39;49m\u001b[43mkwargs\u001b[49m\u001b[43m)\u001b[49m\n",
      "File \u001b[0;32m~/.pyenv/versions/3.11.0/envs/unstructured-parser/lib/python3.11/site-packages/unstructured/partition/pdf.py:595\u001b[0m, in \u001b[0;36m_partition_pdf_or_image_local\u001b[0;34m(filename, file, is_image, infer_table_structure, include_page_breaks, languages, ocr_languages, ocr_mode, model_name, hi_res_model_name, pdf_image_dpi, metadata_last_modified, pdf_text_extractable, extract_images_in_pdf, extract_image_block_types, extract_image_block_output_dir, extract_image_block_to_payload, analysis, analyzed_image_output_dir_path, starting_page_number, extract_forms, form_extraction_skip_tables, pdf_hi_res_max_pages, **kwargs)\u001b[0m\n\u001b[1;32m    592\u001b[0m skip_analysis_dump \u001b[38;5;241m=\u001b[39m env_config\u001b[38;5;241m.\u001b[39mANALYSIS_DUMP_OD_SKIP\n\u001b[1;32m    594\u001b[0m \u001b[38;5;28;01mif\u001b[39;00m file \u001b[38;5;129;01mis\u001b[39;00m \u001b[38;5;28;01mNone\u001b[39;00m:\n\u001b[0;32m--> 595\u001b[0m     inferred_document_layout \u001b[38;5;241m=\u001b[39m \u001b[43mprocess_file_with_model\u001b[49m\u001b[43m(\u001b[49m\n\u001b[1;32m    596\u001b[0m \u001b[43m        \u001b[49m\u001b[43mfilename\u001b[49m\u001b[43m,\u001b[49m\n\u001b[1;32m    597\u001b[0m \u001b[43m        \u001b[49m\u001b[43mis_image\u001b[49m\u001b[38;5;241;43m=\u001b[39;49m\u001b[43mis_image\u001b[49m\u001b[43m,\u001b[49m\n\u001b[1;32m    598\u001b[0m \u001b[43m        \u001b[49m\u001b[43mmodel_name\u001b[49m\u001b[38;5;241;43m=\u001b[39;49m\u001b[43mhi_res_model_name\u001b[49m\u001b[43m,\u001b[49m\n\u001b[1;32m    599\u001b[0m \u001b[43m        \u001b[49m\u001b[43mpdf_image_dpi\u001b[49m\u001b[38;5;241;43m=\u001b[39;49m\u001b[43mpdf_image_dpi\u001b[49m\u001b[43m,\u001b[49m\n\u001b[1;32m    600\u001b[0m \u001b[43m    \u001b[49m\u001b[43m)\u001b[49m\n\u001b[1;32m    602\u001b[0m     \u001b[38;5;28;01mif\u001b[39;00m hi_res_model_name\u001b[38;5;241m.\u001b[39mstartswith(\u001b[38;5;124m\"\u001b[39m\u001b[38;5;124mchipper\u001b[39m\u001b[38;5;124m\"\u001b[39m):\n\u001b[1;32m    603\u001b[0m         \u001b[38;5;66;03m# NOTE(alan): We shouldn't do OCR with chipper\u001b[39;00m\n\u001b[1;32m    604\u001b[0m         \u001b[38;5;66;03m# NOTE(antonio): We shouldn't do PDFMiner with chipper\u001b[39;00m\n\u001b[1;32m    605\u001b[0m         final_document_layout \u001b[38;5;241m=\u001b[39m inferred_document_layout\n",
      "File \u001b[0;32m~/.pyenv/versions/3.11.0/envs/unstructured-parser/lib/python3.11/site-packages/unstructured_inference/inference/layout.py:370\u001b[0m, in \u001b[0;36mprocess_file_with_model\u001b[0;34m(filename, model_name, is_image, fixed_layouts, pdf_image_dpi, **kwargs)\u001b[0m\n\u001b[1;32m    360\u001b[0m \u001b[38;5;28;01melse\u001b[39;00m:\n\u001b[1;32m    361\u001b[0m     \u001b[38;5;28;01mraise\u001b[39;00m \u001b[38;5;167;01mValueError\u001b[39;00m(\u001b[38;5;124mf\u001b[39m\u001b[38;5;124m\"\u001b[39m\u001b[38;5;124mUnsupported model type: \u001b[39m\u001b[38;5;132;01m{\u001b[39;00m\u001b[38;5;28mtype\u001b[39m(model)\u001b[38;5;132;01m}\u001b[39;00m\u001b[38;5;124m\"\u001b[39m)\n\u001b[1;32m    362\u001b[0m layout \u001b[38;5;241m=\u001b[39m (\n\u001b[1;32m    363\u001b[0m     DocumentLayout\u001b[38;5;241m.\u001b[39mfrom_image_file(\n\u001b[1;32m    364\u001b[0m         filename,\n\u001b[1;32m    365\u001b[0m         detection_model\u001b[38;5;241m=\u001b[39mdetection_model,\n\u001b[1;32m    366\u001b[0m         element_extraction_model\u001b[38;5;241m=\u001b[39melement_extraction_model,\n\u001b[1;32m    367\u001b[0m         \u001b[38;5;241m*\u001b[39m\u001b[38;5;241m*\u001b[39mkwargs,\n\u001b[1;32m    368\u001b[0m     )\n\u001b[1;32m    369\u001b[0m     \u001b[38;5;28;01mif\u001b[39;00m is_image\n\u001b[0;32m--> 370\u001b[0m     \u001b[38;5;28;01melse\u001b[39;00m \u001b[43mDocumentLayout\u001b[49m\u001b[38;5;241;43m.\u001b[39;49m\u001b[43mfrom_file\u001b[49m\u001b[43m(\u001b[49m\n\u001b[1;32m    371\u001b[0m \u001b[43m        \u001b[49m\u001b[43mfilename\u001b[49m\u001b[43m,\u001b[49m\n\u001b[1;32m    372\u001b[0m \u001b[43m        \u001b[49m\u001b[43mdetection_model\u001b[49m\u001b[38;5;241;43m=\u001b[39;49m\u001b[43mdetection_model\u001b[49m\u001b[43m,\u001b[49m\n\u001b[1;32m    373\u001b[0m \u001b[43m        \u001b[49m\u001b[43melement_extraction_model\u001b[49m\u001b[38;5;241;43m=\u001b[39;49m\u001b[43melement_extraction_model\u001b[49m\u001b[43m,\u001b[49m\n\u001b[1;32m    374\u001b[0m \u001b[43m        \u001b[49m\u001b[43mfixed_layouts\u001b[49m\u001b[38;5;241;43m=\u001b[39;49m\u001b[43mfixed_layouts\u001b[49m\u001b[43m,\u001b[49m\n\u001b[1;32m    375\u001b[0m \u001b[43m        \u001b[49m\u001b[43mpdf_image_dpi\u001b[49m\u001b[38;5;241;43m=\u001b[39;49m\u001b[43mpdf_image_dpi\u001b[49m\u001b[43m,\u001b[49m\n\u001b[1;32m    376\u001b[0m \u001b[43m        \u001b[49m\u001b[38;5;241;43m*\u001b[39;49m\u001b[38;5;241;43m*\u001b[39;49m\u001b[43mkwargs\u001b[49m\u001b[43m,\u001b[49m\n\u001b[1;32m    377\u001b[0m \u001b[43m    \u001b[49m\u001b[43m)\u001b[49m\n\u001b[1;32m    378\u001b[0m )\n\u001b[1;32m    379\u001b[0m \u001b[38;5;28;01mreturn\u001b[39;00m layout\n",
      "File \u001b[0;32m~/.pyenv/versions/3.11.0/envs/unstructured-parser/lib/python3.11/site-packages/unstructured_inference/inference/layout.py:77\u001b[0m, in \u001b[0;36mDocumentLayout.from_file\u001b[0;34m(cls, filename, fixed_layouts, pdf_image_dpi, **kwargs)\u001b[0m\n\u001b[1;32m     73\u001b[0m \u001b[38;5;28;01mfor\u001b[39;00m i, (image_path, fixed_layout) \u001b[38;5;129;01min\u001b[39;00m \u001b[38;5;28menumerate\u001b[39m(\u001b[38;5;28mzip\u001b[39m(image_paths, fixed_layouts)):\n\u001b[1;32m     74\u001b[0m     \u001b[38;5;66;03m# NOTE(robinson) - In the future, maybe we detect the page number and default\u001b[39;00m\n\u001b[1;32m     75\u001b[0m     \u001b[38;5;66;03m# to the index if it is not detected\u001b[39;00m\n\u001b[1;32m     76\u001b[0m     \u001b[38;5;28;01mwith\u001b[39;00m Image\u001b[38;5;241m.\u001b[39mopen(image_path) \u001b[38;5;28;01mas\u001b[39;00m image:\n\u001b[0;32m---> 77\u001b[0m         page \u001b[38;5;241m=\u001b[39m \u001b[43mPageLayout\u001b[49m\u001b[38;5;241;43m.\u001b[39;49m\u001b[43mfrom_image\u001b[49m\u001b[43m(\u001b[49m\n\u001b[1;32m     78\u001b[0m \u001b[43m            \u001b[49m\u001b[43mimage\u001b[49m\u001b[43m,\u001b[49m\n\u001b[1;32m     79\u001b[0m \u001b[43m            \u001b[49m\u001b[43mnumber\u001b[49m\u001b[38;5;241;43m=\u001b[39;49m\u001b[43mi\u001b[49m\u001b[43m \u001b[49m\u001b[38;5;241;43m+\u001b[39;49m\u001b[43m \u001b[49m\u001b[38;5;241;43m1\u001b[39;49m\u001b[43m,\u001b[49m\n\u001b[1;32m     80\u001b[0m \u001b[43m            \u001b[49m\u001b[43mdocument_filename\u001b[49m\u001b[38;5;241;43m=\u001b[39;49m\u001b[43mfilename\u001b[49m\u001b[43m,\u001b[49m\n\u001b[1;32m     81\u001b[0m \u001b[43m            \u001b[49m\u001b[43mfixed_layout\u001b[49m\u001b[38;5;241;43m=\u001b[39;49m\u001b[43mfixed_layout\u001b[49m\u001b[43m,\u001b[49m\n\u001b[1;32m     82\u001b[0m \u001b[43m            \u001b[49m\u001b[38;5;241;43m*\u001b[39;49m\u001b[38;5;241;43m*\u001b[39;49m\u001b[43mkwargs\u001b[49m\u001b[43m,\u001b[49m\n\u001b[1;32m     83\u001b[0m \u001b[43m        \u001b[49m\u001b[43m)\u001b[49m\n\u001b[1;32m     84\u001b[0m         pages\u001b[38;5;241m.\u001b[39mappend(page)\n\u001b[1;32m     85\u001b[0m \u001b[38;5;28;01mreturn\u001b[39;00m \u001b[38;5;28mcls\u001b[39m\u001b[38;5;241m.\u001b[39mfrom_pages(pages)\n",
      "File \u001b[0;32m~/.pyenv/versions/3.11.0/envs/unstructured-parser/lib/python3.11/site-packages/unstructured_inference/inference/layout.py:305\u001b[0m, in \u001b[0;36mPageLayout.from_image\u001b[0;34m(cls, image, image_path, document_filename, number, detection_model, element_extraction_model, fixed_layout)\u001b[0m\n\u001b[1;32m    303\u001b[0m     page\u001b[38;5;241m.\u001b[39mget_elements_using_image_extraction()\n\u001b[1;32m    304\u001b[0m \u001b[38;5;28;01melif\u001b[39;00m fixed_layout \u001b[38;5;129;01mis\u001b[39;00m \u001b[38;5;28;01mNone\u001b[39;00m:\n\u001b[0;32m--> 305\u001b[0m     \u001b[43mpage\u001b[49m\u001b[38;5;241;43m.\u001b[39;49m\u001b[43mget_elements_with_detection_model\u001b[49m\u001b[43m(\u001b[49m\u001b[43m)\u001b[49m\n\u001b[1;32m    306\u001b[0m \u001b[38;5;28;01melse\u001b[39;00m:\n\u001b[1;32m    307\u001b[0m     page\u001b[38;5;241m.\u001b[39melements \u001b[38;5;241m=\u001b[39m []\n",
      "File \u001b[0;32m~/.pyenv/versions/3.11.0/envs/unstructured-parser/lib/python3.11/site-packages/unstructured_inference/inference/layout.py:190\u001b[0m, in \u001b[0;36mPageLayout.get_elements_with_detection_model\u001b[0;34m(self, inplace)\u001b[0m\n\u001b[1;32m    187\u001b[0m \u001b[38;5;66;03m# NOTE(mrobinson) - We'll want make this model inference step some kind of\u001b[39;00m\n\u001b[1;32m    188\u001b[0m \u001b[38;5;66;03m# remote call in the future.\u001b[39;00m\n\u001b[1;32m    189\u001b[0m \u001b[38;5;28;01massert\u001b[39;00m \u001b[38;5;28mself\u001b[39m\u001b[38;5;241m.\u001b[39mimage \u001b[38;5;129;01mis\u001b[39;00m \u001b[38;5;129;01mnot\u001b[39;00m \u001b[38;5;28;01mNone\u001b[39;00m\n\u001b[0;32m--> 190\u001b[0m inferred_layout: List[LayoutElement] \u001b[38;5;241m=\u001b[39m \u001b[38;5;28;43mself\u001b[39;49m\u001b[38;5;241;43m.\u001b[39;49m\u001b[43mdetection_model\u001b[49m\u001b[43m(\u001b[49m\u001b[38;5;28;43mself\u001b[39;49m\u001b[38;5;241;43m.\u001b[39;49m\u001b[43mimage\u001b[49m\u001b[43m)\u001b[49m\n\u001b[1;32m    191\u001b[0m inferred_layout \u001b[38;5;241m=\u001b[39m \u001b[38;5;28mself\u001b[39m\u001b[38;5;241m.\u001b[39mdetection_model\u001b[38;5;241m.\u001b[39mdeduplicate_detected_elements(\n\u001b[1;32m    192\u001b[0m     inferred_layout,\n\u001b[1;32m    193\u001b[0m )\n\u001b[1;32m    195\u001b[0m \u001b[38;5;28;01mif\u001b[39;00m inplace:\n",
      "File \u001b[0;32m~/.pyenv/versions/3.11.0/envs/unstructured-parser/lib/python3.11/site-packages/unstructured_inference/models/unstructuredmodel.py:61\u001b[0m, in \u001b[0;36mUnstructuredObjectDetectionModel.__call__\u001b[0;34m(self, x)\u001b[0m\n\u001b[1;32m     59\u001b[0m \u001b[38;5;28;01mdef\u001b[39;00m \u001b[38;5;21m__call__\u001b[39m(\u001b[38;5;28mself\u001b[39m, x: Image) \u001b[38;5;241m-\u001b[39m\u001b[38;5;241m>\u001b[39m List[LayoutElement]:\n\u001b[1;32m     60\u001b[0m \u001b[38;5;250m    \u001b[39m\u001b[38;5;124;03m\"\"\"Inference using function call interface.\"\"\"\u001b[39;00m\n\u001b[0;32m---> 61\u001b[0m     \u001b[38;5;28;01mreturn\u001b[39;00m \u001b[38;5;28;43msuper\u001b[39;49m\u001b[43m(\u001b[49m\u001b[43m)\u001b[49m\u001b[38;5;241;43m.\u001b[39;49m\u001b[38;5;21;43m__call__\u001b[39;49m\u001b[43m(\u001b[49m\u001b[43mx\u001b[49m\u001b[43m)\u001b[49m\n",
      "File \u001b[0;32m~/.pyenv/versions/3.11.0/envs/unstructured-parser/lib/python3.11/site-packages/unstructured_inference/models/unstructuredmodel.py:42\u001b[0m, in \u001b[0;36mUnstructuredModel.__call__\u001b[0;34m(self, x)\u001b[0m\n\u001b[1;32m     40\u001b[0m \u001b[38;5;28;01mdef\u001b[39;00m \u001b[38;5;21m__call__\u001b[39m(\u001b[38;5;28mself\u001b[39m, x: Any) \u001b[38;5;241m-\u001b[39m\u001b[38;5;241m>\u001b[39m Any:\n\u001b[1;32m     41\u001b[0m \u001b[38;5;250m    \u001b[39m\u001b[38;5;124;03m\"\"\"Inference using function call interface.\"\"\"\u001b[39;00m\n\u001b[0;32m---> 42\u001b[0m     \u001b[38;5;28;01mreturn\u001b[39;00m \u001b[38;5;28;43mself\u001b[39;49m\u001b[38;5;241;43m.\u001b[39;49m\u001b[43mpredict\u001b[49m\u001b[43m(\u001b[49m\u001b[43mx\u001b[49m\u001b[43m)\u001b[49m\n",
      "File \u001b[0;32m~/.pyenv/versions/3.11.0/envs/unstructured-parser/lib/python3.11/site-packages/unstructured_inference/models/yolox.py:69\u001b[0m, in \u001b[0;36mUnstructuredYoloXModel.predict\u001b[0;34m(self, x)\u001b[0m\n\u001b[1;32m     67\u001b[0m \u001b[38;5;250m\u001b[39m\u001b[38;5;124;03m\"\"\"Predict using YoloX model.\"\"\"\u001b[39;00m\n\u001b[1;32m     68\u001b[0m \u001b[38;5;28msuper\u001b[39m()\u001b[38;5;241m.\u001b[39mpredict(x)\n\u001b[0;32m---> 69\u001b[0m \u001b[38;5;28;01mreturn\u001b[39;00m \u001b[38;5;28;43mself\u001b[39;49m\u001b[38;5;241;43m.\u001b[39;49m\u001b[43mimage_processing\u001b[49m\u001b[43m(\u001b[49m\u001b[43mx\u001b[49m\u001b[43m)\u001b[49m\n",
      "File \u001b[0;32m~/.pyenv/versions/3.11.0/envs/unstructured-parser/lib/python3.11/site-packages/unstructured_inference/models/yolox.py:114\u001b[0m, in \u001b[0;36mUnstructuredYoloXModel.image_processing\u001b[0;34m(self, image)\u001b[0m\n\u001b[1;32m    111\u001b[0m session \u001b[38;5;241m=\u001b[39m \u001b[38;5;28mself\u001b[39m\u001b[38;5;241m.\u001b[39mmodel\n\u001b[1;32m    113\u001b[0m ort_inputs \u001b[38;5;241m=\u001b[39m {session\u001b[38;5;241m.\u001b[39mget_inputs()[\u001b[38;5;241m0\u001b[39m]\u001b[38;5;241m.\u001b[39mname: img[\u001b[38;5;28;01mNone\u001b[39;00m, :, :, :]}\n\u001b[0;32m--> 114\u001b[0m output \u001b[38;5;241m=\u001b[39m \u001b[43msession\u001b[49m\u001b[38;5;241;43m.\u001b[39;49m\u001b[43mrun\u001b[49m\u001b[43m(\u001b[49m\u001b[38;5;28;43;01mNone\u001b[39;49;00m\u001b[43m,\u001b[49m\u001b[43m \u001b[49m\u001b[43mort_inputs\u001b[49m\u001b[43m)\u001b[49m\n\u001b[1;32m    115\u001b[0m \u001b[38;5;66;03m# TODO(benjamin): check for p6\u001b[39;00m\n\u001b[1;32m    116\u001b[0m predictions \u001b[38;5;241m=\u001b[39m demo_postprocess(output[\u001b[38;5;241m0\u001b[39m], input_shape, p6\u001b[38;5;241m=\u001b[39m\u001b[38;5;28;01mFalse\u001b[39;00m)[\u001b[38;5;241m0\u001b[39m]\n",
      "File \u001b[0;32m~/.pyenv/versions/3.11.0/envs/unstructured-parser/lib/python3.11/site-packages/onnxruntime/capi/onnxruntime_inference_collection.py:220\u001b[0m, in \u001b[0;36mSession.run\u001b[0;34m(self, output_names, input_feed, run_options)\u001b[0m\n\u001b[1;32m    218\u001b[0m     output_names \u001b[38;5;241m=\u001b[39m [output\u001b[38;5;241m.\u001b[39mname \u001b[38;5;28;01mfor\u001b[39;00m output \u001b[38;5;129;01min\u001b[39;00m \u001b[38;5;28mself\u001b[39m\u001b[38;5;241m.\u001b[39m_outputs_meta]\n\u001b[1;32m    219\u001b[0m \u001b[38;5;28;01mtry\u001b[39;00m:\n\u001b[0;32m--> 220\u001b[0m     \u001b[38;5;28;01mreturn\u001b[39;00m \u001b[38;5;28;43mself\u001b[39;49m\u001b[38;5;241;43m.\u001b[39;49m\u001b[43m_sess\u001b[49m\u001b[38;5;241;43m.\u001b[39;49m\u001b[43mrun\u001b[49m\u001b[43m(\u001b[49m\u001b[43moutput_names\u001b[49m\u001b[43m,\u001b[49m\u001b[43m \u001b[49m\u001b[43minput_feed\u001b[49m\u001b[43m,\u001b[49m\u001b[43m \u001b[49m\u001b[43mrun_options\u001b[49m\u001b[43m)\u001b[49m\n\u001b[1;32m    221\u001b[0m \u001b[38;5;28;01mexcept\u001b[39;00m C\u001b[38;5;241m.\u001b[39mEPFail \u001b[38;5;28;01mas\u001b[39;00m err:\n\u001b[1;32m    222\u001b[0m     \u001b[38;5;28;01mif\u001b[39;00m \u001b[38;5;28mself\u001b[39m\u001b[38;5;241m.\u001b[39m_enable_fallback:\n",
      "\u001b[0;31mKeyboardInterrupt\u001b[0m: "
     ]
    }
   ],
   "source": [
    "elements = partition(filename=text_pdf_filename, strategy='hi_res')\n",
    "# chunks_el = chunk_elements(elements, max_characters=1024, overlap=204)"
   ]
  },
  {
   "cell_type": "code",
   "execution_count": 4,
   "metadata": {},
   "outputs": [
    {
     "name": "stdout",
     "output_type": "stream",
     "text": [
      "Number of elements: 178\n"
     ]
    }
   ],
   "source": [
    "print(\"Number of elements:\", len(elements))\n",
    "# print(\"Number of chunks:\", len(chunks_el))\n",
    "\n",
    "# max([len(chunk.text) for chunk in chunks_el])\n",
    "\n"
   ]
  },
  {
   "cell_type": "code",
   "execution_count": 5,
   "metadata": {},
   "outputs": [],
   "source": [
    "image_elememts = partition(filename=text_pdf_filename)"
   ]
  },
  {
   "cell_type": "code",
   "execution_count": 6,
   "metadata": {},
   "outputs": [],
   "source": [
    "pdf_table_elements = partition(filename=table_img_pdf_filename)"
   ]
  },
  {
   "cell_type": "code",
   "execution_count": 42,
   "metadata": {},
   "outputs": [],
   "source": [
    "img_pdf_elements = partition(filename=img_pdf_filename)"
   ]
  },
  {
   "cell_type": "code",
   "execution_count": 4,
   "metadata": {},
   "outputs": [
    {
     "name": "stderr",
     "output_type": "stream",
     "text": [
      "The pdf_infer_table_structure kwarg is deprecated. Please use skip_infer_table_types instead.\n",
      "/home/parjua/.pyenv/versions/3.11.0/envs/unstructured-parser/lib/python3.11/site-packages/tqdm/auto.py:21: TqdmWarning: IProgress not found. Please update jupyter and ipywidgets. See https://ipywidgets.readthedocs.io/en/stable/user_install.html\n",
      "  from .autonotebook import tqdm as notebook_tqdm\n",
      "Some weights of the model checkpoint at microsoft/table-transformer-structure-recognition were not used when initializing TableTransformerForObjectDetection: ['model.backbone.conv_encoder.model.layer2.0.downsample.1.num_batches_tracked', 'model.backbone.conv_encoder.model.layer3.0.downsample.1.num_batches_tracked', 'model.backbone.conv_encoder.model.layer4.0.downsample.1.num_batches_tracked']\n",
      "- This IS expected if you are initializing TableTransformerForObjectDetection from the checkpoint of a model trained on another task or with another architecture (e.g. initializing a BertForSequenceClassification model from a BertForPreTraining model).\n",
      "- This IS NOT expected if you are initializing TableTransformerForObjectDetection from the checkpoint of a model that you expect to be exactly identical (initializing a BertForSequenceClassification model from a BertForSequenceClassification model).\n"
     ]
    }
   ],
   "source": [
    "prodesa_alameda_elements = partition(filename=prodesa_alameda_pdf_filename, strategy='hi_res', pdf_infer_table_structure=True)"
   ]
  },
  {
   "cell_type": "code",
   "execution_count": 24,
   "metadata": {},
   "outputs": [],
   "source": [
    "prodesa_alameda_chunks = chunk_by_title(prodesa_alameda_elements, max_characters=15024, overlap=204)"
   ]
  },
  {
   "cell_type": "code",
   "execution_count": 12,
   "metadata": {},
   "outputs": [
    {
     "name": "stdout",
     "output_type": "stream",
     "text": [
      "% A VIVIENDA A TERRAZAS AREA TOTAL UNIDADES APTO TIPO A 75,35 4,95 80,30 180 APTO TIPO B 65,35 5,02 70,37 171 APTO TIPO C 56,57 5,02 61,59 9 APTO TIPO D 58,54 0,00 58,54 60 APTO TIPO D1 58,69 0,00 58,69 30 APTO TIPO D2 58,89 0,00 58,89 2 APTO TIPO D3 58,59 0,00 58,59 28 APTO TIPO D4 58,77 0,00 58,77 28 APTO TIPO E 49,51 0,00 49,51 2\n"
     ]
    }
   ],
   "source": [
    "print(prodesa_alameda_chunks[1].text)"
   ]
  },
  {
   "cell_type": "code",
   "execution_count": 25,
   "metadata": {},
   "outputs": [
    {
     "data": {
      "text/plain": [
       "7"
      ]
     },
     "execution_count": 25,
     "metadata": {},
     "output_type": "execute_result"
    }
   ],
   "source": [
    "len(prodesa_alameda_chunks)"
   ]
  },
  {
   "cell_type": "markdown",
   "metadata": {},
   "source": [
    "## Parsing"
   ]
  },
  {
   "cell_type": "code",
   "execution_count": 174,
   "metadata": {},
   "outputs": [],
   "source": [
    "import requests\n",
    "import json\n",
    "\n",
    "url = \"http://localhost:8081\"\n",
    "headers = {\n",
    "    \"Content-Type\": \"application/json\"\n",
    "}\n",
    "\n",
    "def get_schema(json_nodes, text, schema, outputs=[\"extraction\", \"res\"], **kwargs):\n",
    "    data = {\n",
    "        \"flow_id\": \"LLM_FLW_01HSEZDCTRGPSX11DDWH21K0XX\",\n",
    "        \"outputs\": outputs,\n",
    "        \"custom_values\": {\n",
    "            \"language\": \"ES_CO\",\n",
    "            \"identified_nodes\": json_nodes,\n",
    "            \"optional_schema\": schema,\n",
    "            \"contextual_text\": text,\n",
    "            **kwargs\n",
    "        }\n",
    "    }\n",
    "\n",
    "    response = requests.post(url, headers=headers, data=json.dumps(data)).json()[\"result\"][\"user_defined_outputs\"]\n",
    "    print(response)\n",
    "\n",
    "    parsed_value = response[1][\"value\"]\n",
    "    # parsed_extraction = response[0][\"value\"]\n",
    "\n",
    "    # print(parsed_extraction)\n",
    "    nodes = parsed_value[\"entities\"]\n",
    "    relations = parsed_value[\"relations\"]\n",
    "\n",
    "    nodes_df = pd.DataFrame(nodes)\n",
    "    relations_df = pd.DataFrame(relations)\n",
    "\n",
    "    return nodes_df, relations_df\n",
    "\n",
    "def merge_schemas(df1, df2, join_indices):\n",
    "    df_merged = pd.merge(df1, df2, on=join_indices, how='outer', suffixes=('_left', '_right'))\n",
    "\n",
    "    df_merged['props'] = df_merged.apply(\n",
    "        lambda row: {**(row['props_left'] if isinstance(row['props_left'], dict) else {}),\n",
    "                     **(row['props_right'] if isinstance(row['props_right'], dict) else {})},\n",
    "        axis=1\n",
    "    )\n",
    "\n",
    "    df_merged['type'] = df_merged.apply(\n",
    "        lambda row: row['type_left'] if not pd.isna(row['type_left']) else row['type_right'],\n",
    "        axis=1\n",
    "    )\n",
    "\n",
    "    df_final = df_merged[join_indices + ['type', 'props']]\n",
    "\n",
    "    return df_final"
   ]
  },
  {
   "cell_type": "code",
   "execution_count": 144,
   "metadata": {},
   "outputs": [
    {
     "name": "stdout",
     "output_type": "stream",
     "text": [
      "[{'name': 'extraction', 'description': None, 'value': '# Extracted Entities and Relationships\\n\\n## Nodes\\n\\n1. **Ciudad**\\n   - Nombre: Barranquilla\\n   - Departamento: Atlántico\\n\\n2. **Macroproyecto**\\n   - Nombre: Alameda del Rio\\n   - Ubicación: Predios de \"El Volador\", Avenida Circunvalar, entre carreras 38 y 46\\n   - Características:\\n     - 92 hectáreas destinadas a espacio público\\n     - 89 hectáreas de vivienda, comercio y equipamientos\\n     - Capacidad para 22,000 familias\\n     - 50 hectáreas de parques, alamedas, andenes y ciclorrutas\\n\\n3. **Proyecto**\\n   - Nombre: Pardela\\n   - Localización: M-R14 del Macroproyecto Alameda del Rio\\n   - Estrato Socio-Económico: 3-4\\n   - Área Construida Total: 61,358.83 m²\\n   - Área de Vivienda: 35,817.56 m²\\n   - Unidades de Vivienda: 510\\n   - Torres: 4 (3 torres de 15 pisos con 8 apartamentos por piso, 1 torre de 15 pisos con 10 apartamentos por piso)\\n   - Sistema Constructivo: Muros estructurales de concreto\\n\\n4. **Tipo_Apto**\\n   - Tipo A\\n     - Área: 80.0 m²\\n   - Tipo B\\n     - Área: 70.0 m²\\n   - Tipo D\\n     - Área: 57.0 m²\\n\\n## Relationships\\n\\n1. **HAS**\\n   - From: Macroproyecto (Alameda del Rio)\\n   - To: Proyecto (Pardela)\\n\\n2. **HAS**\\n   - From: Proyecto (Pardela)\\n   - To: Tipo_Apto (Tipo A, Tipo B, Tipo D)\\n\\n3. **HAS**\\n   - From: Ciudad (Barranquilla)\\n   - To: Macroproyecto (Alameda del Rio)'}, {'name': 'res', 'description': None, 'value': {'relations': [{'from_entity_id': 'CIUDAD_BARRANQUILLA', 'type': 'HAS', 'to_entity_id': 'MACROPROYECTO_ALAMEDA_DEL_RIO', 'props': []}, {'from_entity_id': 'MACROPROYECTO_ALAMEDA_DEL_RIO', 'type': 'HAS', 'to_entity_id': 'PROYECTO_PARDELA', 'props': []}, {'from_entity_id': 'PROYECTO_PARDELA', 'type': 'HAS', 'to_entity_id': 'TIPO_APTO_TIPO_A', 'props': []}, {'from_entity_id': 'PROYECTO_PARDELA', 'type': 'HAS', 'to_entity_id': 'TIPO_APTO_TIPO_B', 'props': []}, {'from_entity_id': 'PROYECTO_PARDELA', 'type': 'HAS', 'to_entity_id': 'TIPO_APTO_TIPO_D', 'props': []}], 'entities': [{'type': 'CIUDAD', 'entity_id': 'CIUDAD_BARRANQUILLA', 'props': [{'name': 'nombre', 'value': 'Barranquilla'}, {'name': 'departamento', 'value': 'Atlántico'}]}, {'type': 'MACROPROYECTO', 'entity_id': 'MACROPROYECTO_ALAMEDA_DEL_RIO', 'props': [{'name': 'nombre', 'value': 'Alameda del Rio'}, {'name': 'ubicacion', 'value': 'Predios de \"El Volador\", Avenida Circunvalar, entre carreras 38 y 46'}, {'name': 'caracteristicas', 'value': '92 hectáreas destinadas a espacio público, 89 hectáreas de vivienda, comercio y equipamientos, Capacidad para 22,000 familias, 50 hectáreas de parques, alamedas, andenes y ciclorrutas'}]}, {'type': 'PROYECTO', 'entity_id': 'PROYECTO_PARDELA', 'props': [{'name': 'nombre', 'value': 'Pardela'}, {'name': 'localizacion', 'value': 'M-R14 del Macroproyecto Alameda del Rio'}, {'name': 'estrato_socio_economico', 'value': '3-4'}, {'name': 'area_construida_total', 'value': '61,358.83 m²'}, {'name': 'area_de_vivienda', 'value': '35,817.56 m²'}, {'name': 'unidades_de_vivienda', 'value': '510'}, {'name': 'torres', 'value': '4 (3 torres de 15 pisos con 8 apartamentos por piso, 1 torre de 15 pisos con 10 apartamentos por piso)'}, {'name': 'sistema_constructivo', 'value': 'Muros estructurales de concreto'}]}, {'type': 'TIPO_APTO', 'entity_id': 'TIPO_APTO_TIPO_A', 'props': [{'name': 'tipo', 'value': 'A'}, {'name': 'area', 'value': '80.0 m²'}]}, {'type': 'TIPO_APTO', 'entity_id': 'TIPO_APTO_TIPO_B', 'props': [{'name': 'tipo', 'value': 'B'}, {'name': 'area', 'value': '70.0 m²'}]}, {'type': 'TIPO_APTO', 'entity_id': 'TIPO_APTO_TIPO_D', 'props': [{'name': 'tipo', 'value': 'D'}, {'name': 'area', 'value': '57.0 m²'}]}]}}]\n",
      "[{'name': 'extraction', 'description': None, 'value': '# Extracted Entities and Relationships\\n\\n1. **Entity: TIPO_APTO_TIPO_A**\\n   - Type: TIPO_APTO\\n   - Properties:\\n     - Tipo: A\\n     - Área de Vivienda: 75.35 m²\\n     - Área de Terrazas: 4.95 m²\\n     - Área Total: 80.30 m²\\n     - Unidades: 180\\n\\n2. **Entity: TIPO_APTO_TIPO_B**\\n   - Type: TIPO_APTO\\n   - Properties:\\n     - Tipo: B\\n     - Área de Vivienda: 65.35 m²\\n     - Área de Terrazas: 5.02 m²\\n     - Área Total: 70.37 m²\\n     - Unidades: 171\\n\\n3. **Entity: TIPO_APTO_TIPO_C**\\n   - Type: TIPO_APTO\\n   - Properties:\\n     - Tipo: C\\n     - Área de Vivienda: 56.57 m²\\n     - Área de Terrazas: 5.02 m²\\n     - Área Total: 61.59 m²\\n     - Unidades: 9\\n\\n4. **Entity: TIPO_APTO_TIPO_D**\\n   - Type: TIPO_APTO\\n   - Properties:\\n     - Tipo: D\\n     - Área de Vivienda: 58.54 m²\\n     - Área de Terrazas: 0.00 m²\\n     - Área Total: 58.54 m²\\n     - Unidades: 60\\n\\n5. **Entity: TIPO_APTO_TIPO_D1**\\n   - Type: TIPO_APTO\\n   - Properties:\\n     - Tipo: D1\\n     - Área de Vivienda: 58.69 m²\\n     - Área de Terrazas: 0.00 m²\\n     - Área Total: 58.69 m²\\n     - Unidades: 30\\n\\n6. **Entity: TIPO_APTO_TIPO_D2**\\n   - Type: TIPO_APTO\\n   - Properties:\\n     - Tipo: D2\\n     - Área de Vivienda: 58.89 m²\\n     - Área de Terrazas: 0.00 m²\\n     - Área Total: 58.89 m²\\n     - Unidades: 2\\n\\n7. **Entity: TIPO_APTO_TIPO_D3**\\n   - Type: TIPO_APTO\\n   - Properties:\\n     - Tipo: D3\\n     - Área de Vivienda: 58.59 m²\\n     - Área de Terrazas: 0.00 m²\\n     - Área Total: 58.59 m²\\n     - Unidades: 28\\n\\n8. **Entity: TIPO_APTO_TIPO_D4**\\n   - Type: TIPO_APTO\\n   - Properties:\\n     - Tipo: D4\\n     - Área de Vivienda: 58.77 m²\\n     - Área de Terrazas: 0.00 m²\\n     - Área Total: 58.77 m²\\n     - Unidades: 28\\n\\n9. **Entity: TIPO_APTO_TIPO_E**\\n   - Type: TIPO_APTO\\n   - Properties:\\n     - Tipo: E\\n     - Área de Vivienda: 49.51 m²\\n     - Área de Terrazas: 0.00 m²\\n     - Área Total: 49.51 m²\\n     - Unidades: 2\\n\\n# Relationships\\n\\n1. **Relationship: PROYECTO_PARDELA HAS TIPO_APTO_TIPO_A**\\n   - Properties: None\\n\\n2. **Relationship: PROYECTO_PARDELA HAS TIPO_APTO_TIPO_B**\\n   - Properties: None\\n\\n3. **Relationship: PROYECTO_PARDELA HAS TIPO_APTO_TIPO_C**\\n   - Properties: None\\n\\n4. **Relationship: PROYECTO_PARDELA HAS TIPO_APTO_TIPO_D**\\n   - Properties: None\\n\\n5. **Relationship: PROYECTO_PARDELA HAS TIPO_APTO_TIPO_D1**\\n   - Properties: None\\n\\n6. **Relationship: PROYECTO_PARDELA HAS TIPO_APTO_TIPO_D2**\\n   - Properties: None\\n\\n7. **Relationship: PROYECTO_PARDELA HAS TIPO_APTO_TIPO_D3**\\n   - Properties: None\\n\\n8. **Relationship: PROYECTO_PARDELA HAS TIPO_APTO_TIPO_D4**\\n   - Properties: None\\n\\n9. **Relationship: PROYECTO_PARDELA HAS TIPO_APTO_TIPO_E**\\n   - Properties: None'}, {'name': 'res', 'description': None, 'value': {'relations': [{'from_entity_id': 'PROYECTO_PARDELA', 'type': 'HAS', 'to_entity_id': 'TIPO_APTO_TIPO_C', 'props': []}, {'from_entity_id': 'PROYECTO_PARDELA', 'type': 'HAS', 'to_entity_id': 'TIPO_APTO_TIPO_D1', 'props': []}, {'from_entity_id': 'PROYECTO_PARDELA', 'type': 'HAS', 'to_entity_id': 'TIPO_APTO_TIPO_D2', 'props': []}, {'from_entity_id': 'PROYECTO_PARDELA', 'type': 'HAS', 'to_entity_id': 'TIPO_APTO_TIPO_D3', 'props': []}, {'from_entity_id': 'PROYECTO_PARDELA', 'type': 'HAS', 'to_entity_id': 'TIPO_APTO_TIPO_D4', 'props': []}, {'from_entity_id': 'PROYECTO_PARDELA', 'type': 'HAS', 'to_entity_id': 'TIPO_APTO_TIPO_E', 'props': []}], 'entities': [{'type': 'TIPO_APTO', 'entity_id': 'TIPO_APTO_TIPO_C', 'props': [{'name': 'tipo', 'value': 'C'}, {'name': 'area_de_vivienda', 'value': '56.57 m²'}, {'name': 'area_de_terrazas', 'value': '5.02 m²'}, {'name': 'area_total', 'value': '61.59 m²'}, {'name': 'unidades', 'value': '9'}]}, {'type': 'TIPO_APTO', 'entity_id': 'TIPO_APTO_TIPO_D1', 'props': [{'name': 'tipo', 'value': 'D1'}, {'name': 'area_de_vivienda', 'value': '58.69 m²'}, {'name': 'area_de_terrazas', 'value': '0.00 m²'}, {'name': 'area_total', 'value': '58.69 m²'}, {'name': 'unidades', 'value': '30'}]}, {'type': 'TIPO_APTO', 'entity_id': 'TIPO_APTO_TIPO_D2', 'props': [{'name': 'tipo', 'value': 'D2'}, {'name': 'area_de_vivienda', 'value': '58.89 m²'}, {'name': 'area_de_terrazas', 'value': '0.00 m²'}, {'name': 'area_total', 'value': '58.89 m²'}, {'name': 'unidades', 'value': '2'}]}, {'type': 'TIPO_APTO', 'entity_id': 'TIPO_APTO_TIPO_D3', 'props': [{'name': 'tipo', 'value': 'D3'}, {'name': 'area_de_vivienda', 'value': '58.59 m²'}, {'name': 'area_de_terrazas', 'value': '0.00 m²'}, {'name': 'area_total', 'value': '58.59 m²'}, {'name': 'unidades', 'value': '28'}]}, {'type': 'TIPO_APTO', 'entity_id': 'TIPO_APTO_TIPO_D4', 'props': [{'name': 'tipo', 'value': 'D4'}, {'name': 'area_de_vivienda', 'value': '58.77 m²'}, {'name': 'area_de_terrazas', 'value': '0.00 m²'}, {'name': 'area_total', 'value': '58.77 m²'}, {'name': 'unidades', 'value': '28'}]}, {'type': 'TIPO_APTO', 'entity_id': 'TIPO_APTO_TIPO_E', 'props': [{'name': 'tipo', 'value': 'E'}, {'name': 'area_de_vivienda', 'value': '49.51 m²'}, {'name': 'area_de_terrazas', 'value': '0.00 m²'}, {'name': 'area_total', 'value': '49.51 m²'}, {'name': 'unidades', 'value': '2'}]}]}}]\n",
      "[{'name': 'extraction', 'description': None, 'value': '# Extracted Entities and Relationships\\n\\n## Nodes\\n\\n1. **CIUDAD_BARRANQUILLA**\\n   - Type: Ciudad\\n   - Properties:\\n     - Nombre: Barranquilla\\n     - Departamento: Atlántico\\n\\n2. **MACROPROYECTO_ALAMEDA_DEL_RIO**\\n   - Type: Macroproyecto\\n   - Properties:\\n     - Nombre: Alameda del Rio\\n     - Ubicación: Predios de \"El Volador\", Avenida Circunvalar, entre carreras 38 y 46\\n     - Características: 92 hectáreas destinadas a espacio público, 89 hectáreas de vivienda, comercio y equipamientos, Capacidad para 22,000 familias, 50 hectáreas de parques, alamedas, andenes y ciclorrutas\\n\\n3. **PROYECTO_PARDELA**\\n   - Type: Proyecto\\n   - Properties:\\n     - Nombre: Pardela\\n     - Localización: M-R14 del Macroproyecto Alameda del Rio\\n     - Estrato Socio Económico: 3-4\\n     - Área Construida Total: 61,358.83 m²\\n     - Área de Vivienda: 35,817.56 m²\\n     - Unidades de Vivienda: 510\\n     - Torres: 4 (3 torres de 15 pisos con 8 apartamentos por piso, 1 torre de 15 pisos con 10 apartamentos por piso)\\n     - Sistema Constructivo: Muros estructurales de concreto\\n     - Altura Libre Torres A, B y C: 2.50 mts\\n     - Altura Libre Torre D: 2.40 mts\\n     - Edificio de Portería y Servicios Comunales: 3 pisos\\n     - Edificio de Parqueos: 5 niveles, 632 parqueos (568 privados, 64 visitantes), 19 parqueos para personas con movilidad reducida, 41 parqueos para motos, 122 para bicicletas\\n     - Edificio Comunal: Ventilación natural, altura libre de 3.0 mts a 2.90 mts\\n     - Edificio de Piscina: 2 plantas, área de 321.92 m², servicios de piscina, sauna, gimnasio\\n     - Edificio de Parqueos: 5 pisos en medios niveles, 1/2 semisótano\\n\\n4. **TIPO_APTO_TIPO_A**\\n   - Type: Tipo_Apto\\n   - Properties:\\n     - Tipo: A\\n     - Área: 80.0 m²\\n\\n5. **TIPO_APTO_TIPO_B**\\n   - Type: Tipo_Apto\\n   - Properties:\\n     - Tipo: B\\n     - Área: 70.0 m²\\n\\n6. **TIPO_APTO_TIPO_C**\\n   - Type: Tipo_Apto\\n   - Properties:\\n     - Tipo: C\\n     - Área de Vivienda: 56.57 m²\\n     - Área de Terrazas: 5.02 m²\\n     - Área Total: 61.59 m²\\n     - Unidades: 9\\n\\n7. **TIPO_APTO_TIPO_D**\\n   - Type: Tipo_Apto\\n   - Properties:\\n     - Tipo: D\\n     - Área: 57.0 m²\\n\\n8. **TIPO_APTO_TIPO_D1**\\n   - Type: Tipo_Apto\\n   - Properties:\\n     - Tipo: D1\\n     - Área de Vivienda: 58.69 m²\\n     - Área de Terrazas: 0.00 m²\\n     - Área Total: 58.69 m²\\n     - Unidades: 30\\n\\n9. **TIPO_APTO_TIPO_D2**\\n   - Type: Tipo_Apto\\n   - Properties:\\n     - Tipo: D2\\n     - Área de Vivienda: 58.89 m²\\n     - Área de Terrazas: 0.00 m²\\n     - Área Total: 58.89 m²\\n     - Unidades: 2\\n\\n10. **TIPO_APTO_TIPO_D3**\\n    - Type: Tipo_Apto\\n    - Properties:\\n      - Tipo: D3\\n      - Área de Vivienda: 58.59 m²\\n      - Área de Terrazas: 0.00 m²\\n      - Área Total: 58.59 m²\\n      - Unidades: 28\\n\\n11. **TIPO_APTO_TIPO_D4**\\n    - Type: Tipo_Apto\\n    - Properties:\\n      - Tipo: D4\\n      - Área de Vivienda: 58.77 m²\\n      - Área de Terrazas: 0.00 m²\\n      - Área Total: 58.77 m²\\n      - Unidades: 28\\n\\n12. **TIPO_APTO_TIPO_E**\\n    - Type: Tipo_Apto\\n    - Properties:\\n      - Tipo: E\\n      - Área de Vivienda: 49.51 m²\\n      - Área de Terrazas: 0.00 m²\\n      - Área Total: 49.51 m²\\n      - Unidades: 2\\n\\n## Relationships\\n\\n1. **CIUDAD_BARRANQUILLA HAS MACROPROYECTO_ALAMEDA_DEL_RIO**\\n   - Properties:\\n     - Relación: La ciudad de Barranquilla contiene el Macroproyecto Alameda del Rio.\\n\\n2. **MACROPROYECTO_ALAMEDA_DEL_RIO HAS PROYECTO_PARDELA**\\n   - Properties:\\n     - Relación: El Macroproyecto Alameda del Rio contiene el Proyecto Pardela.\\n\\n3. **PROYECTO_PARDELA HAS TIPO_APTO_TIPO_A**\\n   - Properties:\\n     - Relación: El Proyecto Pardela ofrece apartamentos del Tipo A.\\n\\n4. **PROYECTO_PARDELA HAS TIPO_APTO_TIPO_B**\\n   - Properties:\\n     - Relación: El Proyecto Pardela ofrece apartamentos del Tipo B.\\n\\n5. **PROYECTO_PARDELA HAS TIPO_APTO_TIPO_C**\\n   - Properties:\\n     - Relación: El Proyecto Pardela ofrece apartamentos del Tipo C.\\n\\n6. **PROYECTO_PARDELA HAS TIPO_APTO_TIPO_D**\\n   - Properties:\\n     - Relación: El Proyecto Pardela ofrece apartamentos del Tipo D.\\n\\n7. **PROYECTO_PARDELA HAS TIPO_APTO_TIPO_D1**\\n   - Properties:\\n     - Relación: El Proyecto Pardela ofrece apartamentos del Tipo D1.\\n\\n8. **PROYECTO_PARDELA HAS TIPO_APTO_TIPO_D2**\\n   - Properties:\\n     - Relación: El Proyecto Pardela ofrece apartamentos del Tipo D2.\\n\\n9. **PROYECTO_PARDELA HAS TIPO_APTO_TIPO_D3**\\n   - Properties:\\n     - Relación: El Proyecto Pardela ofrece apartamentos del Tipo D3.\\n\\n10. **PROYECTO_PARDELA HAS TIPO_APTO_TIPO_D4**\\n    - Properties:\\n      - Relación: El Proyecto Pardela ofrece apartamentos del Tipo D4.\\n\\n11. **PROYECTO_PARDELA HAS TIPO_APTO_TIPO_E**\\n    - Properties:\\n      - Relación: El Proyecto Pardela ofrece apartamentos del Tipo E.'}, {'name': 'res', 'description': None, 'value': {'relations': [{'from_entity_id': 'CIUDAD_BARRANQUILLA', 'type': 'HAS', 'to_entity_id': 'MACROPROYECTO_ALAMEDA_DEL_RIO', 'props': [{'name': 'relacion', 'value': 'La ciudad de Barranquilla contiene el Macroproyecto Alameda del Rio.'}]}, {'from_entity_id': 'MACROPROYECTO_ALAMEDA_DEL_RIO', 'type': 'HAS', 'to_entity_id': 'PROYECTO_PARDELA', 'props': [{'name': 'relacion', 'value': 'El Macroproyecto Alameda del Rio contiene el Proyecto Pardela.'}]}, {'from_entity_id': 'PROYECTO_PARDELA', 'type': 'HAS', 'to_entity_id': 'TIPO_APTO_TIPO_A', 'props': [{'name': 'relacion', 'value': 'El Proyecto Pardela ofrece apartamentos del Tipo A.'}]}, {'from_entity_id': 'PROYECTO_PARDELA', 'type': 'HAS', 'to_entity_id': 'TIPO_APTO_TIPO_B', 'props': [{'name': 'relacion', 'value': 'El Proyecto Pardela ofrece apartamentos del Tipo B.'}]}, {'from_entity_id': 'PROYECTO_PARDELA', 'type': 'HAS', 'to_entity_id': 'TIPO_APTO_TIPO_C', 'props': [{'name': 'relacion', 'value': 'El Proyecto Pardela ofrece apartamentos del Tipo C.'}]}, {'from_entity_id': 'PROYECTO_PARDELA', 'type': 'HAS', 'to_entity_id': 'TIPO_APTO_TIPO_D', 'props': [{'name': 'relacion', 'value': 'El Proyecto Pardela ofrece apartamentos del Tipo D.'}]}, {'from_entity_id': 'PROYECTO_PARDELA', 'type': 'HAS', 'to_entity_id': 'TIPO_APTO_TIPO_D1', 'props': [{'name': 'relacion', 'value': 'El Proyecto Pardela ofrece apartamentos del Tipo D1.'}]}, {'from_entity_id': 'PROYECTO_PARDELA', 'type': 'HAS', 'to_entity_id': 'TIPO_APTO_TIPO_D2', 'props': [{'name': 'relacion', 'value': 'El Proyecto Pardela ofrece apartamentos del Tipo D2.'}]}, {'from_entity_id': 'PROYECTO_PARDELA', 'type': 'HAS', 'to_entity_id': 'TIPO_APTO_TIPO_D3', 'props': [{'name': 'relacion', 'value': 'El Proyecto Pardela ofrece apartamentos del Tipo D3.'}]}, {'from_entity_id': 'PROYECTO_PARDELA', 'type': 'HAS', 'to_entity_id': 'TIPO_APTO_TIPO_D4', 'props': [{'name': 'relacion', 'value': 'El Proyecto Pardela ofrece apartamentos del Tipo D4.'}]}, {'from_entity_id': 'PROYECTO_PARDELA', 'type': 'HAS', 'to_entity_id': 'TIPO_APTO_TIPO_E', 'props': [{'name': 'relacion', 'value': 'El Proyecto Pardela ofrece apartamentos del Tipo E.'}]}], 'entities': [{'type': 'CIUDAD', 'entity_id': 'CIUDAD_BARRANQUILLA', 'props': [{'name': 'nombre', 'value': 'Barranquilla'}, {'name': 'departamento', 'value': 'Atlántico'}]}, {'type': 'MACROPROYECTO', 'entity_id': 'MACROPROYECTO_ALAMEDA_DEL_RIO', 'props': [{'name': 'nombre', 'value': 'Alameda del Rio'}, {'name': 'ubicacion', 'value': 'Predios de \"El Volador\", Avenida Circunvalar, entre carreras 38 y 46'}, {'name': 'caracteristicas', 'value': '92 hectáreas destinadas a espacio público, 89 hectáreas de vivienda, comercio y equipamientos, Capacidad para 22,000 familias, 50 hectáreas de parques, alamedas, andenes y ciclorrutas'}]}, {'type': 'PROYECTO', 'entity_id': 'PROYECTO_PARDELA', 'props': [{'name': 'nombre', 'value': 'Pardela'}, {'name': 'localizacion', 'value': 'M-R14 del Macroproyecto Alameda del Rio'}, {'name': 'estrato_socio_economico', 'value': '3-4'}, {'name': 'area_construida_total', 'value': '61,358.83 m²'}, {'name': 'area_de_vivienda', 'value': '35,817.56 m²'}, {'name': 'unidades_de_vivienda', 'value': '510'}, {'name': 'torres', 'value': '4 (3 torres de 15 pisos con 8 apartamentos por piso, 1 torre de 15 pisos con 10 apartamentos por piso)'}, {'name': 'sistema_constructivo', 'value': 'Muros estructurales de concreto'}, {'name': 'altura_libre_torres_a_b_y_c', 'value': '2.50 mts'}, {'name': 'altura_libre_torre_d', 'value': '2.40 mts'}, {'name': 'edificio_de_porteria_y_servicios_comunales', 'value': '3 pisos'}, {'name': 'edificio_de_parqueos', 'value': '5 niveles, 632 parqueos (568 privados, 64 visitantes), 19 parqueos para personas con movilidad reducida, 41 parqueos para motos, 122 para bicicletas'}, {'name': 'edificio_comunal', 'value': 'Ventilación natural, altura libre de 3.0 mts a 2.90 mts'}, {'name': 'edificio_de_piscina', 'value': '2 plantas, área de 321.92 m², servicios de piscina, sauna, gimnasio'}, {'name': 'edificio_de_parqueos', 'value': '5 pisos en medios niveles, 1/2 semisótano'}]}, {'type': 'TIPO_APTO', 'entity_id': 'TIPO_APTO_TIPO_A', 'props': [{'name': 'tipo', 'value': 'A'}, {'name': 'area', 'value': '80.0 m²'}]}, {'type': 'TIPO_APTO', 'entity_id': 'TIPO_APTO_TIPO_B', 'props': [{'name': 'tipo', 'value': 'B'}, {'name': 'area', 'value': '70.0 m²'}]}, {'type': 'TIPO_APTO', 'entity_id': 'TIPO_APTO_TIPO_C', 'props': [{'name': 'tipo', 'value': 'C'}, {'name': 'area_de_vivienda', 'value': '56.57 m²'}, {'name': 'area_de_terrazas', 'value': '5.02 m²'}, {'name': 'area_total', 'value': '61.59 m²'}, {'name': 'unidades', 'value': '9'}]}, {'type': 'TIPO_APTO', 'entity_id': 'TIPO_APTO_TIPO_D', 'props': [{'name': 'tipo', 'value': 'D'}, {'name': 'area', 'value': '57.0 m²'}]}, {'type': 'TIPO_APTO', 'entity_id': 'TIPO_APTO_TIPO_D1', 'props': [{'name': 'tipo', 'value': 'D1'}, {'name': 'area_de_vivienda', 'value': '58.69 m²'}, {'name': 'area_de_terrazas', 'value': '0.00 m²'}, {'name': 'area_total', 'value': '58.69 m²'}, {'name': 'unidades', 'value': '30'}]}, {'type': 'TIPO_APTO', 'entity_id': 'TIPO_APTO_TIPO_D2', 'props': [{'name': 'tipo', 'value': 'D2'}, {'name': 'area_de_vivienda', 'value': '58.89 m²'}, {'name': 'area_de_terrazas', 'value': '0.00 m²'}, {'name': 'area_total', 'value': '58.89 m²'}, {'name': 'unidades', 'value': '2'}]}, {'type': 'TIPO_APTO', 'entity_id': 'TIPO_APTO_TIPO_D3', 'props': [{'name': 'tipo', 'value': 'D3'}, {'name': 'area_de_vivienda', 'value': '58.59 m²'}, {'name': 'area_de_terrazas', 'value': '0.00 m²'}, {'name': 'area_total', 'value': '58.59 m²'}, {'name': 'unidades', 'value': '28'}]}, {'type': 'TIPO_APTO', 'entity_id': 'TIPO_APTO_TIPO_D4', 'props': [{'name': 'tipo', 'value': 'D4'}, {'name': 'area_de_vivienda', 'value': '58.77 m²'}, {'name': 'area_de_terrazas', 'value': '0.00 m²'}, {'name': 'area_total', 'value': '58.77 m²'}, {'name': 'unidades', 'value': '28'}]}, {'type': 'TIPO_APTO', 'entity_id': 'TIPO_APTO_TIPO_E', 'props': [{'name': 'tipo', 'value': 'E'}, {'name': 'area_de_vivienda', 'value': '49.51 m²'}, {'name': 'area_de_terrazas', 'value': '0.00 m²'}, {'name': 'area_total', 'value': '49.51 m²'}, {'name': 'unidades', 'value': '2'}]}]}}]\n",
      "[{'name': 'extraction', 'description': None, 'value': '# Extracted Entities and Relationships\\n\\n## Entities\\n\\n1. **Entity ID:** CIUDAD_BARRANQUILLA\\n   - **Type:** CIUDAD\\n   - **Properties:**\\n     - Nombre: Barranquilla\\n     - Departamento: Atlántico\\n\\n2. **Entity ID:** MACROPROYECTO_ALAMEDA_DEL_RIO\\n   - **Type:** MACROPROYECTO\\n   - **Properties:**\\n     - Nombre: Alameda del Rio\\n     - Ubicación: Predios de \"El Volador\", Avenida Circunvalar, entre carreras 38 y 46\\n     - Características: 92 hectáreas destinadas a espacio público, 89 hectáreas de vivienda, comercio y equipamientos, Capacidad para 22,000 familias, 50 hectáreas de parques, alamedas, andenes y ciclorrutas\\n\\n3. **Entity ID:** PROYECTO_PARDELA\\n   - **Type:** PROYECTO\\n   - **Properties:**\\n     - Nombre: Pardela\\n     - Localización: M-R14 del Macroproyecto Alameda del Rio\\n     - Estrato socio-económico: 3-4\\n     - Área construida total: 61,358.83 m²\\n     - Área de vivienda: 35,817.56 m²\\n     - Unidades de vivienda: 510\\n     - Torres: 4 (3 torres de 15 pisos con 8 apartamentos por piso, 1 torre de 15 pisos con 10 apartamentos por piso)\\n     - Sistema constructivo: Muros estructurales de concreto\\n     - Altura libre torres A, B y C: 2.50 mts\\n     - Altura libre torre D: 2.40 mts\\n     - Edificio de portería y servicios comunales: 3 pisos\\n     - Edificio de parqueos: 5 pisos en medios niveles, 1/2 semisótano\\n     - Edificio comunal: Ventilación natural, altura libre de 3.0 mts a 2.90 mts\\n     - Edificio de piscina: 2 plantas, área de 321.92 m², servicios de piscina, sauna, gimnasio\\n     - Cupos de parqueo:\\n       - Residentes: 568 cupos en total\\n       - Visitantes: 64 cupos en total\\n       - Motos: 41 cupos\\n       - Proporción de parqueaderos: 1 parqueadero cada 8 viviendas\\n       - Bicicletas: 122 cupos (21 cupos de parqueaderos para Discapacitados incluidos)\\n\\n4. **Entity ID:** TIPO_APTO_TIPO_A\\n   - **Type:** TIPO_APTO\\n   - **Properties:**\\n     - Tipo: A\\n     - Área: 80.0 m²\\n\\n5. **Entity ID:** TIPO_APTO_TIPO_B\\n   - **Type:** TIPO_APTO\\n   - **Properties:**\\n     - Tipo: B\\n     - Área: 70.0 m²\\n\\n6. **Entity ID:** TIPO_APTO_TIPO_C\\n   - **Type:** TIPO_APTO\\n   - **Properties:**\\n     - Tipo: C\\n     - Área de vivienda: 56.57 m²\\n     - Área de terrazas: 5.02 m²\\n     - Área total: 61.59 m²\\n     - Unidades: 9\\n\\n7. **Entity ID:** TIPO_APTO_TIPO_D\\n   - **Type:** TIPO_APTO\\n   - **Properties:**\\n     - Tipo: D\\n     - Área: 57.0 m²\\n\\n8. **Entity ID:** TIPO_APTO_TIPO_D1\\n   - **Type:** TIPO_APTO\\n   - **Properties:**\\n     - Tipo: D1\\n     - Área de vivienda: 58.69 m²\\n     - Área de terrazas: 0.00 m²\\n     - Área total: 58.69 m²\\n     - Unidades: 30\\n\\n9. **Entity ID:** TIPO_APTO_TIPO_D2\\n   - **Type:** TIPO_APTO\\n   - **Properties:**\\n     - Tipo: D2\\n     - Área de vivienda: 58.89 m²\\n     - Área de terrazas: 0.00 m²\\n     - Área total: 58.89 m²\\n     - Unidades: 2\\n\\n10. **Entity ID:** TIPO_APTO_TIPO_D3\\n    - **Type:** TIPO_APTO\\n    - **Properties:**\\n      - Tipo: D3\\n      - Área de vivienda: 58.59 m²\\n      - Área de terrazas: 0.00 m²\\n      - Área total: 58.59 m²\\n      - Unidades: 28\\n\\n11. **Entity ID:** TIPO_APTO_TIPO_D4\\n    - **Type:** TIPO_APTO\\n    - **Properties:**\\n      - Tipo: D4\\n      - Área de vivienda: 58.77 m²\\n      - Área de terrazas: 0.00 m²\\n      - Área total: 58.77 m²\\n      - Unidades: 28\\n\\n12. **Entity ID:** TIPO_APTO_TIPO_E\\n    - **Type:** TIPO_APTO\\n    - **Properties:**\\n      - Tipo: E\\n      - Área de vivienda: 49.51 m²\\n      - Área de terrazas: 0.00 m²\\n      - Área total: 49.51 m²\\n      - Unidades: 2\\n\\n## Relationships\\n\\n1. **Relationship:** HAS\\n   - **From:** CIUDAD_BARRANQUILLA\\n   - **To:** MACROPROYECTO_ALAMEDA_DEL_RIO\\n\\n2. **Relationship:** HAS\\n   - **From:** MACROPROYECTO_ALAMEDA_DEL_RIO\\n   - **To:** PROYECTO_PARDELA\\n\\n3. **Relationship:** HAS\\n   - **From:** PROYECTO_PARDELA\\n   - **To:** TIPO_APTO_TIPO_A\\n\\n4. **Relationship:** HAS\\n   - **From:** PROYECTO_PARDELA\\n   - **To:** TIPO_APTO_TIPO_B\\n\\n5. **Relationship:** HAS\\n   - **From:** PROYECTO_PARDELA\\n   - **To:** TIPO_APTO_TIPO_C\\n\\n6. **Relationship:** HAS\\n   - **From:** PROYECTO_PARDELA\\n   - **To:** TIPO_APTO_TIPO_D\\n\\n7. **Relationship:** HAS\\n   - **From:** PROYECTO_PARDELA\\n   - **To:** TIPO_APTO_TIPO_D1\\n\\n8. **Relationship:** HAS\\n   - **From:** PROYECTO_PARDELA\\n   - **To:** TIPO_APTO_TIPO_D2\\n\\n9. **Relationship:** HAS\\n   - **From:** PROYECTO_PARDELA\\n   - **To:** TIPO_APTO_TIPO_D3\\n\\n10. **Relationship:** HAS\\n    - **From:** PROYECTO_PARDELA\\n    - **To:** TIPO_APTO_TIPO_D4\\n\\n11. **Relationship:** HAS\\n    - **From:** PROYECTO_PARDELA\\n    - **To:** TIPO_APTO_TIPO_E'}, {'name': 'res', 'description': None, 'value': {'relations': [{'from_entity_id': 'CIUDAD_BARRANQUILLA', 'type': 'HAS', 'to_entity_id': 'MACROPROYECTO_ALAMEDA_DEL_RIO', 'props': []}, {'from_entity_id': 'MACROPROYECTO_ALAMEDA_DEL_RIO', 'type': 'HAS', 'to_entity_id': 'PROYECTO_PARDELA', 'props': []}, {'from_entity_id': 'PROYECTO_PARDELA', 'type': 'HAS', 'to_entity_id': 'TIPO_APTO_TIPO_A', 'props': []}, {'from_entity_id': 'PROYECTO_PARDELA', 'type': 'HAS', 'to_entity_id': 'TIPO_APTO_TIPO_B', 'props': []}, {'from_entity_id': 'PROYECTO_PARDELA', 'type': 'HAS', 'to_entity_id': 'TIPO_APTO_TIPO_C', 'props': []}, {'from_entity_id': 'PROYECTO_PARDELA', 'type': 'HAS', 'to_entity_id': 'TIPO_APTO_TIPO_D', 'props': []}, {'from_entity_id': 'PROYECTO_PARDELA', 'type': 'HAS', 'to_entity_id': 'TIPO_APTO_TIPO_D1', 'props': []}, {'from_entity_id': 'PROYECTO_PARDELA', 'type': 'HAS', 'to_entity_id': 'TIPO_APTO_TIPO_D2', 'props': []}, {'from_entity_id': 'PROYECTO_PARDELA', 'type': 'HAS', 'to_entity_id': 'TIPO_APTO_TIPO_D3', 'props': []}, {'from_entity_id': 'PROYECTO_PARDELA', 'type': 'HAS', 'to_entity_id': 'TIPO_APTO_TIPO_D4', 'props': []}, {'from_entity_id': 'PROYECTO_PARDELA', 'type': 'HAS', 'to_entity_id': 'TIPO_APTO_TIPO_E', 'props': []}], 'entities': [{'type': 'CIUDAD', 'entity_id': 'CIUDAD_BARRANQUILLA', 'props': [{'name': 'nombre', 'value': 'Barranquilla'}, {'name': 'departamento', 'value': 'Atlántico'}]}, {'type': 'MACROPROYECTO', 'entity_id': 'MACROPROYECTO_ALAMEDA_DEL_RIO', 'props': [{'name': 'nombre', 'value': 'Alameda del Rio'}, {'name': 'ubicacion', 'value': 'Predios de \"El Volador\", Avenida Circunvalar, entre carreras 38 y 46'}, {'name': 'caracteristicas', 'value': '92 hectáreas destinadas a espacio público, 89 hectáreas de vivienda, comercio y equipamientos, Capacidad para 22,000 familias, 50 hectáreas de parques, alamedas, andenes y ciclorrutas'}]}, {'type': 'PROYECTO', 'entity_id': 'PROYECTO_PARDELA', 'props': [{'name': 'nombre', 'value': 'Pardela'}, {'name': 'localizacion', 'value': 'M-R14 del Macroproyecto Alameda del Rio'}, {'name': 'estrato_socio_economico', 'value': '3-4'}, {'name': 'area_construida_total', 'value': '61,358.83 m²'}, {'name': 'area_de_vivienda', 'value': '35,817.56 m²'}, {'name': 'unidades_de_vivienda', 'value': '510'}, {'name': 'torres', 'value': '4 (3 torres de 15 pisos con 8 apartamentos por piso, 1 torre de 15 pisos con 10 apartamentos por piso)'}, {'name': 'sistema_constructivo', 'value': 'Muros estructurales de concreto'}, {'name': 'altura_libre_torres_a_b_y_c', 'value': '2.50 mts'}, {'name': 'altura_libre_torre_d', 'value': '2.40 mts'}, {'name': 'edificio_de_porteria_y_servicios_comunales', 'value': '3 pisos'}, {'name': 'edificio_de_parqueos', 'value': '5 pisos en medios niveles, 1/2 semisótano'}, {'name': 'edificio_comunal', 'value': 'Ventilación natural, altura libre de 3.0 mts a 2.90 mts'}, {'name': 'edificio_de_piscina', 'value': '2 plantas, área de 321.92 m², servicios de piscina, sauna, gimnasio'}, {'name': 'cupos_de_parqueo_residentes', 'value': '568 cupos en total'}, {'name': 'cupos_de_parqueo_visitantes', 'value': '64 cupos en total'}, {'name': 'cupos_de_parqueo_motos', 'value': '41 cupos'}, {'name': 'proporcion_de_parqueaderos', 'value': '1 parqueadero cada 8 viviendas'}, {'name': 'cupos_de_parqueo_bicicletas', 'value': '122 cupos (21 cupos de parqueaderos para Discapacitados incluidos)'}]}, {'type': 'TIPO_APTO', 'entity_id': 'TIPO_APTO_TIPO_A', 'props': [{'name': 'tipo', 'value': 'A'}, {'name': 'area', 'value': '80.0 m²'}]}, {'type': 'TIPO_APTO', 'entity_id': 'TIPO_APTO_TIPO_B', 'props': [{'name': 'tipo', 'value': 'B'}, {'name': 'area', 'value': '70.0 m²'}]}, {'type': 'TIPO_APTO', 'entity_id': 'TIPO_APTO_TIPO_C', 'props': [{'name': 'tipo', 'value': 'C'}, {'name': 'area_de_vivienda', 'value': '56.57 m²'}, {'name': 'area_de_terrazas', 'value': '5.02 m²'}, {'name': 'area_total', 'value': '61.59 m²'}, {'name': 'unidades', 'value': '9'}]}, {'type': 'TIPO_APTO', 'entity_id': 'TIPO_APTO_TIPO_D', 'props': [{'name': 'tipo', 'value': 'D'}, {'name': 'area', 'value': '57.0 m²'}]}, {'type': 'TIPO_APTO', 'entity_id': 'TIPO_APTO_TIPO_D1', 'props': [{'name': 'tipo', 'value': 'D1'}, {'name': 'area_de_vivienda', 'value': '58.69 m²'}, {'name': 'area_de_terrazas', 'value': '0.00 m²'}, {'name': 'area_total', 'value': '58.69 m²'}, {'name': 'unidades', 'value': '30'}]}, {'type': 'TIPO_APTO', 'entity_id': 'TIPO_APTO_TIPO_D2', 'props': [{'name': 'tipo', 'value': 'D2'}, {'name': 'area_de_vivienda', 'value': '58.89 m²'}, {'name': 'area_de_terrazas', 'value': '0.00 m²'}, {'name': 'area_total', 'value': '58.89 m²'}, {'name': 'unidades', 'value': '2'}]}, {'type': 'TIPO_APTO', 'entity_id': 'TIPO_APTO_TIPO_D3', 'props': [{'name': 'tipo', 'value': 'D3'}, {'name': 'area_de_vivienda', 'value': '58.59 m²'}, {'name': 'area_de_terrazas', 'value': '0.00 m²'}, {'name': 'area_total', 'value': '58.59 m²'}, {'name': 'unidades', 'value': '28'}]}, {'type': 'TIPO_APTO', 'entity_id': 'TIPO_APTO_TIPO_D4', 'props': [{'name': 'tipo', 'value': 'D4'}, {'name': 'area_de_vivienda', 'value': '58.77 m²'}, {'name': 'area_de_terrazas', 'value': '0.00 m²'}, {'name': 'area_total', 'value': '58.77 m²'}, {'name': 'unidades', 'value': '28'}]}, {'type': 'TIPO_APTO', 'entity_id': 'TIPO_APTO_TIPO_E', 'props': [{'name': 'tipo', 'value': 'E'}, {'name': 'area_de_vivienda', 'value': '49.51 m²'}, {'name': 'area_de_terrazas', 'value': '0.00 m²'}, {'name': 'area_total', 'value': '49.51 m²'}, {'name': 'unidades', 'value': '2'}]}]}}]\n",
      "[{'name': 'extraction', 'description': None, 'value': '# Extracted Entities and Relationships\\n\\n## Nodes\\n\\n1. **CIUDAD_BARRANQUILLA**\\n   - Type: CIUDAD\\n   - Properties:\\n     - Nombre: Barranquilla\\n     - Departamento: Atlántico\\n\\n2. **MACROPROYECTO_ALAMEDA_DEL_RIO**\\n   - Type: MACROPROYECTO\\n   - Properties:\\n     - Nombre: Alameda del Rio\\n     - Ubicación: Predios de \"El Volador\", Avenida Circunvalar, entre carreras 38 y 46\\n     - Características: 92 hectáreas destinadas a espacio público, 89 hectáreas de vivienda, comercio y equipamientos, Capacidad para 22,000 familias, 50 hectáreas de parques, alamedas, andenes y ciclorrutas\\n\\n3. **PROYECTO_PARDELA**\\n   - Type: PROYECTO\\n   - Properties:\\n     - Nombre: Pardela\\n     - Localización: M-R14 del Macroproyecto Alameda del Rio\\n     - Estrato socio-económico: 3-4\\n     - Área construida total: 61,358.83 m²\\n     - Área de vivienda: 35,817.56 m²\\n     - Unidades de vivienda: 510\\n     - Torres: 4 (3 torres de 15 pisos con 8 apartamentos por piso, 1 torre de 15 pisos con 10 apartamentos por piso)\\n     - Sistema constructivo: Muros estructurales de concreto\\n     - Altura libre torres A, B y C: 2.50 mts\\n     - Altura libre torre D: 2.40 mts\\n     - Edificio de portería y servicios comunales: 3 pisos\\n     - Edificio de parqueos: 5 pisos en medios niveles, 1/2 semisótano\\n     - Edificio comunal: Ventilación natural, altura libre de 3.0 mts a 2.90 mts\\n     - Edificio de piscina: 2 plantas, área de 321.92 m², servicios de piscina, sauna, gimnasio\\n     - Cupos de parqueo residentes: 568 cupos en total\\n     - Cupos de parqueo visitantes: 64 cupos en total\\n     - Cupos de parqueo motos: 41 cupos\\n     - Proporción de parqueaderos: 1 parqueadero cada 8 viviendas\\n     - Cupos de parqueo bicicletas: 122 cupos (21 cupos de parqueaderos para Discapacitados incluidos)\\n\\n4. **TIPO_APTO_TIPO_A**\\n   - Type: TIPO_APTO\\n   - Properties:\\n     - Tipo: A\\n     - Área: 80.0 m²\\n     - Unidades: 180\\n\\n5. **TIPO_APTO_TIPO_B**\\n   - Type: TIPO_APTO\\n   - Properties:\\n     - Tipo: B\\n     - Área: 70.0 m²\\n     - Unidades: 171\\n\\n6. **TIPO_APTO_TIPO_C**\\n   - Type: TIPO_APTO\\n   - Properties:\\n     - Tipo: C\\n     - Área de vivienda: 56.57 m²\\n     - Área de terrazas: 5.02 m²\\n     - Área total: 61.59 m²\\n     - Unidades: 9\\n\\n7. **TIPO_APTO_TIPO_D**\\n   - Type: TIPO_APTO\\n   - Properties:\\n     - Tipo: D\\n     - Área: 57.0 m²\\n     - Unidades: 60\\n\\n8. **TIPO_APTO_TIPO_D1**\\n   - Type: TIPO_APTO\\n   - Properties:\\n     - Tipo: D1\\n     - Área de vivienda: 58.69 m²\\n     - Área de terrazas: 0.00 m²\\n     - Área total: 58.69 m²\\n     - Unidades: 30\\n\\n9. **TIPO_APTO_TIPO_D2**\\n   - Type: TIPO_APTO\\n   - Properties:\\n     - Tipo: D2\\n     - Área de vivienda: 58.89 m²\\n     - Área de terrazas: 0.00 m²\\n     - Área total: 58.89 m²\\n     - Unidades: 2\\n\\n10. **TIPO_APTO_TIPO_D3**\\n    - Type: TIPO_APTO\\n    - Properties:\\n      - Tipo: D3\\n      - Área de vivienda: 58.59 m²\\n      - Área de terrazas: 0.00 m²\\n      - Área total: 58.59 m²\\n      - Unidades: 28\\n\\n11. **TIPO_APTO_TIPO_D4**\\n    - Type: TIPO_APTO\\n    - Properties:\\n      - Tipo: D4\\n      - Área de vivienda: 58.77 m²\\n      - Área de terrazas: 0.00 m²\\n      - Área total: 58.77 m²\\n      - Unidades: 28\\n\\n12. **TIPO_APTO_TIPO_E**\\n    - Type: TIPO_APTO\\n    - Properties:\\n      - Tipo: E\\n      - Área de vivienda: 49.51 m²\\n      - Área de terrazas: 0.00 m²\\n      - Área total: 49.51 m²\\n      - Unidades: 2\\n\\n## Relationships\\n\\n1. **PROYECTO_PARDELA HAS TIPO_APTO_TIPO_A**\\n   - Properties:\\n     - Unidades: 180\\n\\n2. **PROYECTO_PARDELA HAS TIPO_APTO_TIPO_B**\\n   - Properties:\\n     - Unidades: 171\\n\\n3. **PROYECTO_PARDELA HAS TIPO_APTO_TIPO_C**\\n   - Properties:\\n     - Unidades: 9\\n\\n4. **PROYECTO_PARDELA HAS TIPO_APTO_TIPO_D**\\n   - Properties:\\n     - Unidades: 60\\n\\n5. **PROYECTO_PARDELA HAS TIPO_APTO_TIPO_D1**\\n   - Properties:\\n     - Unidades: 30\\n\\n6. **PROYECTO_PARDELA HAS TIPO_APTO_TIPO_D2**\\n   - Properties:\\n     - Unidades: 2\\n\\n7. **PROYECTO_PARDELA HAS TIPO_APTO_TIPO_D3**\\n   - Properties:\\n     - Unidades: 28\\n\\n8. **PROYECTO_PARDELA HAS TIPO_APTO_TIPO_D4**\\n   - Properties:\\n     - Unidades: 28\\n\\n9. **PROYECTO_PARDELA HAS TIPO_APTO_TIPO_E**\\n   - Properties:\\n     - Unidades: 2'}, {'name': 'res', 'description': None, 'value': {'relations': [{'from_entity_id': 'CIUDAD_BARRANQUILLA', 'type': 'HAS', 'to_entity_id': 'MACROPROYECTO_ALAMEDA_DEL_RIO', 'props': []}, {'from_entity_id': 'MACROPROYECTO_ALAMEDA_DEL_RIO', 'type': 'HAS', 'to_entity_id': 'PROYECTO_PARDELA', 'props': []}], 'entities': [{'type': 'CIUDAD', 'entity_id': 'CIUDAD_BARRANQUILLA', 'props': [{'name': 'nombre', 'value': 'Barranquilla'}, {'name': 'departamento', 'value': 'Atlántico'}]}, {'type': 'MACROPROYECTO', 'entity_id': 'MACROPROYECTO_ALAMEDA_DEL_RIO', 'props': [{'name': 'nombre', 'value': 'Alameda del Rio'}, {'name': 'ubicacion', 'value': 'Predios de \"El Volador\", Avenida Circunvalar, entre carreras 38 y 46'}, {'name': 'caracteristicas', 'value': '92 hectáreas destinadas a espacio público, 89 hectáreas de vivienda, comercio y equipamientos, Capacidad para 22,000 familias, 50 hectáreas de parques, alamedas, andenes y ciclorrutas'}]}, {'type': 'PROYECTO', 'entity_id': 'PROYECTO_PARDELA', 'props': [{'name': 'nombre', 'value': 'Pardela'}, {'name': 'localizacion', 'value': 'M-R14 del Macroproyecto Alameda del Rio'}, {'name': 'estrato_socio_economico', 'value': '3-4'}, {'name': 'area_construida_total', 'value': '61,358.83 m²'}, {'name': 'area_de_vivienda', 'value': '35,817.56 m²'}, {'name': 'unidades_de_vivienda', 'value': '510'}, {'name': 'torres', 'value': '4 (3 torres de 15 pisos con 8 apartamentos por piso, 1 torre de 15 pisos con 10 apartamentos por piso)'}, {'name': 'sistema_constructivo', 'value': 'Muros estructurales de concreto'}, {'name': 'altura_libre_torres_a_b_y_c', 'value': '2.50 mts'}, {'name': 'altura_libre_torre_d', 'value': '2.40 mts'}, {'name': 'edificio_de_porteria_y_servicios_comunales', 'value': '3 pisos'}, {'name': 'edificio_de_parqueos', 'value': '5 pisos en medios niveles, 1/2 semisótano'}, {'name': 'edificio_comunal', 'value': 'Ventilación natural, altura libre de 3.0 mts a 2.90 mts'}, {'name': 'edificio_de_piscina', 'value': '2 plantas, área de 321.92 m², servicios de piscina, sauna, gimnasio'}, {'name': 'cupos_de_parqueo_residentes', 'value': '568 cupos en total'}, {'name': 'cupos_de_parqueo_visitantes', 'value': '64 cupos en total'}, {'name': 'cupos_de_parqueo_motos', 'value': '41 cupos'}, {'name': 'proporcion_de_parqueaderos', 'value': '1 parqueadero cada 8 viviendas'}, {'name': 'cupos_de_parqueo_bicicletas', 'value': '122 cupos (21 cupos de parqueaderos para Discapacitados incluidos)'}]}, {'type': 'TIPO_APTO', 'entity_id': 'TIPO_APTO_TIPO_A', 'props': [{'name': 'tipo', 'value': 'A'}, {'name': 'area', 'value': '80.0 m²'}, {'name': 'unidades', 'value': '180'}]}, {'type': 'TIPO_APTO', 'entity_id': 'TIPO_APTO_TIPO_B', 'props': [{'name': 'tipo', 'value': 'B'}, {'name': 'area', 'value': '70.0 m²'}, {'name': 'unidades', 'value': '171'}]}, {'type': 'TIPO_APTO', 'entity_id': 'TIPO_APTO_TIPO_C', 'props': [{'name': 'tipo', 'value': 'C'}, {'name': 'area_de_vivienda', 'value': '56.57 m²'}, {'name': 'area_de_terrazas', 'value': '5.02 m²'}, {'name': 'area_total', 'value': '61.59 m²'}, {'name': 'unidades', 'value': '9'}]}, {'type': 'TIPO_APTO', 'entity_id': 'TIPO_APTO_TIPO_D', 'props': [{'name': 'tipo', 'value': 'D'}, {'name': 'area', 'value': '57.0 m²'}, {'name': 'unidades', 'value': '60'}]}, {'type': 'TIPO_APTO', 'entity_id': 'TIPO_APTO_TIPO_D1', 'props': [{'name': 'tipo', 'value': 'D1'}, {'name': 'area_de_vivienda', 'value': '58.69 m²'}, {'name': 'area_de_terrazas', 'value': '0.00 m²'}, {'name': 'area_total', 'value': '58.69 m²'}, {'name': 'unidades', 'value': '30'}]}, {'type': 'TIPO_APTO', 'entity_id': 'TIPO_APTO_TIPO_D2', 'props': [{'name': 'tipo', 'value': 'D2'}, {'name': 'area_de_vivienda', 'value': '58.89 m²'}, {'name': 'area_de_terrazas', 'value': '0.00 m²'}, {'name': 'area_total', 'value': '58.89 m²'}, {'name': 'unidades', 'value': '2'}]}, {'type': 'TIPO_APTO', 'entity_id': 'TIPO_APTO_TIPO_D3', 'props': [{'name': 'tipo', 'value': 'D3'}, {'name': 'area_de_vivienda', 'value': '58.59 m²'}, {'name': 'area_de_terrazas', 'value': '0.00 m²'}, {'name': 'area_total', 'value': '58.59 m²'}, {'name': 'unidades', 'value': '28'}]}, {'type': 'TIPO_APTO', 'entity_id': 'TIPO_APTO_TIPO_D4', 'props': [{'name': 'tipo', 'value': 'D4'}, {'name': 'area_de_vivienda', 'value': '58.77 m²'}, {'name': 'area_de_terrazas', 'value': '0.00 m²'}, {'name': 'area_total', 'value': '58.77 m²'}, {'name': 'unidades', 'value': '28'}]}, {'type': 'TIPO_APTO', 'entity_id': 'TIPO_APTO_TIPO_E', 'props': [{'name': 'tipo', 'value': 'E'}, {'name': 'area_de_vivienda', 'value': '49.51 m²'}, {'name': 'area_de_terrazas', 'value': '0.00 m²'}, {'name': 'area_total', 'value': '49.51 m²'}, {'name': 'unidades', 'value': '2'}]}]}}]\n",
      "[{'name': 'extraction', 'description': None, 'value': '# Extracted Entities and Relationships\\n\\n## Entities\\n\\n1. **CIUDAD_BARRANQUILLA**\\n   - Type: Ciudad\\n   - Properties:\\n     - Nombre: Barranquilla\\n     - Departamento: Atlántico\\n\\n2. **MACROPROYECTO_ALAMEDA_DEL_RIO**\\n   - Type: Macroproyecto\\n   - Properties:\\n     - Nombre: Alameda del Rio\\n     - Ubicación: Predios de \"El Volador\", Avenida Circunvalar, entre carreras 38 y 46\\n     - Características: 92 hectáreas destinadas a espacio público, 89 hectáreas de vivienda, comercio y equipamientos, Capacidad para 22,000 familias, 50 hectáreas de parques, alamedas, andenes y ciclorrutas\\n\\n3. **PROYECTO_PARDELA**\\n   - Type: Proyecto\\n   - Properties:\\n     - Nombre: Pardela\\n     - Localización: M-R14 del Macroproyecto Alameda del Rio\\n     - Estrato Socioeconómico: 3-4\\n     - Área Construida Total: 61,358.83 m²\\n     - Área de Vivienda: 35,817.56 m²\\n     - Unidades de Vivienda: 510\\n     - Torres: 4 (3 torres de 15 pisos con 8 apartamentos por piso, 1 torre de 15 pisos con 10 apartamentos por piso)\\n     - Sistema Constructivo: Muros estructurales de concreto\\n     - Altura Libre Torres A, B y C: 2.50 mts\\n     - Altura Libre Torre D: 2.40 mts\\n     - Edificio de Portería y Servicios Comunales: 3 pisos\\n     - Edificio de Parqueos: 5 pisos en medios niveles, 1/2 semisótano\\n     - Edificio Comunal: Ventilación natural, altura libre de 3.0 mts a 2.90 mts\\n     - Edificio de Piscina: 2 plantas, área de 321.92 m², servicios de piscina, sauna, gimnasio\\n     - Cupos de Parqueo Residentes: 568 cupos en total\\n     - Cupos de Parqueo Visitantes: 64 cupos en total\\n     - Cupos de Parqueo Motos: 41 cupos\\n     - Proporción de Parqueaderos: 1 parqueadero cada 8 viviendas\\n     - Cupos de Parqueo Bicicletas: 122 cupos (21 cupos de parqueaderos para Discapacitados incluidos)\\n\\n4. **TIPO_APTO_TIPO_A**\\n   - Type: Tipo_Apto\\n   - Properties:\\n     - Tipo: A\\n     - Área: 80.0 m²\\n     - Unidades: 180\\n\\n5. **TIPO_APTO_TIPO_B**\\n   - Type: Tipo_Apto\\n   - Properties:\\n     - Tipo: B\\n     - Área: 70.0 m²\\n     - Unidades: 171\\n\\n6. **TIPO_APTO_TIPO_C**\\n   - Type: Tipo_Apto\\n   - Properties:\\n     - Tipo: C\\n     - Área de Vivienda: 56.57 m²\\n     - Área de Terrazas: 5.02 m²\\n     - Área Total: 61.59 m²\\n     - Unidades: 9\\n\\n7. **TIPO_APTO_TIPO_D**\\n   - Type: Tipo_Apto\\n   - Properties:\\n     - Tipo: D\\n     - Área: 57.0 m²\\n     - Unidades: 60\\n\\n8. **TIPO_APTO_TIPO_D1**\\n   - Type: Tipo_Apto\\n   - Properties:\\n     - Tipo: D1\\n     - Área de Vivienda: 58.69 m²\\n     - Área de Terrazas: 0.00 m²\\n     - Área Total: 58.69 m²\\n     - Unidades: 30\\n\\n9. **TIPO_APTO_TIPO_D2**\\n   - Type: Tipo_Apto\\n   - Properties:\\n     - Tipo: D2\\n     - Área de Vivienda: 58.89 m²\\n     - Área de Terrazas: 0.00 m²\\n     - Área Total: 58.89 m²\\n     - Unidades: 2\\n\\n10. **TIPO_APTO_TIPO_D3**\\n    - Type: Tipo_Apto\\n    - Properties:\\n      - Tipo: D3\\n      - Área de Vivienda: 58.59 m²\\n      - Área de Terrazas: 0.00 m²\\n      - Área Total: 58.59 m²\\n      - Unidades: 28\\n\\n11. **TIPO_APTO_TIPO_D4**\\n    - Type: Tipo_Apto\\n    - Properties:\\n      - Tipo: D4\\n      - Área de Vivienda: 58.77 m²\\n      - Área de Terrazas: 0.00 m²\\n      - Área Total: 58.77 m²\\n      - Unidades: 28\\n\\n12. **TIPO_APTO_TIPO_E**\\n    - Type: Tipo_Apto\\n    - Properties:\\n      - Tipo: E\\n      - Área de Vivienda: 49.51 m²\\n      - Área de Terrazas: 0.00 m²\\n      - Área Total: 49.51 m²\\n      - Unidades: 2\\n\\n## Relationships\\n\\n1. **PROYECTO_PARDELA HAS TIPO_APTO_TIPO_A**\\n   - Type: HAS\\n   - Properties: None\\n\\n2. **PROYECTO_PARDELA HAS TIPO_APTO_TIPO_B**\\n   - Type: HAS\\n   - Properties: None\\n\\n3. **PROYECTO_PARDELA HAS TIPO_APTO_TIPO_C**\\n   - Type: HAS\\n   - Properties: None\\n\\n4. **PROYECTO_PARDELA HAS TIPO_APTO_TIPO_D**\\n   - Type: HAS\\n   - Properties: None\\n\\n5. **PROYECTO_PARDELA HAS TIPO_APTO_TIPO_D1**\\n   - Type: HAS\\n   - Properties: None\\n\\n6. **PROYECTO_PARDELA HAS TIPO_APTO_TIPO_D2**\\n   - Type: HAS\\n   - Properties: None\\n\\n7. **PROYECTO_PARDELA HAS TIPO_APTO_TIPO_D3**\\n   - Type: HAS\\n   - Properties: None\\n\\n8. **PROYECTO_PARDELA HAS TIPO_APTO_TIPO_D4**\\n   - Type: HAS\\n   - Properties: None\\n\\n9. **PROYECTO_PARDELA HAS TIPO_APTO_TIPO_E**\\n   - Type: HAS\\n   - Properties: None'}, {'name': 'res', 'description': None, 'value': {'relations': [{'from_entity_id': 'CIUDAD_BARRANQUILLA', 'type': 'HAS', 'to_entity_id': 'MACROPROYECTO_ALAMEDA_DEL_RIO', 'props': []}], 'entities': []}}]\n",
      "[{'name': 'extraction', 'description': None, 'value': '# Extracted Entities and Relationships\\n\\n## Entities\\n\\n1. **CIUDAD_BARRANQUILLA**\\n   - Type: Ciudad\\n   - Properties:\\n     - Nombre: Barranquilla\\n     - Departamento: Atlántico\\n\\n2. **MACROPROYECTO_ALAMEDA_DEL_RIO**\\n   - Type: Macroproyecto\\n   - Properties:\\n     - Nombre: Alameda del Rio\\n     - Ubicación: Predios de \"El Volador\", Avenida Circunvalar, entre carreras 38 y 46\\n     - Características: 92 hectáreas destinadas a espacio público, 89 hectáreas de vivienda, comercio y equipamientos, Capacidad para 22,000 familias, 50 hectáreas de parques, alamedas, andenes y ciclorrutas\\n\\n3. **PROYECTO_PARDELA**\\n   - Type: Proyecto\\n   - Properties:\\n     - Nombre: Pardela\\n     - Localización: M-R14 del Macroproyecto Alameda del Rio\\n     - Estrato socio-económico: 3-4\\n     - Área construida total: 61,358.83 m²\\n     - Área de vivienda: 35,817.56 m²\\n     - Unidades de vivienda: 510\\n     - Torres: 4 (3 torres de 15 pisos con 8 apartamentos por piso, 1 torre de 15 pisos con 10 apartamentos por piso)\\n     - Sistema constructivo: Muros estructurales de concreto\\n     - Altura libre torres A, B y C: 2.50 mts\\n     - Altura libre torre D: 2.40 mts\\n     - Edificio de portería y servicios comunales: 3 pisos\\n     - Edificio de parqueos: 5 pisos en medios niveles, 1/2 semisótano\\n     - Edificio comunal: Ventilación natural, altura libre de 3.0 mts a 2.90 mts\\n     - Edificio de piscina: 2 plantas, área de 321.92 m², servicios de piscina, sauna, gimnasio\\n     - Cupos de parqueo residentes: 568 cupos en total\\n     - Cupos de parqueo visitantes: 64 cupos en total\\n     - Cupos de parqueo motos: 41 cupos\\n     - Proporción de parqueaderos: 1 parqueadero cada 8 viviendas\\n     - Cupos de parqueo bicicletas: 122 cupos (21 cupos de parqueaderos para Discapacitados incluidos)\\n\\n4. **TIPO_APTO_TIPO_A**\\n   - Type: Tipo_Apto\\n   - Properties:\\n     - Tipo: A\\n     - Área: 80.0 m²\\n     - Unidades: 180\\n\\n5. **TIPO_APTO_TIPO_B**\\n   - Type: Tipo_Apto\\n   - Properties:\\n     - Tipo: B\\n     - Área: 70.0 m²\\n     - Unidades: 171\\n\\n6. **TIPO_APTO_TIPO_C**\\n   - Type: Tipo_Apto\\n   - Properties:\\n     - Tipo: C\\n     - Área de vivienda: 56.57 m²\\n     - Área de terrazas: 5.02 m²\\n     - Área total: 61.59 m²\\n     - Unidades: 9\\n\\n7. **TIPO_APTO_TIPO_D**\\n   - Type: Tipo_Apto\\n   - Properties:\\n     - Tipo: D\\n     - Área: 57.0 m²\\n     - Unidades: 60\\n\\n8. **TIPO_APTO_TIPO_D1**\\n   - Type: Tipo_Apto\\n   - Properties:\\n     - Tipo: D1\\n     - Área de vivienda: 58.69 m²\\n     - Área de terrazas: 0.00 m²\\n     - Área total: 58.69 m²\\n     - Unidades: 30\\n\\n9. **TIPO_APTO_TIPO_D2**\\n   - Type: Tipo_Apto\\n   - Properties:\\n     - Tipo: D2\\n     - Área de vivienda: 58.89 m²\\n     - Área de terrazas: 0.00 m²\\n     - Área total: 58.89 m²\\n     - Unidades: 2\\n\\n10. **TIPO_APTO_TIPO_D3**\\n    - Type: Tipo_Apto\\n    - Properties:\\n      - Tipo: D3\\n      - Área de vivienda: 58.59 m²\\n      - Área de terrazas: 0.00 m²\\n      - Área total: 58.59 m²\\n      - Unidades: 28\\n\\n11. **TIPO_APTO_TIPO_D4**\\n    - Type: Tipo_Apto\\n    - Properties:\\n      - Tipo: D4\\n      - Área de vivienda: 58.77 m²\\n      - Área de terrazas: 0.00 m²\\n      - Área total: 58.77 m²\\n      - Unidades: 28\\n\\n12. **TIPO_APTO_TIPO_E**\\n    - Type: Tipo_Apto\\n    - Properties:\\n      - Tipo: E\\n      - Área de vivienda: 49.51 m²\\n      - Área de terrazas: 0.00 m²\\n      - Área total: 49.51 m²\\n      - Unidades: 2\\n\\n## Relationships\\n\\n1. **PROYECTO_PARDELA HAS TIPO_APTO_TIPO_A**\\n2. **PROYECTO_PARDELA HAS TIPO_APTO_TIPO_B**\\n3. **PROYECTO_PARDELA HAS TIPO_APTO_TIPO_C**\\n4. **PROYECTO_PARDELA HAS TIPO_APTO_TIPO_D**\\n5. **PROYECTO_PARDELA HAS TIPO_APTO_TIPO_D1**\\n6. **PROYECTO_PARDELA HAS TIPO_APTO_TIPO_D2**\\n7. **PROYECTO_PARDELA HAS TIPO_APTO_TIPO_D3**\\n8. **PROYECTO_PARDELA HAS TIPO_APTO_TIPO_D4**\\n9. **PROYECTO_PARDELA HAS TIPO_APTO_TIPO_E**\\n\\n## Additional Information\\n\\n- Los parqueaderos de discapacitados están incluidos en la cuenta de visitantes y/o privados.\\n- Los parqueaderos para residentes se clasifican como área común de uso exclusivo.\\n- Áreas aproximadas y susceptibles a cambios en el desarrollo natural del proyecto.\\n- La urbanización ya está constituida y cuenta con la minuta de transferencia del lote registrada.'}, {'name': 'res', 'description': None, 'value': {'entities': [{'type': 'CIUDAD', 'entity_id': 'CIUDAD_BARRANQUILLA', 'props': [{'name': 'nombre', 'value': 'Barranquilla'}, {'name': 'departamento', 'value': 'Atlántico'}]}, {'type': 'MACROPROYECTO', 'entity_id': 'MACROPROYECTO_ALAMEDA_DEL_RIO', 'props': [{'name': 'nombre', 'value': 'Alameda del Rio'}, {'name': 'ubicacion', 'value': 'Predios de \"El Volador\", Avenida Circunvalar, entre carreras 38 y 46'}, {'name': 'caracteristicas', 'value': '92 hectáreas destinadas a espacio público, 89 hectáreas de vivienda, comercio y equipamientos, Capacidad para 22,000 familias, 50 hectáreas de parques, alamedas, andenes y ciclorrutas'}]}, {'type': 'PROYECTO', 'entity_id': 'PROYECTO_PARDELA', 'props': [{'name': 'nombre', 'value': 'Pardela'}, {'name': 'localizacion', 'value': 'M-R14 del Macroproyecto Alameda del Rio'}, {'name': 'estrato_socio_economico', 'value': '3-4'}, {'name': 'area_construida_total', 'value': '61,358.83 m²'}, {'name': 'area_de_vivienda', 'value': '35,817.56 m²'}, {'name': 'unidades_de_vivienda', 'value': '510'}, {'name': 'torres', 'value': '4 (3 torres de 15 pisos con 8 apartamentos por piso, 1 torre de 15 pisos con 10 apartamentos por piso)'}, {'name': 'sistema_constructivo', 'value': 'Muros estructurales de concreto'}, {'name': 'altura_libre_torres_a_b_y_c', 'value': '2.50 mts'}, {'name': 'altura_libre_torre_d', 'value': '2.40 mts'}, {'name': 'edificio_de_porteria_y_servicios_comunales', 'value': '3 pisos'}, {'name': 'edificio_de_parqueos', 'value': '5 pisos en medios niveles, 1/2 semisótano'}, {'name': 'edificio_comunal', 'value': 'Ventilación natural, altura libre de 3.0 mts a 2.90 mts'}, {'name': 'edificio_de_piscina', 'value': '2 plantas, área de 321.92 m², servicios de piscina, sauna, gimnasio'}, {'name': 'cupos_de_parqueo_residentes', 'value': '568 cupos en total'}, {'name': 'cupos_de_parqueo_visitantes', 'value': '64 cupos en total'}, {'name': 'cupos_de_parqueo_motos', 'value': '41 cupos'}, {'name': 'proporcion_de_parqueaderos', 'value': '1 parqueadero cada 8 viviendas'}, {'name': 'cupos_de_parqueo_bicicletas', 'value': '122 cupos (21 cupos de parqueaderos para Discapacitados incluidos)'}]}, {'type': 'TIPO_APTO', 'entity_id': 'TIPO_APTO_TIPO_A', 'props': [{'name': 'tipo', 'value': 'A'}, {'name': 'area', 'value': '80.0 m²'}, {'name': 'unidades', 'value': '180'}]}, {'type': 'TIPO_APTO', 'entity_id': 'TIPO_APTO_TIPO_B', 'props': [{'name': 'tipo', 'value': 'B'}, {'name': 'area', 'value': '70.0 m²'}, {'name': 'unidades', 'value': '171'}]}, {'type': 'TIPO_APTO', 'entity_id': 'TIPO_APTO_TIPO_C', 'props': [{'name': 'tipo', 'value': 'C'}, {'name': 'area_de_vivienda', 'value': '56.57 m²'}, {'name': 'area_de_terrazas', 'value': '5.02 m²'}, {'name': 'area_total', 'value': '61.59 m²'}, {'name': 'unidades', 'value': '9'}]}, {'type': 'TIPO_APTO', 'entity_id': 'TIPO_APTO_TIPO_D', 'props': [{'name': 'tipo', 'value': 'D'}, {'name': 'area', 'value': '57.0 m²'}, {'name': 'unidades', 'value': '60'}]}, {'type': 'TIPO_APTO', 'entity_id': 'TIPO_APTO_TIPO_D1', 'props': [{'name': 'tipo', 'value': 'D1'}, {'name': 'area_de_vivienda', 'value': '58.69 m²'}, {'name': 'area_de_terrazas', 'value': '0.00 m²'}, {'name': 'area_total', 'value': '58.69 m²'}, {'name': 'unidades', 'value': '30'}]}, {'type': 'TIPO_APTO', 'entity_id': 'TIPO_APTO_TIPO_D2', 'props': [{'name': 'tipo', 'value': 'D2'}, {'name': 'area_de_vivienda', 'value': '58.89 m²'}, {'name': 'area_de_terrazas', 'value': '0.00 m²'}, {'name': 'area_total', 'value': '58.89 m²'}, {'name': 'unidades', 'value': '2'}]}, {'type': 'TIPO_APTO', 'entity_id': 'TIPO_APTO_TIPO_D3', 'props': [{'name': 'tipo', 'value': 'D3'}, {'name': 'area_de_vivienda', 'value': '58.59 m²'}, {'name': 'area_de_terrazas', 'value': '0.00 m²'}, {'name': 'area_total', 'value': '58.59 m²'}, {'name': 'unidades', 'value': '28'}]}, {'type': 'TIPO_APTO', 'entity_id': 'TIPO_APTO_TIPO_D4', 'props': [{'name': 'tipo', 'value': 'D4'}, {'name': 'area_de_vivienda', 'value': '58.77 m²'}, {'name': 'area_de_terrazas', 'value': '0.00 m²'}, {'name': 'area_total', 'value': '58.77 m²'}, {'name': 'unidades', 'value': '28'}]}, {'type': 'TIPO_APTO', 'entity_id': 'TIPO_APTO_TIPO_E', 'props': [{'name': 'tipo', 'value': 'E'}, {'name': 'area_de_vivienda', 'value': '49.51 m²'}, {'name': 'area_de_terrazas', 'value': '0.00 m²'}, {'name': 'area_total', 'value': '49.51 m²'}, {'name': 'unidades', 'value': '2'}]}], 'relations': [{'from_entity_id': 'PROYECTO_PARDELA', 'type': 'HAS', 'to_entity_id': 'TIPO_APTO_TIPO_A', 'props': []}, {'from_entity_id': 'PROYECTO_PARDELA', 'type': 'HAS', 'to_entity_id': 'TIPO_APTO_TIPO_B', 'props': []}, {'from_entity_id': 'PROYECTO_PARDELA', 'type': 'HAS', 'to_entity_id': 'TIPO_APTO_TIPO_C', 'props': []}, {'from_entity_id': 'PROYECTO_PARDELA', 'type': 'HAS', 'to_entity_id': 'TIPO_APTO_TIPO_D', 'props': []}, {'from_entity_id': 'PROYECTO_PARDELA', 'type': 'HAS', 'to_entity_id': 'TIPO_APTO_TIPO_D1', 'props': []}, {'from_entity_id': 'PROYECTO_PARDELA', 'type': 'HAS', 'to_entity_id': 'TIPO_APTO_TIPO_D2', 'props': []}, {'from_entity_id': 'PROYECTO_PARDELA', 'type': 'HAS', 'to_entity_id': 'TIPO_APTO_TIPO_D3', 'props': []}, {'from_entity_id': 'PROYECTO_PARDELA', 'type': 'HAS', 'to_entity_id': 'TIPO_APTO_TIPO_D4', 'props': []}, {'from_entity_id': 'PROYECTO_PARDELA', 'type': 'HAS', 'to_entity_id': 'TIPO_APTO_TIPO_E', 'props': []}]}}]\n"
     ]
    }
   ],
   "source": [
    "nodes_df, relations_df = None, None\n",
    "count = 0\n",
    "\n",
    "for chunk in prodesa_alameda_chunks:\n",
    "    json_nodes = \"\"\n",
    "    if nodes_df is not None:\n",
    "        json_nodes = nodes_df.to_json(orient=\"records\")\n",
    "\n",
    "    _nodes_df, _relations_df = get_schema(json_nodes, chunk.text, \"node=Ciudad;node=Macroproyecto;node=Proyecto;node=Tipo_Apto\\nedge=HAS\")\n",
    "\n",
    "    if not _nodes_df.empty:\n",
    "        _nodes_df['props'] = _nodes_df['props'].apply(lambda x: {v['name']: v['value'] for v in x})\n",
    "\n",
    "    if not _relations_df.empty:\n",
    "        _relations_df['props'] = _relations_df['props'].apply(lambda x: {v['name']: v['value'] for v in x})\n",
    "\n",
    "    if nodes_df is None:\n",
    "        nodes_df = _nodes_df\n",
    "\n",
    "    if not _nodes_df.empty:\n",
    "        nodes_df = merge_schemas(nodes_df, _nodes_df, ['entity_id'])\n",
    "\n",
    "    if relations_df is None:\n",
    "        relations_df = _relations_df\n",
    "\n",
    "    if not _relations_df.empty:\n",
    "        relations_df = merge_schemas(relations_df, _relations_df, ['from_entity_id', 'to_entity_id'])"
   ]
  },
  {
   "cell_type": "code",
   "execution_count": 167,
   "metadata": {},
   "outputs": [
    {
     "data": {
      "text/html": [
       "<div>\n",
       "<style scoped>\n",
       "    .dataframe tbody tr th:only-of-type {\n",
       "        vertical-align: middle;\n",
       "    }\n",
       "\n",
       "    .dataframe tbody tr th {\n",
       "        vertical-align: top;\n",
       "    }\n",
       "\n",
       "    .dataframe thead th {\n",
       "        text-align: right;\n",
       "    }\n",
       "</style>\n",
       "<table border=\"1\" class=\"dataframe\">\n",
       "  <thead>\n",
       "    <tr style=\"text-align: right;\">\n",
       "      <th></th>\n",
       "      <th>entity_id</th>\n",
       "      <th>type</th>\n",
       "      <th>props</th>\n",
       "    </tr>\n",
       "  </thead>\n",
       "  <tbody>\n",
       "    <tr>\n",
       "      <th>0</th>\n",
       "      <td>CIUDAD_BARRANQUILLA</td>\n",
       "      <td>CIUDAD</td>\n",
       "      <td>{'nombre': 'Barranquilla', 'departamento': 'At...</td>\n",
       "    </tr>\n",
       "    <tr>\n",
       "      <th>1</th>\n",
       "      <td>MACROPROYECTO_ALAMEDA_DEL_RIO</td>\n",
       "      <td>MACROPROYECTO</td>\n",
       "      <td>{'nombre': 'Alameda del Rio', 'ubicacion': 'Pr...</td>\n",
       "    </tr>\n",
       "    <tr>\n",
       "      <th>2</th>\n",
       "      <td>PROYECTO_PARDELA</td>\n",
       "      <td>PROYECTO</td>\n",
       "      <td>{'nombre': 'Pardela', 'localizacion': 'M-R14 d...</td>\n",
       "    </tr>\n",
       "    <tr>\n",
       "      <th>3</th>\n",
       "      <td>TIPO_APTO_TIPO_A</td>\n",
       "      <td>TIPO_APTO</td>\n",
       "      <td>{'tipo': 'A', 'area': '80.0 m²', 'unidades': '...</td>\n",
       "    </tr>\n",
       "    <tr>\n",
       "      <th>4</th>\n",
       "      <td>TIPO_APTO_TIPO_B</td>\n",
       "      <td>TIPO_APTO</td>\n",
       "      <td>{'tipo': 'B', 'area': '70.0 m²', 'unidades': '...</td>\n",
       "    </tr>\n",
       "    <tr>\n",
       "      <th>5</th>\n",
       "      <td>TIPO_APTO_TIPO_C</td>\n",
       "      <td>TIPO_APTO</td>\n",
       "      <td>{'tipo': 'C', 'area_de_vivienda': '56.57 m²', ...</td>\n",
       "    </tr>\n",
       "    <tr>\n",
       "      <th>6</th>\n",
       "      <td>TIPO_APTO_TIPO_D</td>\n",
       "      <td>TIPO_APTO</td>\n",
       "      <td>{'tipo': 'D', 'area': '57.0 m²', 'unidades': '...</td>\n",
       "    </tr>\n",
       "    <tr>\n",
       "      <th>7</th>\n",
       "      <td>TIPO_APTO_TIPO_D1</td>\n",
       "      <td>TIPO_APTO</td>\n",
       "      <td>{'tipo': 'D1', 'area_de_vivienda': '58.69 m²',...</td>\n",
       "    </tr>\n",
       "    <tr>\n",
       "      <th>8</th>\n",
       "      <td>TIPO_APTO_TIPO_D2</td>\n",
       "      <td>TIPO_APTO</td>\n",
       "      <td>{'tipo': 'D2', 'area_de_vivienda': '58.89 m²',...</td>\n",
       "    </tr>\n",
       "    <tr>\n",
       "      <th>9</th>\n",
       "      <td>TIPO_APTO_TIPO_D3</td>\n",
       "      <td>TIPO_APTO</td>\n",
       "      <td>{'tipo': 'D3', 'area_de_vivienda': '58.59 m²',...</td>\n",
       "    </tr>\n",
       "    <tr>\n",
       "      <th>10</th>\n",
       "      <td>TIPO_APTO_TIPO_D4</td>\n",
       "      <td>TIPO_APTO</td>\n",
       "      <td>{'tipo': 'D4', 'area_de_vivienda': '58.77 m²',...</td>\n",
       "    </tr>\n",
       "    <tr>\n",
       "      <th>11</th>\n",
       "      <td>TIPO_APTO_TIPO_E</td>\n",
       "      <td>TIPO_APTO</td>\n",
       "      <td>{'tipo': 'E', 'area_de_vivienda': '49.51 m²', ...</td>\n",
       "    </tr>\n",
       "  </tbody>\n",
       "</table>\n",
       "</div>"
      ],
      "text/plain": [
       "                        entity_id           type  \\\n",
       "0             CIUDAD_BARRANQUILLA         CIUDAD   \n",
       "1   MACROPROYECTO_ALAMEDA_DEL_RIO  MACROPROYECTO   \n",
       "2                PROYECTO_PARDELA       PROYECTO   \n",
       "3                TIPO_APTO_TIPO_A      TIPO_APTO   \n",
       "4                TIPO_APTO_TIPO_B      TIPO_APTO   \n",
       "5                TIPO_APTO_TIPO_C      TIPO_APTO   \n",
       "6                TIPO_APTO_TIPO_D      TIPO_APTO   \n",
       "7               TIPO_APTO_TIPO_D1      TIPO_APTO   \n",
       "8               TIPO_APTO_TIPO_D2      TIPO_APTO   \n",
       "9               TIPO_APTO_TIPO_D3      TIPO_APTO   \n",
       "10              TIPO_APTO_TIPO_D4      TIPO_APTO   \n",
       "11               TIPO_APTO_TIPO_E      TIPO_APTO   \n",
       "\n",
       "                                                props  \n",
       "0   {'nombre': 'Barranquilla', 'departamento': 'At...  \n",
       "1   {'nombre': 'Alameda del Rio', 'ubicacion': 'Pr...  \n",
       "2   {'nombre': 'Pardela', 'localizacion': 'M-R14 d...  \n",
       "3   {'tipo': 'A', 'area': '80.0 m²', 'unidades': '...  \n",
       "4   {'tipo': 'B', 'area': '70.0 m²', 'unidades': '...  \n",
       "5   {'tipo': 'C', 'area_de_vivienda': '56.57 m²', ...  \n",
       "6   {'tipo': 'D', 'area': '57.0 m²', 'unidades': '...  \n",
       "7   {'tipo': 'D1', 'area_de_vivienda': '58.69 m²',...  \n",
       "8   {'tipo': 'D2', 'area_de_vivienda': '58.89 m²',...  \n",
       "9   {'tipo': 'D3', 'area_de_vivienda': '58.59 m²',...  \n",
       "10  {'tipo': 'D4', 'area_de_vivienda': '58.77 m²',...  \n",
       "11  {'tipo': 'E', 'area_de_vivienda': '49.51 m²', ...  "
      ]
     },
     "execution_count": 167,
     "metadata": {},
     "output_type": "execute_result"
    }
   ],
   "source": [
    "nodes_df"
   ]
  },
  {
   "cell_type": "code",
   "execution_count": 153,
   "metadata": {},
   "outputs": [
    {
     "data": {
      "text/html": [
       "<div>\n",
       "<style scoped>\n",
       "    .dataframe tbody tr th:only-of-type {\n",
       "        vertical-align: middle;\n",
       "    }\n",
       "\n",
       "    .dataframe tbody tr th {\n",
       "        vertical-align: top;\n",
       "    }\n",
       "\n",
       "    .dataframe thead th {\n",
       "        text-align: right;\n",
       "    }\n",
       "</style>\n",
       "<table border=\"1\" class=\"dataframe\">\n",
       "  <thead>\n",
       "    <tr style=\"text-align: right;\">\n",
       "      <th></th>\n",
       "      <th>from_entity_id</th>\n",
       "      <th>to_entity_id</th>\n",
       "      <th>type</th>\n",
       "      <th>props</th>\n",
       "    </tr>\n",
       "  </thead>\n",
       "  <tbody>\n",
       "    <tr>\n",
       "      <th>0</th>\n",
       "      <td>CIUDAD_BARRANQUILLA</td>\n",
       "      <td>MACROPROYECTO_ALAMEDA_DEL_RIO</td>\n",
       "      <td>HAS</td>\n",
       "      <td>{'relacion': 'La ciudad de Barranquilla contie...</td>\n",
       "    </tr>\n",
       "    <tr>\n",
       "      <th>1</th>\n",
       "      <td>MACROPROYECTO_ALAMEDA_DEL_RIO</td>\n",
       "      <td>PROYECTO_PARDELA</td>\n",
       "      <td>HAS</td>\n",
       "      <td>{'relacion': 'El Macroproyecto Alameda del Rio...</td>\n",
       "    </tr>\n",
       "    <tr>\n",
       "      <th>2</th>\n",
       "      <td>PROYECTO_PARDELA</td>\n",
       "      <td>TIPO_APTO_TIPO_A</td>\n",
       "      <td>HAS</td>\n",
       "      <td>{'relacion': 'El Proyecto Pardela ofrece apart...</td>\n",
       "    </tr>\n",
       "    <tr>\n",
       "      <th>3</th>\n",
       "      <td>PROYECTO_PARDELA</td>\n",
       "      <td>TIPO_APTO_TIPO_B</td>\n",
       "      <td>HAS</td>\n",
       "      <td>{'relacion': 'El Proyecto Pardela ofrece apart...</td>\n",
       "    </tr>\n",
       "    <tr>\n",
       "      <th>4</th>\n",
       "      <td>PROYECTO_PARDELA</td>\n",
       "      <td>TIPO_APTO_TIPO_C</td>\n",
       "      <td>HAS</td>\n",
       "      <td>{'relacion': 'El Proyecto Pardela ofrece apart...</td>\n",
       "    </tr>\n",
       "    <tr>\n",
       "      <th>5</th>\n",
       "      <td>PROYECTO_PARDELA</td>\n",
       "      <td>TIPO_APTO_TIPO_D</td>\n",
       "      <td>HAS</td>\n",
       "      <td>{'relacion': 'El Proyecto Pardela ofrece apart...</td>\n",
       "    </tr>\n",
       "    <tr>\n",
       "      <th>6</th>\n",
       "      <td>PROYECTO_PARDELA</td>\n",
       "      <td>TIPO_APTO_TIPO_D1</td>\n",
       "      <td>HAS</td>\n",
       "      <td>{'relacion': 'El Proyecto Pardela ofrece apart...</td>\n",
       "    </tr>\n",
       "    <tr>\n",
       "      <th>7</th>\n",
       "      <td>PROYECTO_PARDELA</td>\n",
       "      <td>TIPO_APTO_TIPO_D2</td>\n",
       "      <td>HAS</td>\n",
       "      <td>{'relacion': 'El Proyecto Pardela ofrece apart...</td>\n",
       "    </tr>\n",
       "    <tr>\n",
       "      <th>8</th>\n",
       "      <td>PROYECTO_PARDELA</td>\n",
       "      <td>TIPO_APTO_TIPO_D3</td>\n",
       "      <td>HAS</td>\n",
       "      <td>{'relacion': 'El Proyecto Pardela ofrece apart...</td>\n",
       "    </tr>\n",
       "    <tr>\n",
       "      <th>9</th>\n",
       "      <td>PROYECTO_PARDELA</td>\n",
       "      <td>TIPO_APTO_TIPO_D4</td>\n",
       "      <td>HAS</td>\n",
       "      <td>{'relacion': 'El Proyecto Pardela ofrece apart...</td>\n",
       "    </tr>\n",
       "    <tr>\n",
       "      <th>10</th>\n",
       "      <td>PROYECTO_PARDELA</td>\n",
       "      <td>TIPO_APTO_TIPO_E</td>\n",
       "      <td>HAS</td>\n",
       "      <td>{'relacion': 'El Proyecto Pardela ofrece apart...</td>\n",
       "    </tr>\n",
       "  </tbody>\n",
       "</table>\n",
       "</div>"
      ],
      "text/plain": [
       "                   from_entity_id                   to_entity_id type  \\\n",
       "0             CIUDAD_BARRANQUILLA  MACROPROYECTO_ALAMEDA_DEL_RIO  HAS   \n",
       "1   MACROPROYECTO_ALAMEDA_DEL_RIO               PROYECTO_PARDELA  HAS   \n",
       "2                PROYECTO_PARDELA               TIPO_APTO_TIPO_A  HAS   \n",
       "3                PROYECTO_PARDELA               TIPO_APTO_TIPO_B  HAS   \n",
       "4                PROYECTO_PARDELA               TIPO_APTO_TIPO_C  HAS   \n",
       "5                PROYECTO_PARDELA               TIPO_APTO_TIPO_D  HAS   \n",
       "6                PROYECTO_PARDELA              TIPO_APTO_TIPO_D1  HAS   \n",
       "7                PROYECTO_PARDELA              TIPO_APTO_TIPO_D2  HAS   \n",
       "8                PROYECTO_PARDELA              TIPO_APTO_TIPO_D3  HAS   \n",
       "9                PROYECTO_PARDELA              TIPO_APTO_TIPO_D4  HAS   \n",
       "10               PROYECTO_PARDELA               TIPO_APTO_TIPO_E  HAS   \n",
       "\n",
       "                                                props  \n",
       "0   {'relacion': 'La ciudad de Barranquilla contie...  \n",
       "1   {'relacion': 'El Macroproyecto Alameda del Rio...  \n",
       "2   {'relacion': 'El Proyecto Pardela ofrece apart...  \n",
       "3   {'relacion': 'El Proyecto Pardela ofrece apart...  \n",
       "4   {'relacion': 'El Proyecto Pardela ofrece apart...  \n",
       "5   {'relacion': 'El Proyecto Pardela ofrece apart...  \n",
       "6   {'relacion': 'El Proyecto Pardela ofrece apart...  \n",
       "7   {'relacion': 'El Proyecto Pardela ofrece apart...  \n",
       "8   {'relacion': 'El Proyecto Pardela ofrece apart...  \n",
       "9   {'relacion': 'El Proyecto Pardela ofrece apart...  \n",
       "10  {'relacion': 'El Proyecto Pardela ofrece apart...  "
      ]
     },
     "execution_count": 153,
     "metadata": {},
     "output_type": "execute_result"
    }
   ],
   "source": [
    "relations_df\n",
    "\n"
   ]
  },
  {
   "cell_type": "markdown",
   "metadata": {},
   "source": [
    "# CSV Loading"
   ]
  },
  {
   "cell_type": "code",
   "execution_count": 169,
   "metadata": {},
   "outputs": [],
   "source": [
    "def create_csv(nodes_df, relations_df, filename):\n",
    "    nodes_df.to_csv(filename + \"_nodes.csv\", index=False)\n",
    "    relations_df.to_csv(filename + \"_relations.csv\", index=False)"
   ]
  },
  {
   "cell_type": "code",
   "execution_count": 171,
   "metadata": {},
   "outputs": [],
   "source": [
    "create_csv(nodes_df, relations_df, \"outputs/prodesa_alameda\")"
   ]
  },
  {
   "cell_type": "markdown",
   "metadata": {},
   "source": [
    "# Load into Neo4J"
   ]
  },
  {
   "cell_type": "code",
   "execution_count": 172,
   "metadata": {},
   "outputs": [],
   "source": [
    "import dotenv\n",
    "import os\n",
    "from neo4j import GraphDatabase\n",
    "\n",
    "load_status = dotenv.load_dotenv(\"Neo4j-0c2c4bc6-Created-2024-09-16.txt\")\n",
    "if load_status is False:\n",
    "    raise RuntimeError('Environment variables not loaded.')\n",
    "\n",
    "URI = os.getenv(\"NEO4J_URI\")\n",
    "AUTH = (os.getenv(\"NEO4J_USERNAME\"), os.getenv(\"NEO4J_PASSWORD\"))\n",
    "\n",
    "with GraphDatabase.driver(URI, auth=AUTH) as driver:\n",
    "    driver.verify_connectivity()"
   ]
  },
  {
   "cell_type": "code",
   "execution_count": 225,
   "metadata": {},
   "outputs": [],
   "source": [
    "import ast\n",
    "\n",
    "def create_nodes_merges(file_path):\n",
    "    df = pd.read_csv(file_path)\n",
    "\n",
    "    props_by_type = {}\n",
    "\n",
    "    for _, row in df.iterrows():\n",
    "        props = ast.literal_eval(row['props'])\n",
    "        props_by_type[row['type']] = props_by_type.get(row[\"type\"], set()).union(set(props.keys()))\n",
    "\n",
    "    merge_by_type = {}\n",
    "\n",
    "    for key, value in props_by_type.items():\n",
    "        merge_by_type[key] = f\"MERGE (n:{key} {{{', '.join([f'{k}: row.{k}' for k in value])}}})\"\n",
    "\n",
    "    return merge_by_type\n"
   ]
  },
  {
   "cell_type": "code",
   "execution_count": 226,
   "metadata": {},
   "outputs": [
    {
     "name": "stdout",
     "output_type": "stream",
     "text": [
      "{'CIUDAD': 'MERGE (n:CIUDAD {nombre: row.nombre, departamento: row.departamento})', 'MACROPROYECTO': 'MERGE (n:MACROPROYECTO {ubicacion: row.ubicacion, nombre: row.nombre, caracteristicas: row.caracteristicas})', 'PROYECTO': 'MERGE (n:PROYECTO {localizacion: row.localizacion, proporcion_de_parqueaderos: row.proporcion_de_parqueaderos, cupos_de_parqueo_motos: row.cupos_de_parqueo_motos, area_de_vivienda: row.area_de_vivienda, edificio_de_parqueos: row.edificio_de_parqueos, cupos_de_parqueo_bicicletas: row.cupos_de_parqueo_bicicletas, edificio_de_porteria_y_servicios_comunales: row.edificio_de_porteria_y_servicios_comunales, cupos_de_parqueo_visitantes: row.cupos_de_parqueo_visitantes, torres: row.torres, altura_libre_torres_a_b_y_c: row.altura_libre_torres_a_b_y_c, altura_libre_torre_d: row.altura_libre_torre_d, nombre: row.nombre, area_construida_total: row.area_construida_total, unidades_de_vivienda: row.unidades_de_vivienda, sistema_constructivo: row.sistema_constructivo, edificio_comunal: row.edificio_comunal, edificio_de_piscina: row.edificio_de_piscina, estrato_socio_economico: row.estrato_socio_economico, cupos_de_parqueo_residentes: row.cupos_de_parqueo_residentes})', 'TIPO_APTO': 'MERGE (n:TIPO_APTO {tipo: row.tipo, area: row.area, area_de_vivienda: row.area_de_vivienda, area_de_terrazas: row.area_de_terrazas, unidades: row.unidades, area_total: row.area_total})'}\n"
     ]
    },
    {
     "name": "stderr",
     "output_type": "stream",
     "text": [
      "/tmp/ipykernel_15573/254020572.py:5: DeprecationWarning: Using a driver after it has been closed is deprecated. Future versions of the driver will raise an error.\n",
      "  with driver.session() as session:\n"
     ]
    },
    {
     "ename": "ClientError",
     "evalue": "{code: Neo.ClientError.Statement.ExternalResourceFailed} {message: Invalid URL 'outputs/prodesa_alameda_nodes.csv': no protocol: outputs/prodesa_alameda_nodes.csv ()}",
     "output_type": "error",
     "traceback": [
      "\u001b[0;31m---------------------------------------------------------------------------\u001b[0m",
      "\u001b[0;31mClientError\u001b[0m                               Traceback (most recent call last)",
      "Cell \u001b[0;32mIn[226], line 7\u001b[0m\n\u001b[1;32m      5\u001b[0m \u001b[38;5;28;01mwith\u001b[39;00m driver\u001b[38;5;241m.\u001b[39msession() \u001b[38;5;28;01mas\u001b[39;00m session:\n\u001b[1;32m      6\u001b[0m     \u001b[38;5;28;01mfor\u001b[39;00m node_type, merge_str \u001b[38;5;129;01min\u001b[39;00m merges\u001b[38;5;241m.\u001b[39mitems():\n\u001b[0;32m----> 7\u001b[0m         \u001b[43msession\u001b[49m\u001b[38;5;241;43m.\u001b[39;49m\u001b[43mrun\u001b[49m\u001b[43m(\u001b[49m\u001b[38;5;124;43mf\u001b[39;49m\u001b[38;5;124;43m\"\"\"\u001b[39;49m\n\u001b[1;32m      8\u001b[0m \u001b[38;5;124;43m        LOAD CSV WITH HEADERS FROM \u001b[39;49m\u001b[38;5;124;43m'\u001b[39;49m\u001b[38;5;124;43moutputs/prodesa_alameda_nodes.csv\u001b[39;49m\u001b[38;5;124;43m'\u001b[39;49m\n\u001b[1;32m      9\u001b[0m \u001b[38;5;124;43m        AS row\u001b[39;49m\n\u001b[1;32m     10\u001b[0m \u001b[38;5;124;43m        \u001b[39;49m\u001b[38;5;132;43;01m{\u001b[39;49;00m\u001b[43mmerge_str\u001b[49m\u001b[38;5;132;43;01m}\u001b[39;49;00m\u001b[38;5;124;43m\"\"\"\u001b[39;49m\u001b[43m)\u001b[49m\n",
      "File \u001b[0;32m~/.pyenv/versions/3.11.0/envs/unstructured-parser/lib/python3.11/site-packages/neo4j/_sync/work/session.py:320\u001b[0m, in \u001b[0;36mSession.run\u001b[0;34m(self, query, parameters, **kwargs)\u001b[0m\n\u001b[1;32m    318\u001b[0m bookmarks \u001b[38;5;241m=\u001b[39m \u001b[38;5;28mself\u001b[39m\u001b[38;5;241m.\u001b[39m_get_bookmarks()\n\u001b[1;32m    319\u001b[0m parameters \u001b[38;5;241m=\u001b[39m \u001b[38;5;28mdict\u001b[39m(parameters \u001b[38;5;129;01mor\u001b[39;00m {}, \u001b[38;5;241m*\u001b[39m\u001b[38;5;241m*\u001b[39mkwargs)\n\u001b[0;32m--> 320\u001b[0m \u001b[38;5;28;43mself\u001b[39;49m\u001b[38;5;241;43m.\u001b[39;49m\u001b[43m_auto_result\u001b[49m\u001b[38;5;241;43m.\u001b[39;49m\u001b[43m_run\u001b[49m\u001b[43m(\u001b[49m\n\u001b[1;32m    321\u001b[0m \u001b[43m    \u001b[49m\u001b[43mquery\u001b[49m\u001b[43m,\u001b[49m\n\u001b[1;32m    322\u001b[0m \u001b[43m    \u001b[49m\u001b[43mparameters\u001b[49m\u001b[43m,\u001b[49m\n\u001b[1;32m    323\u001b[0m \u001b[43m    \u001b[49m\u001b[38;5;28;43mself\u001b[39;49m\u001b[38;5;241;43m.\u001b[39;49m\u001b[43m_config\u001b[49m\u001b[38;5;241;43m.\u001b[39;49m\u001b[43mdatabase\u001b[49m\u001b[43m,\u001b[49m\n\u001b[1;32m    324\u001b[0m \u001b[43m    \u001b[49m\u001b[38;5;28;43mself\u001b[39;49m\u001b[38;5;241;43m.\u001b[39;49m\u001b[43m_config\u001b[49m\u001b[38;5;241;43m.\u001b[39;49m\u001b[43mimpersonated_user\u001b[49m\u001b[43m,\u001b[49m\n\u001b[1;32m    325\u001b[0m \u001b[43m    \u001b[49m\u001b[38;5;28;43mself\u001b[39;49m\u001b[38;5;241;43m.\u001b[39;49m\u001b[43m_config\u001b[49m\u001b[38;5;241;43m.\u001b[39;49m\u001b[43mdefault_access_mode\u001b[49m\u001b[43m,\u001b[49m\n\u001b[1;32m    326\u001b[0m \u001b[43m    \u001b[49m\u001b[43mbookmarks\u001b[49m\u001b[43m,\u001b[49m\n\u001b[1;32m    327\u001b[0m \u001b[43m    \u001b[49m\u001b[38;5;28;43mself\u001b[39;49m\u001b[38;5;241;43m.\u001b[39;49m\u001b[43m_config\u001b[49m\u001b[38;5;241;43m.\u001b[39;49m\u001b[43mnotifications_min_severity\u001b[49m\u001b[43m,\u001b[49m\n\u001b[1;32m    328\u001b[0m \u001b[43m    \u001b[49m\u001b[38;5;28;43mself\u001b[39;49m\u001b[38;5;241;43m.\u001b[39;49m\u001b[43m_config\u001b[49m\u001b[38;5;241;43m.\u001b[39;49m\u001b[43mnotifications_disabled_classifications\u001b[49m\u001b[43m,\u001b[49m\n\u001b[1;32m    329\u001b[0m \u001b[43m\u001b[49m\u001b[43m)\u001b[49m\n\u001b[1;32m    331\u001b[0m \u001b[38;5;28;01mreturn\u001b[39;00m \u001b[38;5;28mself\u001b[39m\u001b[38;5;241m.\u001b[39m_auto_result\n",
      "File \u001b[0;32m~/.pyenv/versions/3.11.0/envs/unstructured-parser/lib/python3.11/site-packages/neo4j/_sync/work/result.py:231\u001b[0m, in \u001b[0;36mResult._run\u001b[0;34m(self, query, parameters, db, imp_user, access_mode, bookmarks, notifications_min_severity, notifications_disabled_classifications)\u001b[0m\n\u001b[1;32m    229\u001b[0m \u001b[38;5;28mself\u001b[39m\u001b[38;5;241m.\u001b[39m_pull()\n\u001b[1;32m    230\u001b[0m \u001b[38;5;28mself\u001b[39m\u001b[38;5;241m.\u001b[39m_connection\u001b[38;5;241m.\u001b[39msend_all()\n\u001b[0;32m--> 231\u001b[0m \u001b[38;5;28;43mself\u001b[39;49m\u001b[38;5;241;43m.\u001b[39;49m\u001b[43m_attach\u001b[49m\u001b[43m(\u001b[49m\u001b[43m)\u001b[49m\n",
      "File \u001b[0;32m~/.pyenv/versions/3.11.0/envs/unstructured-parser/lib/python3.11/site-packages/neo4j/_sync/work/result.py:425\u001b[0m, in \u001b[0;36mResult._attach\u001b[0;34m(self)\u001b[0m\n\u001b[1;32m    423\u001b[0m \u001b[38;5;28;01mif\u001b[39;00m \u001b[38;5;28mself\u001b[39m\u001b[38;5;241m.\u001b[39m_exhausted \u001b[38;5;129;01mis\u001b[39;00m \u001b[38;5;28;01mFalse\u001b[39;00m:\n\u001b[1;32m    424\u001b[0m     \u001b[38;5;28;01mwhile\u001b[39;00m \u001b[38;5;28mself\u001b[39m\u001b[38;5;241m.\u001b[39m_attached \u001b[38;5;129;01mis\u001b[39;00m \u001b[38;5;28;01mFalse\u001b[39;00m:\n\u001b[0;32m--> 425\u001b[0m         \u001b[38;5;28;43mself\u001b[39;49m\u001b[38;5;241;43m.\u001b[39;49m\u001b[43m_connection\u001b[49m\u001b[38;5;241;43m.\u001b[39;49m\u001b[43mfetch_message\u001b[49m\u001b[43m(\u001b[49m\u001b[43m)\u001b[49m\n",
      "File \u001b[0;32m~/.pyenv/versions/3.11.0/envs/unstructured-parser/lib/python3.11/site-packages/neo4j/_sync/io/_common.py:181\u001b[0m, in \u001b[0;36mConnectionErrorHandler.__getattr__.<locals>.outer.<locals>.inner\u001b[0;34m(*args, **kwargs)\u001b[0m\n\u001b[1;32m    179\u001b[0m \u001b[38;5;28;01mdef\u001b[39;00m \u001b[38;5;21minner\u001b[39m(\u001b[38;5;241m*\u001b[39margs, \u001b[38;5;241m*\u001b[39m\u001b[38;5;241m*\u001b[39mkwargs):\n\u001b[1;32m    180\u001b[0m     \u001b[38;5;28;01mtry\u001b[39;00m:\n\u001b[0;32m--> 181\u001b[0m         \u001b[43mfunc\u001b[49m\u001b[43m(\u001b[49m\u001b[38;5;241;43m*\u001b[39;49m\u001b[43margs\u001b[49m\u001b[43m,\u001b[49m\u001b[43m \u001b[49m\u001b[38;5;241;43m*\u001b[39;49m\u001b[38;5;241;43m*\u001b[39;49m\u001b[43mkwargs\u001b[49m\u001b[43m)\u001b[49m\n\u001b[1;32m    182\u001b[0m     \u001b[38;5;28;01mexcept\u001b[39;00m (Neo4jError, ServiceUnavailable, SessionExpired) \u001b[38;5;28;01mas\u001b[39;00m exc:\n\u001b[1;32m    183\u001b[0m         \u001b[38;5;28;01massert\u001b[39;00m \u001b[38;5;129;01mnot\u001b[39;00m asyncio\u001b[38;5;241m.\u001b[39miscoroutinefunction(\u001b[38;5;28mself\u001b[39m\u001b[38;5;241m.\u001b[39m__on_error)\n",
      "File \u001b[0;32m~/.pyenv/versions/3.11.0/envs/unstructured-parser/lib/python3.11/site-packages/neo4j/_sync/io/_bolt.py:977\u001b[0m, in \u001b[0;36mBolt.fetch_message\u001b[0;34m(self)\u001b[0m\n\u001b[1;32m    973\u001b[0m \u001b[38;5;66;03m# Receive exactly one message\u001b[39;00m\n\u001b[1;32m    974\u001b[0m tag, fields \u001b[38;5;241m=\u001b[39m \u001b[38;5;28mself\u001b[39m\u001b[38;5;241m.\u001b[39minbox\u001b[38;5;241m.\u001b[39mpop(\n\u001b[1;32m    975\u001b[0m     hydration_hooks\u001b[38;5;241m=\u001b[39m\u001b[38;5;28mself\u001b[39m\u001b[38;5;241m.\u001b[39mresponses[\u001b[38;5;241m0\u001b[39m]\u001b[38;5;241m.\u001b[39mhydration_hooks\n\u001b[1;32m    976\u001b[0m )\n\u001b[0;32m--> 977\u001b[0m res \u001b[38;5;241m=\u001b[39m \u001b[38;5;28;43mself\u001b[39;49m\u001b[38;5;241;43m.\u001b[39;49m\u001b[43m_process_message\u001b[49m\u001b[43m(\u001b[49m\u001b[43mtag\u001b[49m\u001b[43m,\u001b[49m\u001b[43m \u001b[49m\u001b[43mfields\u001b[49m\u001b[43m)\u001b[49m\n\u001b[1;32m    978\u001b[0m \u001b[38;5;28mself\u001b[39m\u001b[38;5;241m.\u001b[39midle_since \u001b[38;5;241m=\u001b[39m monotonic()\n\u001b[1;32m    979\u001b[0m \u001b[38;5;28;01mreturn\u001b[39;00m res\n",
      "File \u001b[0;32m~/.pyenv/versions/3.11.0/envs/unstructured-parser/lib/python3.11/site-packages/neo4j/_sync/io/_bolt5.py:466\u001b[0m, in \u001b[0;36mBolt5x0._process_message\u001b[0;34m(self, tag, fields)\u001b[0m\n\u001b[1;32m    464\u001b[0m \u001b[38;5;28mself\u001b[39m\u001b[38;5;241m.\u001b[39m_server_state_manager\u001b[38;5;241m.\u001b[39mstate \u001b[38;5;241m=\u001b[39m \u001b[38;5;28mself\u001b[39m\u001b[38;5;241m.\u001b[39mbolt_states\u001b[38;5;241m.\u001b[39mFAILED\n\u001b[1;32m    465\u001b[0m \u001b[38;5;28;01mtry\u001b[39;00m:\n\u001b[0;32m--> 466\u001b[0m     \u001b[43mresponse\u001b[49m\u001b[38;5;241;43m.\u001b[39;49m\u001b[43mon_failure\u001b[49m\u001b[43m(\u001b[49m\u001b[43msummary_metadata\u001b[49m\u001b[43m \u001b[49m\u001b[38;5;129;43;01mor\u001b[39;49;00m\u001b[43m \u001b[49m\u001b[43m{\u001b[49m\u001b[43m}\u001b[49m\u001b[43m)\u001b[49m\n\u001b[1;32m    467\u001b[0m \u001b[38;5;28;01mexcept\u001b[39;00m (ServiceUnavailable, DatabaseUnavailable):\n\u001b[1;32m    468\u001b[0m     \u001b[38;5;28;01mif\u001b[39;00m \u001b[38;5;28mself\u001b[39m\u001b[38;5;241m.\u001b[39mpool:\n",
      "File \u001b[0;32m~/.pyenv/versions/3.11.0/envs/unstructured-parser/lib/python3.11/site-packages/neo4j/_sync/io/_common.py:251\u001b[0m, in \u001b[0;36mResponse.on_failure\u001b[0;34m(self, metadata)\u001b[0m\n\u001b[1;32m    249\u001b[0m handler \u001b[38;5;241m=\u001b[39m \u001b[38;5;28mself\u001b[39m\u001b[38;5;241m.\u001b[39mhandlers\u001b[38;5;241m.\u001b[39mget(\u001b[38;5;124m\"\u001b[39m\u001b[38;5;124mon_summary\u001b[39m\u001b[38;5;124m\"\u001b[39m)\n\u001b[1;32m    250\u001b[0m Util\u001b[38;5;241m.\u001b[39mcallback(handler)\n\u001b[0;32m--> 251\u001b[0m \u001b[38;5;28;01mraise\u001b[39;00m Neo4jError\u001b[38;5;241m.\u001b[39mhydrate(\u001b[38;5;241m*\u001b[39m\u001b[38;5;241m*\u001b[39mmetadata)\n",
      "\u001b[0;31mClientError\u001b[0m: {code: Neo.ClientError.Statement.ExternalResourceFailed} {message: Invalid URL 'outputs/prodesa_alameda_nodes.csv': no protocol: outputs/prodesa_alameda_nodes.csv ()}"
     ]
    }
   ],
   "source": [
    "merges = create_nodes_merges(\"outputs/prodesa_alameda_nodes.csv\")\n",
    "\n",
    "print(merges)\n",
    "\n",
    "with driver.session() as session:\n",
    "    for node_type, merge_str in merges.items():\n",
    "        session.run(f\"\"\"\n",
    "        LOAD CSV WITH HEADERS FROM 'outputs/prodesa_alameda_nodes.csv'\n",
    "        AS row\n",
    "        {merge_str}\"\"\")"
   ]
  },
  {
   "cell_type": "code",
   "execution_count": null,
   "metadata": {},
   "outputs": [],
   "source": []
  }
 ],
 "metadata": {
  "kernelspec": {
   "display_name": "unstructured-parser",
   "language": "python",
   "name": "python3"
  },
  "language_info": {
   "codemirror_mode": {
    "name": "ipython",
    "version": 3
   },
   "file_extension": ".py",
   "mimetype": "text/x-python",
   "name": "python",
   "nbconvert_exporter": "python",
   "pygments_lexer": "ipython3",
   "version": "3.11.0"
  }
 },
 "nbformat": 4,
 "nbformat_minor": 2
}
