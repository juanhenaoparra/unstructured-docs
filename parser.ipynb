{
 "cells": [
  {
   "cell_type": "code",
   "execution_count": 37,
   "metadata": {},
   "outputs": [],
   "source": [
    "from unstructured.partition.auto import partition\n",
    "from unstructured.chunking.basic import chunk_elements\n",
    "from unstructured.chunking.title import chunk_by_title"
   ]
  },
  {
   "cell_type": "code",
   "execution_count": 2,
   "metadata": {},
   "outputs": [],
   "source": [
    "text_pdf_filename = \"samples/layout-parser-paper.pdf\"\n",
    "table_img_pdf_filename = \"samples/embedded-images-tables.pdf\"\n",
    "img_pdf_filename = \"samples/embedded-images.pdf\"\n",
    "img_filename = \"samples/layout-parser-paper-fast.jpg\"\n",
    "\n",
    "prodesa_alameda_pdf_filename = \"samples/prodesa/memoria-alameda-del-rio.pdf\""
   ]
  },
  {
   "cell_type": "code",
   "execution_count": 59,
   "metadata": {},
   "outputs": [],
   "source": [
    "elements = partition(filename=text_pdf_filename, strategy='hi_res')\n",
    "# chunks_el = chunk_elements(elements, max_characters=1024, overlap=204)"
   ]
  },
  {
   "cell_type": "code",
   "execution_count": 60,
   "metadata": {},
   "outputs": [
    {
     "name": "stdout",
     "output_type": "stream",
     "text": [
      "Number of elements: 206\n",
      "Number of chunks: 56\n"
     ]
    },
    {
     "data": {
      "text/plain": [
       "1024"
      ]
     },
     "execution_count": 60,
     "metadata": {},
     "output_type": "execute_result"
    }
   ],
   "source": [
    "print(\"Number of elements:\", len(elements))\n",
    "# print(\"Number of chunks:\", len(chunks_el))\n",
    "\n",
    "# max([len(chunk.text) for chunk in chunks_el])\n",
    "\n"
   ]
  },
  {
   "cell_type": "code",
   "execution_count": 26,
   "metadata": {},
   "outputs": [],
   "source": [
    "image_elememts = partition(filename=text_pdf_filename)"
   ]
  },
  {
   "cell_type": "code",
   "execution_count": 35,
   "metadata": {},
   "outputs": [],
   "source": [
    "pdf_table_elements = partition(filename=table_img_pdf_filename)"
   ]
  },
  {
   "cell_type": "code",
   "execution_count": 42,
   "metadata": {},
   "outputs": [],
   "source": [
    "img_pdf_elements = partition(filename=img_pdf_filename)"
   ]
  },
  {
   "cell_type": "code",
   "execution_count": 13,
   "metadata": {},
   "outputs": [
    {
     "name": "stderr",
     "output_type": "stream",
     "text": [
      "The pdf_infer_table_structure kwarg is deprecated. Please use skip_infer_table_types instead.\n",
      "Some weights of the model checkpoint at microsoft/table-transformer-structure-recognition were not used when initializing TableTransformerForObjectDetection: ['model.backbone.conv_encoder.model.layer2.0.downsample.1.num_batches_tracked', 'model.backbone.conv_encoder.model.layer3.0.downsample.1.num_batches_tracked', 'model.backbone.conv_encoder.model.layer4.0.downsample.1.num_batches_tracked']\n",
      "- This IS expected if you are initializing TableTransformerForObjectDetection from the checkpoint of a model trained on another task or with another architecture (e.g. initializing a BertForSequenceClassification model from a BertForPreTraining model).\n",
      "- This IS NOT expected if you are initializing TableTransformerForObjectDetection from the checkpoint of a model that you expect to be exactly identical (initializing a BertForSequenceClassification model from a BertForSequenceClassification model).\n"
     ]
    }
   ],
   "source": [
    "prodesa_alameda_elements = partition(filename=prodesa_alameda_pdf_filename, strategy='hi_res', extract_images_in_pdf=True, pdf_infer_table_structure=True)"
   ]
  },
  {
   "cell_type": "code",
   "execution_count": 45,
   "metadata": {},
   "outputs": [],
   "source": [
    "prodesa_alameda_chunks = chunk_by_title(prodesa_alameda_elements, max_characters=1024, overlap=204)"
   ]
  },
  {
   "cell_type": "code",
   "execution_count": 46,
   "metadata": {},
   "outputs": [
    {
     "name": "stdout",
     "output_type": "stream",
     "text": [
      "1. LOCALIZACIÓN Y VECINOS\n",
      "\n",
      "El Conjunto Residencial “Pardela” se encuentra en la M-R14 del proyecto de viviendas multiestrato Alameda del Rio, que se construirá en los predios de “El Volador”, ubicado sobre la avenida Circunvalar, entre las carreras 38 y 46, colindando con la nueva sede de la selección Colombia. El plan parcial cuenta con 92 hectáreas destinadas a espacio público entre vías y parques; 89 hectáreas de vivienda, comercio y equipamientos, donde podrán vivir cerca de 22.000 familias bajo un modelo denominado “Ciudad dentro de la Ciudad”. Adicionalmente Alameda del Rio contará con 50 hectáreas de parques, alamedas, andenes y ciclorrutas para recreación y deporte. La Manzana limita al norte con proyecto de vivienda también M-R14, al occidente con proyecto de vivienda también M-R14, al sur con la Carrera 43 y al oriente con una vía vehicular local (1).\n",
      "\n",
      "La Manzana tiene un área de 14977.53 m2 donde se desarrollará un proyecto de vivienda 4 torres en 15 pisos.\n"
     ]
    }
   ],
   "source": [
    "print(prodesa_alameda_chunks[1].text)"
   ]
  },
  {
   "cell_type": "code",
   "execution_count": 47,
   "metadata": {},
   "outputs": [
    {
     "name": "stdout",
     "output_type": "stream",
     "text": [
      "Estadio Olimpico Romelio Martinez 9 Colegio Amedeano Earenquilla\n",
      "\n",
      "DocuSign Envelope ID: 2ADADSBD-7DE6-444E-905D-60B0D49491BA\n",
      "\n",
      "2. VIAS DE ACCESO\n",
      "\n",
      "3. ESTRATO SOCIO-ECONÓMICO\n",
      "\n",
      "El Proyecto Pardela se localiza en el nivel socio-económico 3-4\n",
      "\n",
      "4. DESCRIPCIÓN GENERAL\n",
      "\n",
      "Pardela es un proyecto de vivienda con un área construida total de 61358.83 m2 aproximadamente y un área de vivienda de 35817.56m2 que plantea 510 unidades de vivienda.\n",
      "\n",
      "Cuenta con 3 torres de 15 pisos y 8 apartamentos por piso para un total de 360 apartamentos y una torre de 15 pisos y 10 apartamentos por piso para un total de 150 apartamentos.\n",
      "\n",
      "El sistema constructivo consiste en muros estructurales de concreto tanto al interior como en fachada. Solamente algunos muros segundarios se harán en mampostería como los ductos y algunas divisiones en los baños y closets\n",
      "\n",
      "DocuSign Envelope ID: 2ADADSBD-7DE6-444E-905D-60B0D49491BA\n"
     ]
    }
   ],
   "source": [
    "print(prodesa_alameda_chunks[2].text)"
   ]
  }
 ],
 "metadata": {
  "kernelspec": {
   "display_name": "unstructured-parser",
   "language": "python",
   "name": "python3"
  },
  "language_info": {
   "codemirror_mode": {
    "name": "ipython",
    "version": 3
   },
   "file_extension": ".py",
   "mimetype": "text/x-python",
   "name": "python",
   "nbconvert_exporter": "python",
   "pygments_lexer": "ipython3",
   "version": "3.11.0"
  }
 },
 "nbformat": 4,
 "nbformat_minor": 2
}
