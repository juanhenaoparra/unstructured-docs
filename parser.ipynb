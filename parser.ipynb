{
 "cells": [
  {
   "cell_type": "code",
   "execution_count": 2,
   "metadata": {},
   "outputs": [],
   "source": [
    "from unstructured.partition.auto import partition\n",
    "from unstructured.chunking.basic import chunk_elements\n",
    "from unstructured.chunking.title import chunk_by_title\n",
    "import pandas as pd"
   ]
  },
  {
   "cell_type": "code",
   "execution_count": 3,
   "metadata": {},
   "outputs": [],
   "source": [
    "text_pdf_filename = \"samples/layout-parser-paper.pdf\"\n",
    "table_img_pdf_filename = \"samples/embedded-images-tables.pdf\"\n",
    "img_pdf_filename = \"samples/embedded-images.pdf\"\n",
    "img_filename = \"samples/layout-parser-paper-fast.jpg\"\n",
    "\n",
    "prodesa_alameda_pdf_filename = \"samples/prodesa/memoria-alameda-del-rio.pdf\""
   ]
  },
  {
   "cell_type": "code",
   "execution_count": 3,
   "metadata": {},
   "outputs": [
    {
     "name": "stderr",
     "output_type": "stream",
     "text": [
      "/home/parjua/.pyenv/versions/3.11.0/envs/unstructured-parser/lib/python3.11/site-packages/tqdm/auto.py:21: TqdmWarning: IProgress not found. Please update jupyter and ipywidgets. See https://ipywidgets.readthedocs.io/en/stable/user_install.html\n",
      "  from .autonotebook import tqdm as notebook_tqdm\n"
     ]
    },
    {
     "ename": "KeyboardInterrupt",
     "evalue": "",
     "output_type": "error",
     "traceback": [
      "\u001b[0;31m---------------------------------------------------------------------------\u001b[0m",
      "\u001b[0;31mKeyboardInterrupt\u001b[0m                         Traceback (most recent call last)",
      "Cell \u001b[0;32mIn[3], line 1\u001b[0m\n\u001b[0;32m----> 1\u001b[0m elements \u001b[38;5;241m=\u001b[39m \u001b[43mpartition\u001b[49m\u001b[43m(\u001b[49m\u001b[43mfilename\u001b[49m\u001b[38;5;241;43m=\u001b[39;49m\u001b[43mtext_pdf_filename\u001b[49m\u001b[43m,\u001b[49m\u001b[43m \u001b[49m\u001b[43mstrategy\u001b[49m\u001b[38;5;241;43m=\u001b[39;49m\u001b[38;5;124;43m'\u001b[39;49m\u001b[38;5;124;43mhi_res\u001b[39;49m\u001b[38;5;124;43m'\u001b[39;49m\u001b[43m)\u001b[49m\n\u001b[1;32m      2\u001b[0m \u001b[38;5;66;03m# chunks_el = chunk_elements(elements, max_characters=1024, overlap=204)\u001b[39;00m\n",
      "File \u001b[0;32m~/.pyenv/versions/3.11.0/envs/unstructured-parser/lib/python3.11/site-packages/unstructured/partition/auto.py:342\u001b[0m, in \u001b[0;36mpartition\u001b[0;34m(filename, content_type, file, file_filename, url, include_page_breaks, strategy, encoding, paragraph_grouper, headers, skip_infer_table_types, ssl_verify, ocr_languages, languages, detect_language_per_element, pdf_infer_table_structure, extract_images_in_pdf, extract_image_block_types, extract_image_block_output_dir, extract_image_block_to_payload, xml_keep_tags, data_source_metadata, metadata_filename, request_timeout, hi_res_model_name, model_name, date_from_file_object, starting_page_number, **kwargs)\u001b[0m\n\u001b[1;32m    340\u001b[0m \u001b[38;5;28;01melif\u001b[39;00m file_type \u001b[38;5;241m==\u001b[39m FileType\u001b[38;5;241m.\u001b[39mPDF:\n\u001b[1;32m    341\u001b[0m     partition_pdf \u001b[38;5;241m=\u001b[39m partitioner_loader\u001b[38;5;241m.\u001b[39mget(file_type)\n\u001b[0;32m--> 342\u001b[0m     elements \u001b[38;5;241m=\u001b[39m \u001b[43mpartition_pdf\u001b[49m\u001b[43m(\u001b[49m\n\u001b[1;32m    343\u001b[0m \u001b[43m        \u001b[49m\u001b[43mfilename\u001b[49m\u001b[38;5;241;43m=\u001b[39;49m\u001b[43mfilename\u001b[49m\u001b[43m,\u001b[49m\n\u001b[1;32m    344\u001b[0m \u001b[43m        \u001b[49m\u001b[43mfile\u001b[49m\u001b[38;5;241;43m=\u001b[39;49m\u001b[43mfile\u001b[49m\u001b[43m,\u001b[49m\n\u001b[1;32m    345\u001b[0m \u001b[43m        \u001b[49m\u001b[43murl\u001b[49m\u001b[38;5;241;43m=\u001b[39;49m\u001b[38;5;28;43;01mNone\u001b[39;49;00m\u001b[43m,\u001b[49m\n\u001b[1;32m    346\u001b[0m \u001b[43m        \u001b[49m\u001b[43minclude_page_breaks\u001b[49m\u001b[38;5;241;43m=\u001b[39;49m\u001b[43minclude_page_breaks\u001b[49m\u001b[43m,\u001b[49m\n\u001b[1;32m    347\u001b[0m \u001b[43m        \u001b[49m\u001b[43minfer_table_structure\u001b[49m\u001b[38;5;241;43m=\u001b[39;49m\u001b[43minfer_table_structure\u001b[49m\u001b[43m,\u001b[49m\n\u001b[1;32m    348\u001b[0m \u001b[43m        \u001b[49m\u001b[43mstrategy\u001b[49m\u001b[38;5;241;43m=\u001b[39;49m\u001b[43mstrategy\u001b[49m\u001b[43m,\u001b[49m\n\u001b[1;32m    349\u001b[0m \u001b[43m        \u001b[49m\u001b[43mlanguages\u001b[49m\u001b[38;5;241;43m=\u001b[39;49m\u001b[43mlanguages\u001b[49m\u001b[43m,\u001b[49m\n\u001b[1;32m    350\u001b[0m \u001b[43m        \u001b[49m\u001b[43mhi_res_model_name\u001b[49m\u001b[38;5;241;43m=\u001b[39;49m\u001b[43mhi_res_model_name\u001b[49m\u001b[43m \u001b[49m\u001b[38;5;129;43;01mor\u001b[39;49;00m\u001b[43m \u001b[49m\u001b[43mmodel_name\u001b[49m\u001b[43m,\u001b[49m\n\u001b[1;32m    351\u001b[0m \u001b[43m        \u001b[49m\u001b[43mextract_images_in_pdf\u001b[49m\u001b[38;5;241;43m=\u001b[39;49m\u001b[43mextract_images_in_pdf\u001b[49m\u001b[43m,\u001b[49m\n\u001b[1;32m    352\u001b[0m \u001b[43m        \u001b[49m\u001b[43mextract_image_block_types\u001b[49m\u001b[38;5;241;43m=\u001b[39;49m\u001b[43mextract_image_block_types\u001b[49m\u001b[43m,\u001b[49m\n\u001b[1;32m    353\u001b[0m \u001b[43m        \u001b[49m\u001b[43mextract_image_block_output_dir\u001b[49m\u001b[38;5;241;43m=\u001b[39;49m\u001b[43mextract_image_block_output_dir\u001b[49m\u001b[43m,\u001b[49m\n\u001b[1;32m    354\u001b[0m \u001b[43m        \u001b[49m\u001b[43mextract_image_block_to_payload\u001b[49m\u001b[38;5;241;43m=\u001b[39;49m\u001b[43mextract_image_block_to_payload\u001b[49m\u001b[43m,\u001b[49m\n\u001b[1;32m    355\u001b[0m \u001b[43m        \u001b[49m\u001b[43mstarting_page_number\u001b[49m\u001b[38;5;241;43m=\u001b[39;49m\u001b[43mstarting_page_number\u001b[49m\u001b[43m,\u001b[49m\n\u001b[1;32m    356\u001b[0m \u001b[43m        \u001b[49m\u001b[38;5;241;43m*\u001b[39;49m\u001b[38;5;241;43m*\u001b[39;49m\u001b[43mkwargs\u001b[49m\u001b[43m,\u001b[49m\n\u001b[1;32m    357\u001b[0m \u001b[43m    \u001b[49m\u001b[43m)\u001b[49m\n\u001b[1;32m    358\u001b[0m \u001b[38;5;28;01melif\u001b[39;00m file_type \u001b[38;5;241m==\u001b[39m FileType\u001b[38;5;241m.\u001b[39mPPT:\n\u001b[1;32m    359\u001b[0m     partition_ppt \u001b[38;5;241m=\u001b[39m partitioner_loader\u001b[38;5;241m.\u001b[39mget(file_type)\n",
      "File \u001b[0;32m~/.pyenv/versions/3.11.0/envs/unstructured-parser/lib/python3.11/site-packages/unstructured/documents/elements.py:605\u001b[0m, in \u001b[0;36mprocess_metadata.<locals>.decorator.<locals>.wrapper\u001b[0;34m(*args, **kwargs)\u001b[0m\n\u001b[1;32m    603\u001b[0m \u001b[38;5;129m@functools\u001b[39m\u001b[38;5;241m.\u001b[39mwraps(func)\n\u001b[1;32m    604\u001b[0m \u001b[38;5;28;01mdef\u001b[39;00m \u001b[38;5;21mwrapper\u001b[39m(\u001b[38;5;241m*\u001b[39margs: _P\u001b[38;5;241m.\u001b[39margs, \u001b[38;5;241m*\u001b[39m\u001b[38;5;241m*\u001b[39mkwargs: _P\u001b[38;5;241m.\u001b[39mkwargs) \u001b[38;5;241m-\u001b[39m\u001b[38;5;241m>\u001b[39m \u001b[38;5;28mlist\u001b[39m[Element]:\n\u001b[0;32m--> 605\u001b[0m     elements \u001b[38;5;241m=\u001b[39m \u001b[43mfunc\u001b[49m\u001b[43m(\u001b[49m\u001b[38;5;241;43m*\u001b[39;49m\u001b[43margs\u001b[49m\u001b[43m,\u001b[49m\u001b[43m \u001b[49m\u001b[38;5;241;43m*\u001b[39;49m\u001b[38;5;241;43m*\u001b[39;49m\u001b[43mkwargs\u001b[49m\u001b[43m)\u001b[49m\n\u001b[1;32m    606\u001b[0m     call_args \u001b[38;5;241m=\u001b[39m get_call_args_applying_defaults(func, \u001b[38;5;241m*\u001b[39margs, \u001b[38;5;241m*\u001b[39m\u001b[38;5;241m*\u001b[39mkwargs)\n\u001b[1;32m    608\u001b[0m     regex_metadata: \u001b[38;5;28mdict\u001b[39m[\u001b[38;5;124m\"\u001b[39m\u001b[38;5;124mstr\u001b[39m\u001b[38;5;124m\"\u001b[39m, \u001b[38;5;124m\"\u001b[39m\u001b[38;5;124mstr\u001b[39m\u001b[38;5;124m\"\u001b[39m] \u001b[38;5;241m=\u001b[39m call_args\u001b[38;5;241m.\u001b[39mget(\u001b[38;5;124m\"\u001b[39m\u001b[38;5;124mregex_metadata\u001b[39m\u001b[38;5;124m\"\u001b[39m, {})\n",
      "File \u001b[0;32m~/.pyenv/versions/3.11.0/envs/unstructured-parser/lib/python3.11/site-packages/unstructured/file_utils/filetype.py:731\u001b[0m, in \u001b[0;36madd_filetype.<locals>.decorator.<locals>.wrapper\u001b[0;34m(*args, **kwargs)\u001b[0m\n\u001b[1;32m    729\u001b[0m \u001b[38;5;129m@functools\u001b[39m\u001b[38;5;241m.\u001b[39mwraps(func)\n\u001b[1;32m    730\u001b[0m \u001b[38;5;28;01mdef\u001b[39;00m \u001b[38;5;21mwrapper\u001b[39m(\u001b[38;5;241m*\u001b[39margs: _P\u001b[38;5;241m.\u001b[39margs, \u001b[38;5;241m*\u001b[39m\u001b[38;5;241m*\u001b[39mkwargs: _P\u001b[38;5;241m.\u001b[39mkwargs) \u001b[38;5;241m-\u001b[39m\u001b[38;5;241m>\u001b[39m \u001b[38;5;28mlist\u001b[39m[Element]:\n\u001b[0;32m--> 731\u001b[0m     elements \u001b[38;5;241m=\u001b[39m \u001b[43mfunc\u001b[49m\u001b[43m(\u001b[49m\u001b[38;5;241;43m*\u001b[39;49m\u001b[43margs\u001b[49m\u001b[43m,\u001b[49m\u001b[43m \u001b[49m\u001b[38;5;241;43m*\u001b[39;49m\u001b[38;5;241;43m*\u001b[39;49m\u001b[43mkwargs\u001b[49m\u001b[43m)\u001b[49m\n\u001b[1;32m    732\u001b[0m     params \u001b[38;5;241m=\u001b[39m get_call_args_applying_defaults(func, \u001b[38;5;241m*\u001b[39margs, \u001b[38;5;241m*\u001b[39m\u001b[38;5;241m*\u001b[39mkwargs)\n\u001b[1;32m    733\u001b[0m     include_metadata \u001b[38;5;241m=\u001b[39m params\u001b[38;5;241m.\u001b[39mget(\u001b[38;5;124m\"\u001b[39m\u001b[38;5;124minclude_metadata\u001b[39m\u001b[38;5;124m\"\u001b[39m, \u001b[38;5;28;01mTrue\u001b[39;00m)\n",
      "File \u001b[0;32m~/.pyenv/versions/3.11.0/envs/unstructured-parser/lib/python3.11/site-packages/unstructured/file_utils/filetype.py:687\u001b[0m, in \u001b[0;36madd_metadata.<locals>.wrapper\u001b[0;34m(*args, **kwargs)\u001b[0m\n\u001b[1;32m    685\u001b[0m \u001b[38;5;129m@functools\u001b[39m\u001b[38;5;241m.\u001b[39mwraps(func)\n\u001b[1;32m    686\u001b[0m \u001b[38;5;28;01mdef\u001b[39;00m \u001b[38;5;21mwrapper\u001b[39m(\u001b[38;5;241m*\u001b[39margs: _P\u001b[38;5;241m.\u001b[39margs, \u001b[38;5;241m*\u001b[39m\u001b[38;5;241m*\u001b[39mkwargs: _P\u001b[38;5;241m.\u001b[39mkwargs) \u001b[38;5;241m-\u001b[39m\u001b[38;5;241m>\u001b[39m \u001b[38;5;28mlist\u001b[39m[Element]:\n\u001b[0;32m--> 687\u001b[0m     elements \u001b[38;5;241m=\u001b[39m \u001b[43mfunc\u001b[49m\u001b[43m(\u001b[49m\u001b[38;5;241;43m*\u001b[39;49m\u001b[43margs\u001b[49m\u001b[43m,\u001b[49m\u001b[43m \u001b[49m\u001b[38;5;241;43m*\u001b[39;49m\u001b[38;5;241;43m*\u001b[39;49m\u001b[43mkwargs\u001b[49m\u001b[43m)\u001b[49m\n\u001b[1;32m    688\u001b[0m     call_args \u001b[38;5;241m=\u001b[39m get_call_args_applying_defaults(func, \u001b[38;5;241m*\u001b[39margs, \u001b[38;5;241m*\u001b[39m\u001b[38;5;241m*\u001b[39mkwargs)\n\u001b[1;32m    689\u001b[0m     include_metadata \u001b[38;5;241m=\u001b[39m call_args\u001b[38;5;241m.\u001b[39mget(\u001b[38;5;124m\"\u001b[39m\u001b[38;5;124minclude_metadata\u001b[39m\u001b[38;5;124m\"\u001b[39m, \u001b[38;5;28;01mTrue\u001b[39;00m)\n",
      "File \u001b[0;32m~/.pyenv/versions/3.11.0/envs/unstructured-parser/lib/python3.11/site-packages/unstructured/chunking/dispatch.py:74\u001b[0m, in \u001b[0;36madd_chunking_strategy.<locals>.wrapper\u001b[0;34m(*args, **kwargs)\u001b[0m\n\u001b[1;32m     71\u001b[0m \u001b[38;5;250m\u001b[39m\u001b[38;5;124;03m\"\"\"The decorated function is replaced with this one.\"\"\"\u001b[39;00m\n\u001b[1;32m     73\u001b[0m \u001b[38;5;66;03m# -- call the partitioning function to get the elements --\u001b[39;00m\n\u001b[0;32m---> 74\u001b[0m elements \u001b[38;5;241m=\u001b[39m \u001b[43mfunc\u001b[49m\u001b[43m(\u001b[49m\u001b[38;5;241;43m*\u001b[39;49m\u001b[43margs\u001b[49m\u001b[43m,\u001b[49m\u001b[43m \u001b[49m\u001b[38;5;241;43m*\u001b[39;49m\u001b[38;5;241;43m*\u001b[39;49m\u001b[43mkwargs\u001b[49m\u001b[43m)\u001b[49m\n\u001b[1;32m     76\u001b[0m \u001b[38;5;66;03m# -- look for a chunking-strategy argument --\u001b[39;00m\n\u001b[1;32m     77\u001b[0m call_args \u001b[38;5;241m=\u001b[39m get_call_args_applying_defaults(func, \u001b[38;5;241m*\u001b[39margs, \u001b[38;5;241m*\u001b[39m\u001b[38;5;241m*\u001b[39mkwargs)\n",
      "File \u001b[0;32m~/.pyenv/versions/3.11.0/envs/unstructured-parser/lib/python3.11/site-packages/unstructured/partition/pdf.py:205\u001b[0m, in \u001b[0;36mpartition_pdf\u001b[0;34m(filename, file, include_page_breaks, strategy, infer_table_structure, ocr_languages, languages, include_metadata, metadata_filename, metadata_last_modified, chunking_strategy, hi_res_model_name, extract_images_in_pdf, extract_image_block_types, extract_image_block_output_dir, extract_image_block_to_payload, date_from_file_object, starting_page_number, extract_forms, form_extraction_skip_tables, **kwargs)\u001b[0m\n\u001b[1;32m    201\u001b[0m exactly_one(filename\u001b[38;5;241m=\u001b[39mfilename, file\u001b[38;5;241m=\u001b[39mfile)\n\u001b[1;32m    203\u001b[0m languages \u001b[38;5;241m=\u001b[39m check_language_args(languages \u001b[38;5;129;01mor\u001b[39;00m [], ocr_languages)\n\u001b[0;32m--> 205\u001b[0m \u001b[38;5;28;01mreturn\u001b[39;00m \u001b[43mpartition_pdf_or_image\u001b[49m\u001b[43m(\u001b[49m\n\u001b[1;32m    206\u001b[0m \u001b[43m    \u001b[49m\u001b[43mfilename\u001b[49m\u001b[38;5;241;43m=\u001b[39;49m\u001b[43mfilename\u001b[49m\u001b[43m,\u001b[49m\n\u001b[1;32m    207\u001b[0m \u001b[43m    \u001b[49m\u001b[43mfile\u001b[49m\u001b[38;5;241;43m=\u001b[39;49m\u001b[43mfile\u001b[49m\u001b[43m,\u001b[49m\n\u001b[1;32m    208\u001b[0m \u001b[43m    \u001b[49m\u001b[43minclude_page_breaks\u001b[49m\u001b[38;5;241;43m=\u001b[39;49m\u001b[43minclude_page_breaks\u001b[49m\u001b[43m,\u001b[49m\n\u001b[1;32m    209\u001b[0m \u001b[43m    \u001b[49m\u001b[43mstrategy\u001b[49m\u001b[38;5;241;43m=\u001b[39;49m\u001b[43mstrategy\u001b[49m\u001b[43m,\u001b[49m\n\u001b[1;32m    210\u001b[0m \u001b[43m    \u001b[49m\u001b[43minfer_table_structure\u001b[49m\u001b[38;5;241;43m=\u001b[39;49m\u001b[43minfer_table_structure\u001b[49m\u001b[43m,\u001b[49m\n\u001b[1;32m    211\u001b[0m \u001b[43m    \u001b[49m\u001b[43mlanguages\u001b[49m\u001b[38;5;241;43m=\u001b[39;49m\u001b[43mlanguages\u001b[49m\u001b[43m,\u001b[49m\n\u001b[1;32m    212\u001b[0m \u001b[43m    \u001b[49m\u001b[43mmetadata_last_modified\u001b[49m\u001b[38;5;241;43m=\u001b[39;49m\u001b[43mmetadata_last_modified\u001b[49m\u001b[43m,\u001b[49m\n\u001b[1;32m    213\u001b[0m \u001b[43m    \u001b[49m\u001b[43mhi_res_model_name\u001b[49m\u001b[38;5;241;43m=\u001b[39;49m\u001b[43mhi_res_model_name\u001b[49m\u001b[43m,\u001b[49m\n\u001b[1;32m    214\u001b[0m \u001b[43m    \u001b[49m\u001b[43mextract_images_in_pdf\u001b[49m\u001b[38;5;241;43m=\u001b[39;49m\u001b[43mextract_images_in_pdf\u001b[49m\u001b[43m,\u001b[49m\n\u001b[1;32m    215\u001b[0m \u001b[43m    \u001b[49m\u001b[43mextract_image_block_types\u001b[49m\u001b[38;5;241;43m=\u001b[39;49m\u001b[43mextract_image_block_types\u001b[49m\u001b[43m,\u001b[49m\n\u001b[1;32m    216\u001b[0m \u001b[43m    \u001b[49m\u001b[43mextract_image_block_output_dir\u001b[49m\u001b[38;5;241;43m=\u001b[39;49m\u001b[43mextract_image_block_output_dir\u001b[49m\u001b[43m,\u001b[49m\n\u001b[1;32m    217\u001b[0m \u001b[43m    \u001b[49m\u001b[43mextract_image_block_to_payload\u001b[49m\u001b[38;5;241;43m=\u001b[39;49m\u001b[43mextract_image_block_to_payload\u001b[49m\u001b[43m,\u001b[49m\n\u001b[1;32m    218\u001b[0m \u001b[43m    \u001b[49m\u001b[43mdate_from_file_object\u001b[49m\u001b[38;5;241;43m=\u001b[39;49m\u001b[43mdate_from_file_object\u001b[49m\u001b[43m,\u001b[49m\n\u001b[1;32m    219\u001b[0m \u001b[43m    \u001b[49m\u001b[43mstarting_page_number\u001b[49m\u001b[38;5;241;43m=\u001b[39;49m\u001b[43mstarting_page_number\u001b[49m\u001b[43m,\u001b[49m\n\u001b[1;32m    220\u001b[0m \u001b[43m    \u001b[49m\u001b[43mextract_forms\u001b[49m\u001b[38;5;241;43m=\u001b[39;49m\u001b[43mextract_forms\u001b[49m\u001b[43m,\u001b[49m\n\u001b[1;32m    221\u001b[0m \u001b[43m    \u001b[49m\u001b[43mform_extraction_skip_tables\u001b[49m\u001b[38;5;241;43m=\u001b[39;49m\u001b[43mform_extraction_skip_tables\u001b[49m\u001b[43m,\u001b[49m\n\u001b[1;32m    222\u001b[0m \u001b[43m    \u001b[49m\u001b[38;5;241;43m*\u001b[39;49m\u001b[38;5;241;43m*\u001b[39;49m\u001b[43mkwargs\u001b[49m\u001b[43m,\u001b[49m\n\u001b[1;32m    223\u001b[0m \u001b[43m\u001b[49m\u001b[43m)\u001b[49m\n",
      "File \u001b[0;32m~/.pyenv/versions/3.11.0/envs/unstructured-parser/lib/python3.11/site-packages/unstructured/partition/pdf.py:307\u001b[0m, in \u001b[0;36mpartition_pdf_or_image\u001b[0;34m(filename, file, is_image, include_page_breaks, strategy, infer_table_structure, languages, metadata_last_modified, hi_res_model_name, extract_images_in_pdf, extract_image_block_types, extract_image_block_output_dir, extract_image_block_to_payload, date_from_file_object, starting_page_number, extract_forms, form_extraction_skip_tables, **kwargs)\u001b[0m\n\u001b[1;32m    305\u001b[0m     \u001b[38;5;28;01mwith\u001b[39;00m warnings\u001b[38;5;241m.\u001b[39mcatch_warnings():\n\u001b[1;32m    306\u001b[0m         warnings\u001b[38;5;241m.\u001b[39msimplefilter(\u001b[38;5;124m\"\u001b[39m\u001b[38;5;124mignore\u001b[39m\u001b[38;5;124m\"\u001b[39m)\n\u001b[0;32m--> 307\u001b[0m         elements \u001b[38;5;241m=\u001b[39m \u001b[43m_partition_pdf_or_image_local\u001b[49m\u001b[43m(\u001b[49m\n\u001b[1;32m    308\u001b[0m \u001b[43m            \u001b[49m\u001b[43mfilename\u001b[49m\u001b[38;5;241;43m=\u001b[39;49m\u001b[43mfilename\u001b[49m\u001b[43m,\u001b[49m\n\u001b[1;32m    309\u001b[0m \u001b[43m            \u001b[49m\u001b[43mfile\u001b[49m\u001b[38;5;241;43m=\u001b[39;49m\u001b[43mspooled_to_bytes_io_if_needed\u001b[49m\u001b[43m(\u001b[49m\u001b[43mfile\u001b[49m\u001b[43m)\u001b[49m\u001b[43m,\u001b[49m\n\u001b[1;32m    310\u001b[0m \u001b[43m            \u001b[49m\u001b[43mis_image\u001b[49m\u001b[38;5;241;43m=\u001b[39;49m\u001b[43mis_image\u001b[49m\u001b[43m,\u001b[49m\n\u001b[1;32m    311\u001b[0m \u001b[43m            \u001b[49m\u001b[43minfer_table_structure\u001b[49m\u001b[38;5;241;43m=\u001b[39;49m\u001b[43minfer_table_structure\u001b[49m\u001b[43m,\u001b[49m\n\u001b[1;32m    312\u001b[0m \u001b[43m            \u001b[49m\u001b[43minclude_page_breaks\u001b[49m\u001b[38;5;241;43m=\u001b[39;49m\u001b[43minclude_page_breaks\u001b[49m\u001b[43m,\u001b[49m\n\u001b[1;32m    313\u001b[0m \u001b[43m            \u001b[49m\u001b[43mlanguages\u001b[49m\u001b[38;5;241;43m=\u001b[39;49m\u001b[43mlanguages\u001b[49m\u001b[43m,\u001b[49m\n\u001b[1;32m    314\u001b[0m \u001b[43m            \u001b[49m\u001b[43mocr_languages\u001b[49m\u001b[38;5;241;43m=\u001b[39;49m\u001b[43mocr_languages\u001b[49m\u001b[43m,\u001b[49m\n\u001b[1;32m    315\u001b[0m \u001b[43m            \u001b[49m\u001b[43mmetadata_last_modified\u001b[49m\u001b[38;5;241;43m=\u001b[39;49m\u001b[43mmetadata_last_modified\u001b[49m\u001b[43m \u001b[49m\u001b[38;5;129;43;01mor\u001b[39;49;00m\u001b[43m \u001b[49m\u001b[43mlast_modification_date\u001b[49m\u001b[43m,\u001b[49m\n\u001b[1;32m    316\u001b[0m \u001b[43m            \u001b[49m\u001b[43mhi_res_model_name\u001b[49m\u001b[38;5;241;43m=\u001b[39;49m\u001b[43mhi_res_model_name\u001b[49m\u001b[43m,\u001b[49m\n\u001b[1;32m    317\u001b[0m \u001b[43m            \u001b[49m\u001b[43mpdf_text_extractable\u001b[49m\u001b[38;5;241;43m=\u001b[39;49m\u001b[43mpdf_text_extractable\u001b[49m\u001b[43m,\u001b[49m\n\u001b[1;32m    318\u001b[0m \u001b[43m            \u001b[49m\u001b[43mextract_images_in_pdf\u001b[49m\u001b[38;5;241;43m=\u001b[39;49m\u001b[43mextract_images_in_pdf\u001b[49m\u001b[43m,\u001b[49m\n\u001b[1;32m    319\u001b[0m \u001b[43m            \u001b[49m\u001b[43mextract_image_block_types\u001b[49m\u001b[38;5;241;43m=\u001b[39;49m\u001b[43mextract_image_block_types\u001b[49m\u001b[43m,\u001b[49m\n\u001b[1;32m    320\u001b[0m \u001b[43m            \u001b[49m\u001b[43mextract_image_block_output_dir\u001b[49m\u001b[38;5;241;43m=\u001b[39;49m\u001b[43mextract_image_block_output_dir\u001b[49m\u001b[43m,\u001b[49m\n\u001b[1;32m    321\u001b[0m \u001b[43m            \u001b[49m\u001b[43mextract_image_block_to_payload\u001b[49m\u001b[38;5;241;43m=\u001b[39;49m\u001b[43mextract_image_block_to_payload\u001b[49m\u001b[43m,\u001b[49m\n\u001b[1;32m    322\u001b[0m \u001b[43m            \u001b[49m\u001b[43mstarting_page_number\u001b[49m\u001b[38;5;241;43m=\u001b[39;49m\u001b[43mstarting_page_number\u001b[49m\u001b[43m,\u001b[49m\n\u001b[1;32m    323\u001b[0m \u001b[43m            \u001b[49m\u001b[43mextract_forms\u001b[49m\u001b[38;5;241;43m=\u001b[39;49m\u001b[43mextract_forms\u001b[49m\u001b[43m,\u001b[49m\n\u001b[1;32m    324\u001b[0m \u001b[43m            \u001b[49m\u001b[43mform_extraction_skip_tables\u001b[49m\u001b[38;5;241;43m=\u001b[39;49m\u001b[43mform_extraction_skip_tables\u001b[49m\u001b[43m,\u001b[49m\n\u001b[1;32m    325\u001b[0m \u001b[43m            \u001b[49m\u001b[38;5;241;43m*\u001b[39;49m\u001b[38;5;241;43m*\u001b[39;49m\u001b[43mkwargs\u001b[49m\u001b[43m,\u001b[49m\n\u001b[1;32m    326\u001b[0m \u001b[43m        \u001b[49m\u001b[43m)\u001b[49m\n\u001b[1;32m    327\u001b[0m         out_elements \u001b[38;5;241m=\u001b[39m _process_uncategorized_text_elements(elements)\n\u001b[1;32m    329\u001b[0m \u001b[38;5;28;01melif\u001b[39;00m strategy \u001b[38;5;241m==\u001b[39m PartitionStrategy\u001b[38;5;241m.\u001b[39mFAST:\n",
      "File \u001b[0;32m~/.pyenv/versions/3.11.0/envs/unstructured-parser/lib/python3.11/site-packages/unstructured/utils.py:217\u001b[0m, in \u001b[0;36mrequires_dependencies.<locals>.decorator.<locals>.wrapper\u001b[0;34m(*args, **kwargs)\u001b[0m\n\u001b[1;32m    214\u001b[0m \u001b[38;5;129m@wraps\u001b[39m(func)\n\u001b[1;32m    215\u001b[0m \u001b[38;5;28;01mdef\u001b[39;00m \u001b[38;5;21mwrapper\u001b[39m(\u001b[38;5;241m*\u001b[39margs: _P\u001b[38;5;241m.\u001b[39margs, \u001b[38;5;241m*\u001b[39m\u001b[38;5;241m*\u001b[39mkwargs: _P\u001b[38;5;241m.\u001b[39mkwargs):\n\u001b[1;32m    216\u001b[0m     run_check()\n\u001b[0;32m--> 217\u001b[0m     \u001b[38;5;28;01mreturn\u001b[39;00m \u001b[43mfunc\u001b[49m\u001b[43m(\u001b[49m\u001b[38;5;241;43m*\u001b[39;49m\u001b[43margs\u001b[49m\u001b[43m,\u001b[49m\u001b[43m \u001b[49m\u001b[38;5;241;43m*\u001b[39;49m\u001b[38;5;241;43m*\u001b[39;49m\u001b[43mkwargs\u001b[49m\u001b[43m)\u001b[49m\n",
      "File \u001b[0;32m~/.pyenv/versions/3.11.0/envs/unstructured-parser/lib/python3.11/site-packages/unstructured/partition/pdf.py:595\u001b[0m, in \u001b[0;36m_partition_pdf_or_image_local\u001b[0;34m(filename, file, is_image, infer_table_structure, include_page_breaks, languages, ocr_languages, ocr_mode, model_name, hi_res_model_name, pdf_image_dpi, metadata_last_modified, pdf_text_extractable, extract_images_in_pdf, extract_image_block_types, extract_image_block_output_dir, extract_image_block_to_payload, analysis, analyzed_image_output_dir_path, starting_page_number, extract_forms, form_extraction_skip_tables, pdf_hi_res_max_pages, **kwargs)\u001b[0m\n\u001b[1;32m    592\u001b[0m skip_analysis_dump \u001b[38;5;241m=\u001b[39m env_config\u001b[38;5;241m.\u001b[39mANALYSIS_DUMP_OD_SKIP\n\u001b[1;32m    594\u001b[0m \u001b[38;5;28;01mif\u001b[39;00m file \u001b[38;5;129;01mis\u001b[39;00m \u001b[38;5;28;01mNone\u001b[39;00m:\n\u001b[0;32m--> 595\u001b[0m     inferred_document_layout \u001b[38;5;241m=\u001b[39m \u001b[43mprocess_file_with_model\u001b[49m\u001b[43m(\u001b[49m\n\u001b[1;32m    596\u001b[0m \u001b[43m        \u001b[49m\u001b[43mfilename\u001b[49m\u001b[43m,\u001b[49m\n\u001b[1;32m    597\u001b[0m \u001b[43m        \u001b[49m\u001b[43mis_image\u001b[49m\u001b[38;5;241;43m=\u001b[39;49m\u001b[43mis_image\u001b[49m\u001b[43m,\u001b[49m\n\u001b[1;32m    598\u001b[0m \u001b[43m        \u001b[49m\u001b[43mmodel_name\u001b[49m\u001b[38;5;241;43m=\u001b[39;49m\u001b[43mhi_res_model_name\u001b[49m\u001b[43m,\u001b[49m\n\u001b[1;32m    599\u001b[0m \u001b[43m        \u001b[49m\u001b[43mpdf_image_dpi\u001b[49m\u001b[38;5;241;43m=\u001b[39;49m\u001b[43mpdf_image_dpi\u001b[49m\u001b[43m,\u001b[49m\n\u001b[1;32m    600\u001b[0m \u001b[43m    \u001b[49m\u001b[43m)\u001b[49m\n\u001b[1;32m    602\u001b[0m     \u001b[38;5;28;01mif\u001b[39;00m hi_res_model_name\u001b[38;5;241m.\u001b[39mstartswith(\u001b[38;5;124m\"\u001b[39m\u001b[38;5;124mchipper\u001b[39m\u001b[38;5;124m\"\u001b[39m):\n\u001b[1;32m    603\u001b[0m         \u001b[38;5;66;03m# NOTE(alan): We shouldn't do OCR with chipper\u001b[39;00m\n\u001b[1;32m    604\u001b[0m         \u001b[38;5;66;03m# NOTE(antonio): We shouldn't do PDFMiner with chipper\u001b[39;00m\n\u001b[1;32m    605\u001b[0m         final_document_layout \u001b[38;5;241m=\u001b[39m inferred_document_layout\n",
      "File \u001b[0;32m~/.pyenv/versions/3.11.0/envs/unstructured-parser/lib/python3.11/site-packages/unstructured_inference/inference/layout.py:370\u001b[0m, in \u001b[0;36mprocess_file_with_model\u001b[0;34m(filename, model_name, is_image, fixed_layouts, pdf_image_dpi, **kwargs)\u001b[0m\n\u001b[1;32m    360\u001b[0m \u001b[38;5;28;01melse\u001b[39;00m:\n\u001b[1;32m    361\u001b[0m     \u001b[38;5;28;01mraise\u001b[39;00m \u001b[38;5;167;01mValueError\u001b[39;00m(\u001b[38;5;124mf\u001b[39m\u001b[38;5;124m\"\u001b[39m\u001b[38;5;124mUnsupported model type: \u001b[39m\u001b[38;5;132;01m{\u001b[39;00m\u001b[38;5;28mtype\u001b[39m(model)\u001b[38;5;132;01m}\u001b[39;00m\u001b[38;5;124m\"\u001b[39m)\n\u001b[1;32m    362\u001b[0m layout \u001b[38;5;241m=\u001b[39m (\n\u001b[1;32m    363\u001b[0m     DocumentLayout\u001b[38;5;241m.\u001b[39mfrom_image_file(\n\u001b[1;32m    364\u001b[0m         filename,\n\u001b[1;32m    365\u001b[0m         detection_model\u001b[38;5;241m=\u001b[39mdetection_model,\n\u001b[1;32m    366\u001b[0m         element_extraction_model\u001b[38;5;241m=\u001b[39melement_extraction_model,\n\u001b[1;32m    367\u001b[0m         \u001b[38;5;241m*\u001b[39m\u001b[38;5;241m*\u001b[39mkwargs,\n\u001b[1;32m    368\u001b[0m     )\n\u001b[1;32m    369\u001b[0m     \u001b[38;5;28;01mif\u001b[39;00m is_image\n\u001b[0;32m--> 370\u001b[0m     \u001b[38;5;28;01melse\u001b[39;00m \u001b[43mDocumentLayout\u001b[49m\u001b[38;5;241;43m.\u001b[39;49m\u001b[43mfrom_file\u001b[49m\u001b[43m(\u001b[49m\n\u001b[1;32m    371\u001b[0m \u001b[43m        \u001b[49m\u001b[43mfilename\u001b[49m\u001b[43m,\u001b[49m\n\u001b[1;32m    372\u001b[0m \u001b[43m        \u001b[49m\u001b[43mdetection_model\u001b[49m\u001b[38;5;241;43m=\u001b[39;49m\u001b[43mdetection_model\u001b[49m\u001b[43m,\u001b[49m\n\u001b[1;32m    373\u001b[0m \u001b[43m        \u001b[49m\u001b[43melement_extraction_model\u001b[49m\u001b[38;5;241;43m=\u001b[39;49m\u001b[43melement_extraction_model\u001b[49m\u001b[43m,\u001b[49m\n\u001b[1;32m    374\u001b[0m \u001b[43m        \u001b[49m\u001b[43mfixed_layouts\u001b[49m\u001b[38;5;241;43m=\u001b[39;49m\u001b[43mfixed_layouts\u001b[49m\u001b[43m,\u001b[49m\n\u001b[1;32m    375\u001b[0m \u001b[43m        \u001b[49m\u001b[43mpdf_image_dpi\u001b[49m\u001b[38;5;241;43m=\u001b[39;49m\u001b[43mpdf_image_dpi\u001b[49m\u001b[43m,\u001b[49m\n\u001b[1;32m    376\u001b[0m \u001b[43m        \u001b[49m\u001b[38;5;241;43m*\u001b[39;49m\u001b[38;5;241;43m*\u001b[39;49m\u001b[43mkwargs\u001b[49m\u001b[43m,\u001b[49m\n\u001b[1;32m    377\u001b[0m \u001b[43m    \u001b[49m\u001b[43m)\u001b[49m\n\u001b[1;32m    378\u001b[0m )\n\u001b[1;32m    379\u001b[0m \u001b[38;5;28;01mreturn\u001b[39;00m layout\n",
      "File \u001b[0;32m~/.pyenv/versions/3.11.0/envs/unstructured-parser/lib/python3.11/site-packages/unstructured_inference/inference/layout.py:77\u001b[0m, in \u001b[0;36mDocumentLayout.from_file\u001b[0;34m(cls, filename, fixed_layouts, pdf_image_dpi, **kwargs)\u001b[0m\n\u001b[1;32m     73\u001b[0m \u001b[38;5;28;01mfor\u001b[39;00m i, (image_path, fixed_layout) \u001b[38;5;129;01min\u001b[39;00m \u001b[38;5;28menumerate\u001b[39m(\u001b[38;5;28mzip\u001b[39m(image_paths, fixed_layouts)):\n\u001b[1;32m     74\u001b[0m     \u001b[38;5;66;03m# NOTE(robinson) - In the future, maybe we detect the page number and default\u001b[39;00m\n\u001b[1;32m     75\u001b[0m     \u001b[38;5;66;03m# to the index if it is not detected\u001b[39;00m\n\u001b[1;32m     76\u001b[0m     \u001b[38;5;28;01mwith\u001b[39;00m Image\u001b[38;5;241m.\u001b[39mopen(image_path) \u001b[38;5;28;01mas\u001b[39;00m image:\n\u001b[0;32m---> 77\u001b[0m         page \u001b[38;5;241m=\u001b[39m \u001b[43mPageLayout\u001b[49m\u001b[38;5;241;43m.\u001b[39;49m\u001b[43mfrom_image\u001b[49m\u001b[43m(\u001b[49m\n\u001b[1;32m     78\u001b[0m \u001b[43m            \u001b[49m\u001b[43mimage\u001b[49m\u001b[43m,\u001b[49m\n\u001b[1;32m     79\u001b[0m \u001b[43m            \u001b[49m\u001b[43mnumber\u001b[49m\u001b[38;5;241;43m=\u001b[39;49m\u001b[43mi\u001b[49m\u001b[43m \u001b[49m\u001b[38;5;241;43m+\u001b[39;49m\u001b[43m \u001b[49m\u001b[38;5;241;43m1\u001b[39;49m\u001b[43m,\u001b[49m\n\u001b[1;32m     80\u001b[0m \u001b[43m            \u001b[49m\u001b[43mdocument_filename\u001b[49m\u001b[38;5;241;43m=\u001b[39;49m\u001b[43mfilename\u001b[49m\u001b[43m,\u001b[49m\n\u001b[1;32m     81\u001b[0m \u001b[43m            \u001b[49m\u001b[43mfixed_layout\u001b[49m\u001b[38;5;241;43m=\u001b[39;49m\u001b[43mfixed_layout\u001b[49m\u001b[43m,\u001b[49m\n\u001b[1;32m     82\u001b[0m \u001b[43m            \u001b[49m\u001b[38;5;241;43m*\u001b[39;49m\u001b[38;5;241;43m*\u001b[39;49m\u001b[43mkwargs\u001b[49m\u001b[43m,\u001b[49m\n\u001b[1;32m     83\u001b[0m \u001b[43m        \u001b[49m\u001b[43m)\u001b[49m\n\u001b[1;32m     84\u001b[0m         pages\u001b[38;5;241m.\u001b[39mappend(page)\n\u001b[1;32m     85\u001b[0m \u001b[38;5;28;01mreturn\u001b[39;00m \u001b[38;5;28mcls\u001b[39m\u001b[38;5;241m.\u001b[39mfrom_pages(pages)\n",
      "File \u001b[0;32m~/.pyenv/versions/3.11.0/envs/unstructured-parser/lib/python3.11/site-packages/unstructured_inference/inference/layout.py:305\u001b[0m, in \u001b[0;36mPageLayout.from_image\u001b[0;34m(cls, image, image_path, document_filename, number, detection_model, element_extraction_model, fixed_layout)\u001b[0m\n\u001b[1;32m    303\u001b[0m     page\u001b[38;5;241m.\u001b[39mget_elements_using_image_extraction()\n\u001b[1;32m    304\u001b[0m \u001b[38;5;28;01melif\u001b[39;00m fixed_layout \u001b[38;5;129;01mis\u001b[39;00m \u001b[38;5;28;01mNone\u001b[39;00m:\n\u001b[0;32m--> 305\u001b[0m     \u001b[43mpage\u001b[49m\u001b[38;5;241;43m.\u001b[39;49m\u001b[43mget_elements_with_detection_model\u001b[49m\u001b[43m(\u001b[49m\u001b[43m)\u001b[49m\n\u001b[1;32m    306\u001b[0m \u001b[38;5;28;01melse\u001b[39;00m:\n\u001b[1;32m    307\u001b[0m     page\u001b[38;5;241m.\u001b[39melements \u001b[38;5;241m=\u001b[39m []\n",
      "File \u001b[0;32m~/.pyenv/versions/3.11.0/envs/unstructured-parser/lib/python3.11/site-packages/unstructured_inference/inference/layout.py:190\u001b[0m, in \u001b[0;36mPageLayout.get_elements_with_detection_model\u001b[0;34m(self, inplace)\u001b[0m\n\u001b[1;32m    187\u001b[0m \u001b[38;5;66;03m# NOTE(mrobinson) - We'll want make this model inference step some kind of\u001b[39;00m\n\u001b[1;32m    188\u001b[0m \u001b[38;5;66;03m# remote call in the future.\u001b[39;00m\n\u001b[1;32m    189\u001b[0m \u001b[38;5;28;01massert\u001b[39;00m \u001b[38;5;28mself\u001b[39m\u001b[38;5;241m.\u001b[39mimage \u001b[38;5;129;01mis\u001b[39;00m \u001b[38;5;129;01mnot\u001b[39;00m \u001b[38;5;28;01mNone\u001b[39;00m\n\u001b[0;32m--> 190\u001b[0m inferred_layout: List[LayoutElement] \u001b[38;5;241m=\u001b[39m \u001b[38;5;28;43mself\u001b[39;49m\u001b[38;5;241;43m.\u001b[39;49m\u001b[43mdetection_model\u001b[49m\u001b[43m(\u001b[49m\u001b[38;5;28;43mself\u001b[39;49m\u001b[38;5;241;43m.\u001b[39;49m\u001b[43mimage\u001b[49m\u001b[43m)\u001b[49m\n\u001b[1;32m    191\u001b[0m inferred_layout \u001b[38;5;241m=\u001b[39m \u001b[38;5;28mself\u001b[39m\u001b[38;5;241m.\u001b[39mdetection_model\u001b[38;5;241m.\u001b[39mdeduplicate_detected_elements(\n\u001b[1;32m    192\u001b[0m     inferred_layout,\n\u001b[1;32m    193\u001b[0m )\n\u001b[1;32m    195\u001b[0m \u001b[38;5;28;01mif\u001b[39;00m inplace:\n",
      "File \u001b[0;32m~/.pyenv/versions/3.11.0/envs/unstructured-parser/lib/python3.11/site-packages/unstructured_inference/models/unstructuredmodel.py:61\u001b[0m, in \u001b[0;36mUnstructuredObjectDetectionModel.__call__\u001b[0;34m(self, x)\u001b[0m\n\u001b[1;32m     59\u001b[0m \u001b[38;5;28;01mdef\u001b[39;00m \u001b[38;5;21m__call__\u001b[39m(\u001b[38;5;28mself\u001b[39m, x: Image) \u001b[38;5;241m-\u001b[39m\u001b[38;5;241m>\u001b[39m List[LayoutElement]:\n\u001b[1;32m     60\u001b[0m \u001b[38;5;250m    \u001b[39m\u001b[38;5;124;03m\"\"\"Inference using function call interface.\"\"\"\u001b[39;00m\n\u001b[0;32m---> 61\u001b[0m     \u001b[38;5;28;01mreturn\u001b[39;00m \u001b[38;5;28;43msuper\u001b[39;49m\u001b[43m(\u001b[49m\u001b[43m)\u001b[49m\u001b[38;5;241;43m.\u001b[39;49m\u001b[38;5;21;43m__call__\u001b[39;49m\u001b[43m(\u001b[49m\u001b[43mx\u001b[49m\u001b[43m)\u001b[49m\n",
      "File \u001b[0;32m~/.pyenv/versions/3.11.0/envs/unstructured-parser/lib/python3.11/site-packages/unstructured_inference/models/unstructuredmodel.py:42\u001b[0m, in \u001b[0;36mUnstructuredModel.__call__\u001b[0;34m(self, x)\u001b[0m\n\u001b[1;32m     40\u001b[0m \u001b[38;5;28;01mdef\u001b[39;00m \u001b[38;5;21m__call__\u001b[39m(\u001b[38;5;28mself\u001b[39m, x: Any) \u001b[38;5;241m-\u001b[39m\u001b[38;5;241m>\u001b[39m Any:\n\u001b[1;32m     41\u001b[0m \u001b[38;5;250m    \u001b[39m\u001b[38;5;124;03m\"\"\"Inference using function call interface.\"\"\"\u001b[39;00m\n\u001b[0;32m---> 42\u001b[0m     \u001b[38;5;28;01mreturn\u001b[39;00m \u001b[38;5;28;43mself\u001b[39;49m\u001b[38;5;241;43m.\u001b[39;49m\u001b[43mpredict\u001b[49m\u001b[43m(\u001b[49m\u001b[43mx\u001b[49m\u001b[43m)\u001b[49m\n",
      "File \u001b[0;32m~/.pyenv/versions/3.11.0/envs/unstructured-parser/lib/python3.11/site-packages/unstructured_inference/models/yolox.py:69\u001b[0m, in \u001b[0;36mUnstructuredYoloXModel.predict\u001b[0;34m(self, x)\u001b[0m\n\u001b[1;32m     67\u001b[0m \u001b[38;5;250m\u001b[39m\u001b[38;5;124;03m\"\"\"Predict using YoloX model.\"\"\"\u001b[39;00m\n\u001b[1;32m     68\u001b[0m \u001b[38;5;28msuper\u001b[39m()\u001b[38;5;241m.\u001b[39mpredict(x)\n\u001b[0;32m---> 69\u001b[0m \u001b[38;5;28;01mreturn\u001b[39;00m \u001b[38;5;28;43mself\u001b[39;49m\u001b[38;5;241;43m.\u001b[39;49m\u001b[43mimage_processing\u001b[49m\u001b[43m(\u001b[49m\u001b[43mx\u001b[49m\u001b[43m)\u001b[49m\n",
      "File \u001b[0;32m~/.pyenv/versions/3.11.0/envs/unstructured-parser/lib/python3.11/site-packages/unstructured_inference/models/yolox.py:114\u001b[0m, in \u001b[0;36mUnstructuredYoloXModel.image_processing\u001b[0;34m(self, image)\u001b[0m\n\u001b[1;32m    111\u001b[0m session \u001b[38;5;241m=\u001b[39m \u001b[38;5;28mself\u001b[39m\u001b[38;5;241m.\u001b[39mmodel\n\u001b[1;32m    113\u001b[0m ort_inputs \u001b[38;5;241m=\u001b[39m {session\u001b[38;5;241m.\u001b[39mget_inputs()[\u001b[38;5;241m0\u001b[39m]\u001b[38;5;241m.\u001b[39mname: img[\u001b[38;5;28;01mNone\u001b[39;00m, :, :, :]}\n\u001b[0;32m--> 114\u001b[0m output \u001b[38;5;241m=\u001b[39m \u001b[43msession\u001b[49m\u001b[38;5;241;43m.\u001b[39;49m\u001b[43mrun\u001b[49m\u001b[43m(\u001b[49m\u001b[38;5;28;43;01mNone\u001b[39;49;00m\u001b[43m,\u001b[49m\u001b[43m \u001b[49m\u001b[43mort_inputs\u001b[49m\u001b[43m)\u001b[49m\n\u001b[1;32m    115\u001b[0m \u001b[38;5;66;03m# TODO(benjamin): check for p6\u001b[39;00m\n\u001b[1;32m    116\u001b[0m predictions \u001b[38;5;241m=\u001b[39m demo_postprocess(output[\u001b[38;5;241m0\u001b[39m], input_shape, p6\u001b[38;5;241m=\u001b[39m\u001b[38;5;28;01mFalse\u001b[39;00m)[\u001b[38;5;241m0\u001b[39m]\n",
      "File \u001b[0;32m~/.pyenv/versions/3.11.0/envs/unstructured-parser/lib/python3.11/site-packages/onnxruntime/capi/onnxruntime_inference_collection.py:220\u001b[0m, in \u001b[0;36mSession.run\u001b[0;34m(self, output_names, input_feed, run_options)\u001b[0m\n\u001b[1;32m    218\u001b[0m     output_names \u001b[38;5;241m=\u001b[39m [output\u001b[38;5;241m.\u001b[39mname \u001b[38;5;28;01mfor\u001b[39;00m output \u001b[38;5;129;01min\u001b[39;00m \u001b[38;5;28mself\u001b[39m\u001b[38;5;241m.\u001b[39m_outputs_meta]\n\u001b[1;32m    219\u001b[0m \u001b[38;5;28;01mtry\u001b[39;00m:\n\u001b[0;32m--> 220\u001b[0m     \u001b[38;5;28;01mreturn\u001b[39;00m \u001b[38;5;28;43mself\u001b[39;49m\u001b[38;5;241;43m.\u001b[39;49m\u001b[43m_sess\u001b[49m\u001b[38;5;241;43m.\u001b[39;49m\u001b[43mrun\u001b[49m\u001b[43m(\u001b[49m\u001b[43moutput_names\u001b[49m\u001b[43m,\u001b[49m\u001b[43m \u001b[49m\u001b[43minput_feed\u001b[49m\u001b[43m,\u001b[49m\u001b[43m \u001b[49m\u001b[43mrun_options\u001b[49m\u001b[43m)\u001b[49m\n\u001b[1;32m    221\u001b[0m \u001b[38;5;28;01mexcept\u001b[39;00m C\u001b[38;5;241m.\u001b[39mEPFail \u001b[38;5;28;01mas\u001b[39;00m err:\n\u001b[1;32m    222\u001b[0m     \u001b[38;5;28;01mif\u001b[39;00m \u001b[38;5;28mself\u001b[39m\u001b[38;5;241m.\u001b[39m_enable_fallback:\n",
      "\u001b[0;31mKeyboardInterrupt\u001b[0m: "
     ]
    }
   ],
   "source": [
    "elements = partition(filename=text_pdf_filename, strategy='hi_res')\n",
    "# chunks_el = chunk_elements(elements, max_characters=1024, overlap=204)"
   ]
  },
  {
   "cell_type": "code",
   "execution_count": 4,
   "metadata": {},
   "outputs": [
    {
     "name": "stdout",
     "output_type": "stream",
     "text": [
      "Number of elements: 178\n"
     ]
    }
   ],
   "source": [
    "print(\"Number of elements:\", len(elements))\n",
    "# print(\"Number of chunks:\", len(chunks_el))\n",
    "\n",
    "# max([len(chunk.text) for chunk in chunks_el])\n",
    "\n"
   ]
  },
  {
   "cell_type": "code",
   "execution_count": 5,
   "metadata": {},
   "outputs": [],
   "source": [
    "image_elememts = partition(filename=text_pdf_filename)"
   ]
  },
  {
   "cell_type": "code",
   "execution_count": 6,
   "metadata": {},
   "outputs": [],
   "source": [
    "pdf_table_elements = partition(filename=table_img_pdf_filename)"
   ]
  },
  {
   "cell_type": "code",
   "execution_count": 42,
   "metadata": {},
   "outputs": [],
   "source": [
    "img_pdf_elements = partition(filename=img_pdf_filename)"
   ]
  },
  {
   "cell_type": "code",
   "execution_count": 4,
   "metadata": {},
   "outputs": [
    {
     "name": "stderr",
     "output_type": "stream",
     "text": [
      "The pdf_infer_table_structure kwarg is deprecated. Please use skip_infer_table_types instead.\n",
      "/home/parjua/.pyenv/versions/3.11.0/envs/unstructured-parser/lib/python3.11/site-packages/tqdm/auto.py:21: TqdmWarning: IProgress not found. Please update jupyter and ipywidgets. See https://ipywidgets.readthedocs.io/en/stable/user_install.html\n",
      "  from .autonotebook import tqdm as notebook_tqdm\n",
      "Some weights of the model checkpoint at microsoft/table-transformer-structure-recognition were not used when initializing TableTransformerForObjectDetection: ['model.backbone.conv_encoder.model.layer2.0.downsample.1.num_batches_tracked', 'model.backbone.conv_encoder.model.layer3.0.downsample.1.num_batches_tracked', 'model.backbone.conv_encoder.model.layer4.0.downsample.1.num_batches_tracked']\n",
      "- This IS expected if you are initializing TableTransformerForObjectDetection from the checkpoint of a model trained on another task or with another architecture (e.g. initializing a BertForSequenceClassification model from a BertForPreTraining model).\n",
      "- This IS NOT expected if you are initializing TableTransformerForObjectDetection from the checkpoint of a model that you expect to be exactly identical (initializing a BertForSequenceClassification model from a BertForSequenceClassification model).\n"
     ]
    }
   ],
   "source": [
    "prodesa_alameda_elements = partition(filename=prodesa_alameda_pdf_filename, strategy='hi_res', pdf_infer_table_structure=True)"
   ]
  },
  {
   "cell_type": "code",
   "execution_count": 24,
   "metadata": {},
   "outputs": [],
   "source": [
    "prodesa_alameda_chunks = chunk_by_title(prodesa_alameda_elements, max_characters=15024, overlap=204)"
   ]
  },
  {
   "cell_type": "code",
   "execution_count": 12,
   "metadata": {},
   "outputs": [
    {
     "name": "stdout",
     "output_type": "stream",
     "text": [
      "% A VIVIENDA A TERRAZAS AREA TOTAL UNIDADES APTO TIPO A 75,35 4,95 80,30 180 APTO TIPO B 65,35 5,02 70,37 171 APTO TIPO C 56,57 5,02 61,59 9 APTO TIPO D 58,54 0,00 58,54 60 APTO TIPO D1 58,69 0,00 58,69 30 APTO TIPO D2 58,89 0,00 58,89 2 APTO TIPO D3 58,59 0,00 58,59 28 APTO TIPO D4 58,77 0,00 58,77 28 APTO TIPO E 49,51 0,00 49,51 2\n"
     ]
    }
   ],
   "source": [
    "print(prodesa_alameda_chunks[1].text)"
   ]
  },
  {
   "cell_type": "code",
   "execution_count": 25,
   "metadata": {},
   "outputs": [
    {
     "data": {
      "text/plain": [
       "7"
      ]
     },
     "execution_count": 25,
     "metadata": {},
     "output_type": "execute_result"
    }
   ],
   "source": [
    "len(prodesa_alameda_chunks)"
   ]
  },
  {
   "cell_type": "markdown",
   "metadata": {},
   "source": [
    "## Parsing"
   ]
  },
  {
   "cell_type": "code",
   "execution_count": 264,
   "metadata": {},
   "outputs": [],
   "source": [
    "import requests\n",
    "import json\n",
    "\n",
    "url = \"http://localhost:8081\"\n",
    "headers = {\n",
    "    \"Content-Type\": \"application/json\"\n",
    "}\n",
    "\n",
    "def get_schema(json_nodes, text, schema, outputs=[\"extraction\", \"res\"], **kwargs):\n",
    "    data = {\n",
    "        \"flow_id\": \"LLM_FLW_01HSEZDCTRGPSX11DDWH21K0XX\",\n",
    "        \"outputs\": outputs,\n",
    "        \"custom_values\": {\n",
    "            \"language\": \"ES_CO\",\n",
    "            \"identified_nodes\": json_nodes,\n",
    "            \"optional_schema\": schema,\n",
    "            \"contextual_text\": text,\n",
    "            **kwargs\n",
    "        }\n",
    "    }\n",
    "\n",
    "    response = requests.post(url, headers=headers, data=json.dumps(data)).json()[\"result\"][\"user_defined_outputs\"]\n",
    "    print(response)\n",
    "\n",
    "    parsed_value = response[1][\"value\"]\n",
    "    # parsed_extraction = response[0][\"value\"]\n",
    "\n",
    "    # print(parsed_extraction)\n",
    "    nodes = parsed_value[\"entities\"]\n",
    "    relations = parsed_value[\"relations\"]\n",
    "\n",
    "    nodes_df = pd.DataFrame(nodes)\n",
    "    relations_df = pd.DataFrame(relations)\n",
    "\n",
    "    return nodes_df, relations_df\n",
    "\n",
    "def merge_schemas(df1, df2, join_indices):\n",
    "    df_merged = pd.merge(df1, df2, on=join_indices, how='outer', suffixes=('_left', '_right'))\n",
    "\n",
    "    df_merged['props'] = df_merged.apply(\n",
    "        lambda row: {**(row['props_left'] if isinstance(row['props_left'], dict) else {}),\n",
    "                     **(row['props_right'] if isinstance(row['props_right'], dict) else {})},\n",
    "        axis=1\n",
    "    )\n",
    "\n",
    "    df_merged['type'] = df_merged.apply(\n",
    "        lambda row: row['type_left'] if not pd.isna(row['type_left']) else row['type_right'],\n",
    "        axis=1\n",
    "    )\n",
    "\n",
    "    df_final = df_merged[join_indices + ['type', 'props']]\n",
    "\n",
    "    return df_final"
   ]
  },
  {
   "cell_type": "code",
   "execution_count": 253,
   "metadata": {},
   "outputs": [
    {
     "name": "stdout",
     "output_type": "stream",
     "text": [
      "[{'name': 'extraction', 'description': None, 'value': '# Extracted Entities and Relationships\\n\\n## Entities\\n\\n1. **Ciudad**\\n   - Nombre: Barranquilla\\n   - Departamento: Atlántico\\n\\n2. **Macroproyecto**\\n   - Nombre: Alameda del Rio\\n   - Ubicación: Barranquilla, Atlántico\\n   - Área total: 181 hectáreas\\n   - Espacio público: 92 hectáreas\\n   - Vivienda, comercio y equipamientos: 89 hectáreas\\n   - Parques, alamedas, andenes y ciclorrutas: 50 hectáreas\\n   - Modelo: \"Ciudad dentro de la Ciudad\"\\n   - Capacidad: Cerca de 22,000 familias\\n\\n3. **Proyecto**\\n   - Nombre: Pardela\\n   - Parte de: Alameda del Rio\\n   - Localización: M-R14\\n   - Área construida total: 61,358.83 m²\\n   - Área de vivienda: 35,817.56 m²\\n   - Unidades de vivienda: 510\\n   - Estrato socio-económico: 3-4\\n   - Torres: 4\\n     - Torres A, B, C: 3 torres de 15 pisos, 8 apartamentos por piso\\n     - Torre D: 1 torre de 15 pisos, 10 apartamentos por piso\\n\\n4. **Tipo_Apto**\\n   - Tipo: A\\n     - Área: 80.0 m²\\n   - Tipo: B\\n     - Área: 70.0 m²\\n   - Tipo: D\\n     - Área: 57.0 m²\\n\\n## Relationships\\n\\n1. **HAS**\\n   - From: Macroproyecto (Alameda del Rio)\\n   - To: Proyecto (Pardela)\\n\\n2. **HAS**\\n   - From: Proyecto (Pardela)\\n   - To: Tipo_Apto (A, B, D)\\n\\n3. **HAS**\\n   - From: Ciudad (Barranquilla)\\n   - To: Macroproyecto (Alameda del Rio)'}, {'name': 'res', 'description': None, 'value': {'relations': [{'from_entity_id': 'ALAMEDA_DEL_RIO', 'from_entity_type': 'Macroproyecto', 'to_entity_type': 'Proyecto', 'type': 'HAS', 'to_entity_id': 'PARDELA', 'props': []}, {'from_entity_id': 'PARDELA', 'from_entity_type': 'Proyecto', 'to_entity_type': 'Tipo_Apto', 'type': 'HAS', 'to_entity_id': 'A', 'props': []}, {'from_entity_id': 'PARDELA', 'from_entity_type': 'Proyecto', 'to_entity_type': 'Tipo_Apto', 'type': 'HAS', 'to_entity_id': 'B', 'props': []}, {'from_entity_id': 'PARDELA', 'from_entity_type': 'Proyecto', 'to_entity_type': 'Tipo_Apto', 'type': 'HAS', 'to_entity_id': 'D', 'props': []}, {'from_entity_id': 'BARRANQUILLA', 'from_entity_type': 'Ciudad', 'to_entity_type': 'Macroproyecto', 'type': 'HAS', 'to_entity_id': 'ALAMEDA_DEL_RIO', 'props': []}], 'entities': [{'type': 'Ciudad', 'entity_id': 'BARRANQUILLA', 'props': [{'name': 'nombre', 'value': 'Barranquilla'}, {'name': 'departamento', 'value': 'Atlántico'}]}, {'type': 'Macroproyecto', 'entity_id': 'ALAMEDA_DEL_RIO', 'props': [{'name': 'nombre', 'value': 'Alameda del Rio'}, {'name': 'ubicacion', 'value': 'Barranquilla, Atlántico'}, {'name': 'area_total', 'value': '181 hectáreas'}, {'name': 'espacio_publico', 'value': '92 hectáreas'}, {'name': 'vivienda_comercio_equipamientos', 'value': '89 hectáreas'}, {'name': 'parques_alamedas_andenes_ciclorrutas', 'value': '50 hectáreas'}, {'name': 'modelo', 'value': 'Ciudad dentro de la Ciudad'}, {'name': 'capacidad', 'value': 'Cerca de 22,000 familias'}]}, {'type': 'Proyecto', 'entity_id': 'PARDELA', 'props': [{'name': 'nombre', 'value': 'Pardela'}, {'name': 'parte_de', 'value': 'Alameda del Rio'}, {'name': 'localizacion', 'value': 'M-R14'}, {'name': 'area_construida_total', 'value': '61,358.83 m²'}, {'name': 'area_vivienda', 'value': '35,817.56 m²'}, {'name': 'unidades_vivienda', 'value': '510'}, {'name': 'estrato_socio_economico', 'value': '3-4'}, {'name': 'torres', 'value': '4'}, {'name': 'torres_a_b_c', 'value': '3 torres de 15 pisos, 8 apartamentos por piso'}, {'name': 'torre_d', 'value': '1 torre de 15 pisos, 10 apartamentos por piso'}]}, {'type': 'Tipo_Apto', 'entity_id': 'A', 'props': [{'name': 'tipo', 'value': 'A'}, {'name': 'area', 'value': '80.0 m²'}]}, {'type': 'Tipo_Apto', 'entity_id': 'B', 'props': [{'name': 'tipo', 'value': 'B'}, {'name': 'area', 'value': '70.0 m²'}]}, {'type': 'Tipo_Apto', 'entity_id': 'D', 'props': [{'name': 'tipo', 'value': 'D'}, {'name': 'area', 'value': '57.0 m²'}]}]}}]\n",
      "[{'name': 'extraction', 'description': None, 'value': '# Extracted Entities and Relationships\\n\\n## Nodes\\n\\n1. **Ciudad**\\n   - **Entity ID:** BARRANQUILLA\\n   - **Properties:**\\n     - Nombre: Barranquilla\\n     - Departamento: Atlántico\\n\\n2. **Macroproyecto**\\n   - **Entity ID:** ALAMEDA_DEL_RIO\\n   - **Properties:**\\n     - Nombre: Alameda del Rio\\n     - Ubicación: Barranquilla, Atlántico\\n     - Área Total: 181 hectáreas\\n     - Espacio Público: 92 hectáreas\\n     - Vivienda, Comercio, Equipamientos: 89 hectáreas\\n     - Parques, Alamedas, Andenes, Ciclorrutas: 50 hectáreas\\n     - Modelo: Ciudad dentro de la Ciudad\\n     - Capacidad: Cerca de 22,000 familias\\n\\n3. **Proyecto**\\n   - **Entity ID:** PARDELA\\n   - **Properties:**\\n     - Nombre: Pardela\\n     - Parte de: Alameda del Rio\\n     - Localización: M-R14\\n     - Área Construida Total: 61,358.83 m²\\n     - Área Vivienda: 35,817.56 m²\\n     - Unidades Vivienda: 510\\n     - Estrato Socio Económico: 3-4\\n     - Torres: 4\\n     - Torres A, B, C: 3 torres de 15 pisos, 8 apartamentos por piso\\n     - Torre D: 1 torre de 15 pisos, 10 apartamentos por piso\\n\\n4. **Tipo_Apto**\\n   - **Entity ID:** A\\n   - **Properties:**\\n     - Tipo: A\\n     - Área Vivienda: 75.35 m²\\n     - Área Terrazas: 4.95 m²\\n     - Área Total: 80.30 m²\\n     - Unidades: 180\\n\\n5. **Tipo_Apto**\\n   - **Entity ID:** B\\n   - **Properties:**\\n     - Tipo: B\\n     - Área Vivienda: 65.35 m²\\n     - Área Terrazas: 5.02 m²\\n     - Área Total: 70.37 m²\\n     - Unidades: 171\\n\\n6. **Tipo_Apto**\\n   - **Entity ID:** C\\n   - **Properties:**\\n     - Tipo: C\\n     - Área Vivienda: 56.57 m²\\n     - Área Terrazas: 5.02 m²\\n     - Área Total: 61.59 m²\\n     - Unidades: 9\\n\\n7. **Tipo_Apto**\\n   - **Entity ID:** D\\n   - **Properties:**\\n     - Tipo: D\\n     - Área Vivienda: 58.54 m²\\n     - Área Terrazas: 0.00 m²\\n     - Área Total: 58.54 m²\\n     - Unidades: 60\\n\\n8. **Tipo_Apto**\\n   - **Entity ID:** D1\\n   - **Properties:**\\n     - Tipo: D1\\n     - Área Vivienda: 58.69 m²\\n     - Área Terrazas: 0.00 m²\\n     - Área Total: 58.69 m²\\n     - Unidades: 30\\n\\n9. **Tipo_Apto**\\n   - **Entity ID:** D2\\n   - **Properties:**\\n     - Tipo: D2\\n     - Área Vivienda: 58.89 m²\\n     - Área Terrazas: 0.00 m²\\n     - Área Total: 58.89 m²\\n     - Unidades: 2\\n\\n10. **Tipo_Apto**\\n    - **Entity ID:** D3\\n    - **Properties:**\\n      - Tipo: D3\\n      - Área Vivienda: 58.59 m²\\n      - Área Terrazas: 0.00 m²\\n      - Área Total: 58.59 m²\\n      - Unidades: 28\\n\\n11. **Tipo_Apto**\\n    - **Entity ID:** D4\\n    - **Properties:**\\n      - Tipo: D4\\n      - Área Vivienda: 58.77 m²\\n      - Área Terrazas: 0.00 m²\\n      - Área Total: 58.77 m²\\n      - Unidades: 28\\n\\n12. **Tipo_Apto**\\n    - **Entity ID:** E\\n    - **Properties:**\\n      - Tipo: E\\n      - Área Vivienda: 49.51 m²\\n      - Área Terrazas: 0.00 m²\\n      - Área Total: 49.51 m²\\n      - Unidades: 2\\n\\n## Relationships\\n\\n1. **HAS**\\n   - **From:** PARDELA\\n   - **To:** A\\n   - **Properties:** None\\n\\n2. **HAS**\\n   - **From:** PARDELA\\n   - **To:** B\\n   - **Properties:** None\\n\\n3. **HAS**\\n   - **From:** PARDELA\\n   - **To:** C\\n   - **Properties:** None\\n\\n4. **HAS**\\n   - **From:** PARDELA\\n   - **To:** D\\n   - **Properties:** None\\n\\n5. **HAS**\\n   - **From:** PARDELA\\n   - **To:** D1\\n   - **Properties:** None\\n\\n6. **HAS**\\n   - **From:** PARDELA\\n   - **To:** D2\\n   - **Properties:** None\\n\\n7. **HAS**\\n   - **From:** PARDELA\\n   - **To:** D3\\n   - **Properties:** None\\n\\n8. **HAS**\\n   - **From:** PARDELA\\n   - **To:** D4\\n   - **Properties:** None\\n\\n9. **HAS**\\n   - **From:** PARDELA\\n   - **To:** E\\n   - **Properties:** None'}, {'name': 'res', 'description': None, 'value': {'relations': [], 'entities': [{'type': 'Tipo_Apto', 'entity_id': 'C', 'props': [{'name': 'tipo', 'value': 'C'}, {'name': 'area_vivienda', 'value': '56.57 m²'}, {'name': 'area_terrazas', 'value': '5.02 m²'}, {'name': 'area_total', 'value': '61.59 m²'}, {'name': 'unidades', 'value': '9'}]}, {'type': 'Tipo_Apto', 'entity_id': 'D1', 'props': [{'name': 'tipo', 'value': 'D1'}, {'name': 'area_vivienda', 'value': '58.69 m²'}, {'name': 'area_terrazas', 'value': '0.00 m²'}, {'name': 'area_total', 'value': '58.69 m²'}, {'name': 'unidades', 'value': '30'}]}, {'type': 'Tipo_Apto', 'entity_id': 'D2', 'props': [{'name': 'tipo', 'value': 'D2'}, {'name': 'area_vivienda', 'value': '58.89 m²'}, {'name': 'area_terrazas', 'value': '0.00 m²'}, {'name': 'area_total', 'value': '58.89 m²'}, {'name': 'unidades', 'value': '2'}]}, {'type': 'Tipo_Apto', 'entity_id': 'D3', 'props': [{'name': 'tipo', 'value': 'D3'}, {'name': 'area_vivienda', 'value': '58.59 m²'}, {'name': 'area_terrazas', 'value': '0.00 m²'}, {'name': 'area_total', 'value': '58.59 m²'}, {'name': 'unidades', 'value': '28'}]}, {'type': 'Tipo_Apto', 'entity_id': 'D4', 'props': [{'name': 'tipo', 'value': 'D4'}, {'name': 'area_vivienda', 'value': '58.77 m²'}, {'name': 'area_terrazas', 'value': '0.00 m²'}, {'name': 'area_total', 'value': '58.77 m²'}, {'name': 'unidades', 'value': '28'}]}, {'type': 'Tipo_Apto', 'entity_id': 'E', 'props': [{'name': 'tipo', 'value': 'E'}, {'name': 'area_vivienda', 'value': '49.51 m²'}, {'name': 'area_terrazas', 'value': '0.00 m²'}, {'name': 'area_total', 'value': '49.51 m²'}, {'name': 'unidades', 'value': '2'}]}]}}]\n",
      "            type        entity_id  \\\n",
      "0         Ciudad     BARRANQUILLA   \n",
      "1  Macroproyecto  ALAMEDA_DEL_RIO   \n",
      "2       Proyecto          PARDELA   \n",
      "3      Tipo_Apto                A   \n",
      "4      Tipo_Apto                B   \n",
      "\n",
      "                                               props  \n",
      "0  {'nombre': 'Barranquilla', 'departamento': 'At...  \n",
      "1  {'nombre': 'Alameda del Rio', 'ubicacion': 'Ba...  \n",
      "2  {'nombre': 'Pardela', 'parte_de': 'Alameda del...  \n",
      "3                   {'tipo': 'A', 'area': '80.0 m²'}  \n",
      "4                   {'tipo': 'B', 'area': '70.0 m²'}  \n",
      "        type entity_id                                              props\n",
      "0  Tipo_Apto         C  {'tipo': 'C', 'area_vivienda': '56.57 m²', 'ar...\n",
      "1  Tipo_Apto        D1  {'tipo': 'D1', 'area_vivienda': '58.69 m²', 'a...\n",
      "2  Tipo_Apto        D2  {'tipo': 'D2', 'area_vivienda': '58.89 m²', 'a...\n",
      "3  Tipo_Apto        D3  {'tipo': 'D3', 'area_vivienda': '58.59 m²', 'a...\n",
      "4  Tipo_Apto        D4  {'tipo': 'D4', 'area_vivienda': '58.77 m²', 'a...\n",
      "[{'name': 'extraction', 'description': None, 'value': '# Extracted Entities and Relationships\\n\\n## Nodes\\n\\n1. **Tipo_Apto**\\n   - **Entity ID**: A\\n   - **Properties**: \\n     - Tipo: A\\n     - Área: 80.0 m²\\n\\n2. **Tipo_Apto**\\n   - **Entity ID**: B\\n   - **Properties**: \\n     - Tipo: B\\n     - Área: 70.0 m²\\n\\n3. **Tipo_Apto**\\n   - **Entity ID**: C\\n   - **Properties**: \\n     - Tipo: C\\n     - Área Vivienda: 56.57 m²\\n     - Área Terrazas: 5.02 m²\\n     - Área Total: 61.59 m²\\n     - Unidades: 9\\n\\n4. **Tipo_Apto**\\n   - **Entity ID**: D\\n   - **Properties**: \\n     - Tipo: D\\n     - Área: 57.0 m²\\n\\n5. **Tipo_Apto**\\n   - **Entity ID**: D1\\n   - **Properties**: \\n     - Tipo: D1\\n     - Área Vivienda: 58.69 m²\\n     - Área Terrazas: 0.00 m²\\n     - Área Total: 58.69 m²\\n     - Unidades: 30\\n\\n6. **Tipo_Apto**\\n   - **Entity ID**: D2\\n   - **Properties**: \\n     - Tipo: D2\\n     - Área Vivienda: 58.89 m²\\n     - Área Terrazas: 0.00 m²\\n     - Área Total: 58.89 m²\\n     - Unidades: 2\\n\\n7. **Tipo_Apto**\\n   - **Entity ID**: D3\\n   - **Properties**: \\n     - Tipo: D3\\n     - Área Vivienda: 58.59 m²\\n     - Área Terrazas: 0.00 m²\\n     - Área Total: 58.59 m²\\n     - Unidades: 28\\n\\n8. **Tipo_Apto**\\n   - **Entity ID**: D4\\n   - **Properties**: \\n     - Tipo: D4\\n     - Área Vivienda: 58.77 m²\\n     - Área Terrazas: 0.00 m²\\n     - Área Total: 58.77 m²\\n     - Unidades: 28\\n\\n9. **Tipo_Apto**\\n   - **Entity ID**: E\\n   - **Properties**: \\n     - Tipo: E\\n     - Área Vivienda: 49.51 m²\\n     - Área Terrazas: 0.00 m²\\n     - Área Total: 49.51 m²\\n     - Unidades: 2\\n\\n10. **Macroproyecto**\\n    - **Entity ID**: ALAMEDA_DEL_RIO\\n    - **Properties**: \\n      - Nombre: Alameda del Rio\\n      - Ubicación: Barranquilla, Atlántico\\n      - Área Total: 181 hectáreas\\n      - Espacio Público: 92 hectáreas\\n      - Vivienda, Comercio y Equipamientos: 89 hectáreas\\n      - Parques, Alamedas, Andenes, Ciclorrutas: 50 hectáreas\\n      - Modelo: Ciudad dentro de la Ciudad\\n      - Capacidad: Cerca de 22,000 familias\\n\\n11. **Proyecto**\\n    - **Entity ID**: PARDELA\\n    - **Properties**: \\n      - Nombre: Pardela\\n      - Parte de: Alameda del Rio\\n      - Localización: M-R14\\n      - Área Construida Total: 61,358.83 m²\\n      - Área Vivienda: 35,817.56 m²\\n      - Unidades Vivienda: 510\\n      - Estrato Socioeconómico: 3-4\\n      - Torres: 4\\n      - Torres A, B, C: 3 torres de 15 pisos, 8 apartamentos por piso\\n      - Torre D: 1 torre de 15 pisos, 10 apartamentos por piso\\n\\n12. **Ciudad**\\n    - **Entity ID**: BARRANQUILLA\\n    - **Properties**: \\n      - Nombre: Barranquilla\\n      - Departamento: Atlántico\\n\\n## Relationships\\n\\n1. **HAS**\\n   - **From**: ALAMEDA_DEL_RIO\\n   - **To**: PARDELA\\n   - **Properties**: \\n     - Descripción: El proyecto Pardela es parte del macroproyecto Alameda del Rio.\\n\\n2. **HAS**\\n   - **From**: PARDELA\\n   - **To**: A, B, C, D, D1, D2, D3, D4, E\\n   - **Properties**: \\n     - Descripción: El proyecto Pardela incluye diferentes tipos de apartamentos (A, B, C, D, D1, D2, D3, D4, E).\\n\\n3. **HAS**\\n   - **From**: PARDELA\\n   - **To**: BARRANQUILLA\\n   - **Properties**: \\n     - Descripción: El proyecto Pardela está ubicado en Barranquilla, Atlántico.'}, {'name': 'res', 'description': None, 'value': {'relations': [{'from_entity_id': 'ALAMEDA_DEL_RIO', 'from_entity_type': 'Macroproyecto', 'to_entity_type': 'Ciudad', 'type': 'HAS', 'to_entity_id': 'BARRANQUILLA', 'props': [{'name': 'descripcion', 'value': 'El macroproyecto Alameda del Rio está ubicado en Barranquilla, Atlántico.'}]}], 'entities': []}}]\n",
      "    from_entity_id from_entity_type to_entity_type type     to_entity_id props\n",
      "0  ALAMEDA_DEL_RIO    Macroproyecto       Proyecto  HAS          PARDELA    {}\n",
      "1          PARDELA         Proyecto      Tipo_Apto  HAS                A    {}\n",
      "2          PARDELA         Proyecto      Tipo_Apto  HAS                B    {}\n",
      "3          PARDELA         Proyecto      Tipo_Apto  HAS                D    {}\n",
      "4     BARRANQUILLA           Ciudad  Macroproyecto  HAS  ALAMEDA_DEL_RIO    {}\n",
      "    from_entity_id from_entity_type to_entity_type type  to_entity_id  \\\n",
      "0  ALAMEDA_DEL_RIO    Macroproyecto         Ciudad  HAS  BARRANQUILLA   \n",
      "\n",
      "                                               props  \n",
      "0  {'descripcion': 'El macroproyecto Alameda del ...  \n",
      "[{'name': 'extraction', 'description': None, 'value': '# Extracted Entities and Relationships\\n\\n## Entities\\n\\n1. **Tipo_Apto**\\n   - **Entity ID:** A\\n   - **Properties:**\\n     - Tipo: A\\n     - Área: 80.0 m²\\n\\n2. **Tipo_Apto**\\n   - **Entity ID:** B\\n   - **Properties:**\\n     - Tipo: B\\n     - Área: 70.0 m²\\n\\n3. **Tipo_Apto**\\n   - **Entity ID:** C\\n   - **Properties:**\\n     - Tipo: C\\n     - Área Vivienda: 56.57 m²\\n     - Área Terrazas: 5.02 m²\\n     - Área Total: 61.59 m²\\n     - Unidades: 9\\n\\n4. **Tipo_Apto**\\n   - **Entity ID:** D\\n   - **Properties:**\\n     - Tipo: D\\n     - Área: 57.0 m²\\n\\n5. **Tipo_Apto**\\n   - **Entity ID:** D1\\n   - **Properties:**\\n     - Tipo: D1\\n     - Área Vivienda: 58.69 m²\\n     - Área Terrazas: 0.00 m²\\n     - Área Total: 58.69 m²\\n     - Unidades: 30\\n\\n6. **Tipo_Apto**\\n   - **Entity ID:** D2\\n   - **Properties:**\\n     - Tipo: D2\\n     - Área Vivienda: 58.89 m²\\n     - Área Terrazas: 0.00 m²\\n     - Área Total: 58.89 m²\\n     - Unidades: 2\\n\\n7. **Tipo_Apto**\\n   - **Entity ID:** D3\\n   - **Properties:**\\n     - Tipo: D3\\n     - Área Vivienda: 58.59 m²\\n     - Área Terrazas: 0.00 m²\\n     - Área Total: 58.59 m²\\n     - Unidades: 28\\n\\n8. **Tipo_Apto**\\n   - **Entity ID:** D4\\n   - **Properties:**\\n     - Tipo: D4\\n     - Área Vivienda: 58.77 m²\\n     - Área Terrazas: 0.00 m²\\n     - Área Total: 58.77 m²\\n     - Unidades: 28\\n\\n9. **Tipo_Apto**\\n   - **Entity ID:** E\\n   - **Properties:**\\n     - Tipo: E\\n     - Área Vivienda: 49.51 m²\\n     - Área Terrazas: 0.00 m²\\n     - Área Total: 49.51 m²\\n     - Unidades: 2\\n\\n10. **Macroproyecto**\\n    - **Entity ID:** ALAMEDA_DEL_RIO\\n    - **Properties:**\\n      - Nombre: Alameda del Rio\\n      - Ubicación: Barranquilla, Atlántico\\n      - Área Total: 181 hectáreas\\n      - Espacio Público: 92 hectáreas\\n      - Vivienda, Comercio y Equipamientos: 89 hectáreas\\n      - Parques, Alamedas, Andenes y Ciclorrutas: 50 hectáreas\\n      - Modelo: Ciudad dentro de la Ciudad\\n      - Capacidad: Cerca de 22,000 familias\\n\\n11. **Proyecto**\\n    - **Entity ID:** PARDELA\\n    - **Properties:**\\n      - Nombre: Pardela\\n      - Parte de: Alameda del Rio\\n      - Localización: M-R14\\n      - Área Construida Total: 61,358.83 m²\\n      - Área Vivienda: 35,817.56 m²\\n      - Unidades Vivienda: 510\\n      - Estrato Socioeconómico: 3-4\\n      - Torres: 4\\n      - Torres A, B, C: 3 torres de 15 pisos, 8 apartamentos por piso\\n      - Torre D: 1 torre de 15 pisos, 10 apartamentos por piso\\n\\n12. **Ciudad**\\n    - **Entity ID:** BARRANQUILLA\\n    - **Properties:**\\n      - Nombre: Barranquilla\\n      - Departamento: Atlántico\\n\\n## Additional Information\\n\\n- **Parqueaderos:**\\n  - Residentes: 568 cupos en total\\n  - Visitantes: 64 cupos en total\\n  - Motos: 41 cupos\\n  - Proporción de 1 parqueadero cada 8 viviendas\\n  - Bicicletas: 122 cupos (21 cupos de parqueaderos para Discapacitados incluidos)'}, {'name': 'res', 'description': None, 'value': {'relations': [{'from_entity_id': 'PARDELA', 'from_entity_type': 'Proyecto', 'to_entity_type': 'Tipo_Apto', 'type': 'HAS', 'to_entity_id': 'A', 'props': []}, {'from_entity_id': 'PARDELA', 'from_entity_type': 'Proyecto', 'to_entity_type': 'Tipo_Apto', 'type': 'HAS', 'to_entity_id': 'B', 'props': []}, {'from_entity_id': 'PARDELA', 'from_entity_type': 'Proyecto', 'to_entity_type': 'Tipo_Apto', 'type': 'HAS', 'to_entity_id': 'C', 'props': []}, {'from_entity_id': 'PARDELA', 'from_entity_type': 'Proyecto', 'to_entity_type': 'Tipo_Apto', 'type': 'HAS', 'to_entity_id': 'D', 'props': []}, {'from_entity_id': 'PARDELA', 'from_entity_type': 'Proyecto', 'to_entity_type': 'Tipo_Apto', 'type': 'HAS', 'to_entity_id': 'D1', 'props': []}, {'from_entity_id': 'PARDELA', 'from_entity_type': 'Proyecto', 'to_entity_type': 'Tipo_Apto', 'type': 'HAS', 'to_entity_id': 'D2', 'props': []}, {'from_entity_id': 'PARDELA', 'from_entity_type': 'Proyecto', 'to_entity_type': 'Tipo_Apto', 'type': 'HAS', 'to_entity_id': 'D3', 'props': []}, {'from_entity_id': 'PARDELA', 'from_entity_type': 'Proyecto', 'to_entity_type': 'Tipo_Apto', 'type': 'HAS', 'to_entity_id': 'D4', 'props': []}, {'from_entity_id': 'PARDELA', 'from_entity_type': 'Proyecto', 'to_entity_type': 'Tipo_Apto', 'type': 'HAS', 'to_entity_id': 'E', 'props': []}], 'entities': []}}]\n",
      "    from_entity_id     to_entity_id type  \\\n",
      "0  ALAMEDA_DEL_RIO     BARRANQUILLA  NaN   \n",
      "1  ALAMEDA_DEL_RIO          PARDELA  HAS   \n",
      "2     BARRANQUILLA  ALAMEDA_DEL_RIO  HAS   \n",
      "3          PARDELA                A  HAS   \n",
      "4          PARDELA                B  HAS   \n",
      "\n",
      "                                               props  \n",
      "0  {'descripcion': 'El macroproyecto Alameda del ...  \n",
      "1                                                 {}  \n",
      "2                                                 {}  \n",
      "3                                                 {}  \n",
      "4                                                 {}  \n",
      "  from_entity_id from_entity_type to_entity_type type to_entity_id props\n",
      "0        PARDELA         Proyecto      Tipo_Apto  HAS            A    {}\n",
      "1        PARDELA         Proyecto      Tipo_Apto  HAS            B    {}\n",
      "2        PARDELA         Proyecto      Tipo_Apto  HAS            C    {}\n",
      "3        PARDELA         Proyecto      Tipo_Apto  HAS            D    {}\n",
      "4        PARDELA         Proyecto      Tipo_Apto  HAS           D1    {}\n",
      "[{'name': 'extraction', 'description': None, 'value': '# Extracted Entities and Relationships\\n\\n## Nodes\\n\\n1. **Tipo_Apto**\\n   - **Entity ID:** A\\n   - **Properties:**\\n     - Tipo: A\\n     - Área: 80.0 m²\\n     - Área Vivienda: 75.35 m²\\n     - Área Terrazas: 4.95 m²\\n     - Unidades: 180\\n\\n2. **Tipo_Apto**\\n   - **Entity ID:** B\\n   - **Properties:**\\n     - Tipo: B\\n     - Área: 70.0 m²\\n     - Área Vivienda: 65.35 m²\\n     - Área Terrazas: 5.02 m²\\n     - Unidades: 171\\n\\n3. **Tipo_Apto**\\n   - **Entity ID:** C\\n   - **Properties:**\\n     - Tipo: C\\n     - Área Vivienda: 56.57 m²\\n     - Área Terrazas: 5.02 m²\\n     - Área Total: 61.59 m²\\n     - Unidades: 9\\n\\n4. **Tipo_Apto**\\n   - **Entity ID:** D\\n   - **Properties:**\\n     - Tipo: D\\n     - Área: 57.0 m²\\n     - Área Vivienda: 58.54 m²\\n     - Área Terrazas: 0.00 m²\\n     - Unidades: 60\\n\\n5. **Tipo_Apto**\\n   - **Entity ID:** D1\\n   - **Properties:**\\n     - Tipo: D1\\n     - Área Vivienda: 58.69 m²\\n     - Área Terrazas: 0.00 m²\\n     - Área Total: 58.69 m²\\n     - Unidades: 30\\n\\n6. **Tipo_Apto**\\n   - **Entity ID:** D2\\n   - **Properties:**\\n     - Tipo: D2\\n     - Área Vivienda: 58.89 m²\\n     - Área Terrazas: 0.00 m²\\n     - Área Total: 58.89 m²\\n     - Unidades: 2\\n\\n7. **Tipo_Apto**\\n   - **Entity ID:** D3\\n   - **Properties:**\\n     - Tipo: D3\\n     - Área Vivienda: 58.59 m²\\n     - Área Terrazas: 0.00 m²\\n     - Área Total: 58.59 m²\\n     - Unidades: 28\\n\\n8. **Tipo_Apto**\\n   - **Entity ID:** D4\\n   - **Properties:**\\n     - Tipo: D4\\n     - Área Vivienda: 58.77 m²\\n     - Área Terrazas: 0.00 m²\\n     - Área Total: 58.77 m²\\n     - Unidades: 28\\n\\n9. **Tipo_Apto**\\n   - **Entity ID:** E\\n   - **Properties:**\\n     - Tipo: E\\n     - Área Vivienda: 49.51 m²\\n     - Área Terrazas: 0.00 m²\\n     - Área Total: 49.51 m²\\n     - Unidades: 2\\n\\n10. **Macroproyecto**\\n    - **Entity ID:** ALAMEDA_DEL_RIO\\n    - **Properties:**\\n      - Nombre: Alameda del Rio\\n      - Ubicación: Barranquilla, Atlántico\\n      - Área Total: 181 hectáreas\\n      - Espacio Público: 92 hectáreas\\n      - Vivienda, Comercio y Equipamientos: 89 hectáreas\\n      - Parques, Alamedas, Andenes y Ciclorrutas: 50 hectáreas\\n      - Modelo: Ciudad dentro de la Ciudad\\n      - Capacidad: Cerca de 22,000 familias\\n\\n11. **Proyecto**\\n    - **Entity ID:** PARDELA\\n    - **Properties:**\\n      - Nombre: Pardela\\n      - Parte de: Alameda del Rio\\n      - Localización: M-R14\\n      - Área Construida Total: 61,358.83 m²\\n      - Área Vivienda: 35,817.56 m²\\n      - Unidades Vivienda: 510\\n      - Estrato Socio-Económico: 3-4\\n      - Torres: 4\\n      - Torres A, B, C: 3 torres de 15 pisos, 8 apartamentos por piso\\n      - Torre D: 1 torre de 15 pisos, 10 apartamentos por piso\\n\\n12. **Ciudad**\\n    - **Entity ID:** BARRANQUILLA\\n    - **Properties:**\\n      - Nombre: Barranquilla\\n      - Departamento: Atlántico\\n\\n## Relationships\\n\\n1. **HAS**\\n   - **From:** ALAMEDA_DEL_RIO\\n   - **To:** PARDELA\\n   - **Properties:** \\n     - Tipo de Relación: Macroproyecto incluye Proyecto\\n\\n2. **HAS**\\n   - **From:** PARDELA\\n   - **To:** A, B, C, D, D1, D2, D3, D4, E\\n   - **Properties:**\\n     - Tipo de Relación: Proyecto incluye Tipos de Apartamento'}, {'name': 'res', 'description': None, 'value': {'relations': [{'from_entity_id': 'ALAMEDA_DEL_RIO', 'from_entity_type': 'Macroproyecto', 'to_entity_type': 'Ciudad', 'type': 'HAS', 'to_entity_id': 'BARRANQUILLA', 'props': [{'name': 'tipo_de_relacion', 'value': 'Macroproyecto ubicado en Ciudad'}]}], 'entities': []}}]\n",
      "    from_entity_id     to_entity_id type  \\\n",
      "0  ALAMEDA_DEL_RIO     BARRANQUILLA  NaN   \n",
      "1  ALAMEDA_DEL_RIO          PARDELA  HAS   \n",
      "2     BARRANQUILLA  ALAMEDA_DEL_RIO  HAS   \n",
      "3          PARDELA                A  HAS   \n",
      "4          PARDELA                B  HAS   \n",
      "\n",
      "                                               props  \n",
      "0  {'descripcion': 'El macroproyecto Alameda del ...  \n",
      "1                                                 {}  \n",
      "2                                                 {}  \n",
      "3                                                 {}  \n",
      "4                                                 {}  \n",
      "    from_entity_id from_entity_type to_entity_type type  to_entity_id  \\\n",
      "0  ALAMEDA_DEL_RIO    Macroproyecto         Ciudad  HAS  BARRANQUILLA   \n",
      "\n",
      "                                               props  \n",
      "0  {'tipo_de_relacion': 'Macroproyecto ubicado en...  \n",
      "[{'name': 'extraction', 'description': None, 'value': '# Extracted Entities and Relationships\\n\\n## Entities\\n\\n1. **Ciudad**\\n   - **Entity ID:** BARRANQUILLA\\n   - **Type:** Ciudad\\n   - **Props:**\\n     - Nombre: Barranquilla\\n     - Departamento: Atlántico\\n\\n2. **Macroproyecto**\\n   - **Entity ID:** ALAMEDA_DEL_RIO\\n   - **Type:** Macroproyecto\\n   - **Props:**\\n     - Nombre: Alameda del Rio\\n     - Ubicación: Barranquilla, Atlántico\\n     - Área Total: 181 hectáreas\\n     - Espacio Público: 92 hectáreas\\n     - Vivienda, Comercio y Equipamientos: 89 hectáreas\\n     - Parques, Alamedas, Andenes y Ciclorrutas: 50 hectáreas\\n     - Modelo: Ciudad dentro de la Ciudad\\n     - Capacidad: Cerca de 22,000 familias\\n\\n3. **Proyecto**\\n   - **Entity ID:** PARDELA\\n   - **Type:** Proyecto\\n   - **Props:**\\n     - Nombre: Pardela\\n     - Parte de: Alameda del Rio\\n     - Localización: M-R14\\n     - Área Construida Total: 61,358.83 m²\\n     - Área Vivienda: 35,817.56 m²\\n     - Unidades Vivienda: 510\\n     - Estrato Socio-Económico: 3-4\\n     - Torres: 4\\n     - Torres A, B, C: 3 torres de 15 pisos, 8 apartamentos por piso\\n     - Torre D: 1 torre de 15 pisos, 10 apartamentos por piso\\n\\n4. **Tipo_Apto**\\n   - **Entity ID:** A\\n   - **Type:** Tipo_Apto\\n   - **Props:**\\n     - Tipo: A\\n     - Área: 80.0 m²\\n\\n5. **Tipo_Apto**\\n   - **Entity ID:** B\\n   - **Type:** Tipo_Apto\\n   - **Props:**\\n     - Tipo: B\\n     - Área: 70.0 m²\\n\\n6. **Tipo_Apto**\\n   - **Entity ID:** C\\n   - **Type:** Tipo_Apto\\n   - **Props:**\\n     - Tipo: C\\n     - Área Vivienda: 56.57 m²\\n     - Área Terrazas: 5.02 m²\\n     - Área Total: 61.59 m²\\n     - Unidades: 9\\n\\n7. **Tipo_Apto**\\n   - **Entity ID:** D\\n   - **Type:** Tipo_Apto\\n   - **Props:**\\n     - Tipo: D\\n     - Área: 57.0 m²\\n\\n8. **Tipo_Apto**\\n   - **Entity ID:** D1\\n   - **Type:** Tipo_Apto\\n   - **Props:**\\n     - Tipo: D1\\n     - Área Vivienda: 58.69 m²\\n     - Área Terrazas: 0.00 m²\\n     - Área Total: 58.69 m²\\n     - Unidades: 30\\n\\n9. **Tipo_Apto**\\n   - **Entity ID:** D2\\n   - **Type:** Tipo_Apto\\n   - **Props:**\\n     - Tipo: D2\\n     - Área Vivienda: 58.89 m²\\n     - Área Terrazas: 0.00 m²\\n     - Área Total: 58.89 m²\\n     - Unidades: 2\\n\\n10. **Tipo_Apto**\\n    - **Entity ID:** D3\\n    - **Type:** Tipo_Apto\\n    - **Props:**\\n      - Tipo: D3\\n      - Área Vivienda: 58.59 m²\\n      - Área Terrazas: 0.00 m²\\n      - Área Total: 58.59 m²\\n      - Unidades: 28\\n\\n11. **Tipo_Apto**\\n    - **Entity ID:** D4\\n    - **Type:** Tipo_Apto\\n    - **Props:**\\n      - Tipo: D4\\n      - Área Vivienda: 58.77 m²\\n      - Área Terrazas: 0.00 m²\\n      - Área Total: 58.77 m²\\n      - Unidades: 28\\n\\n12. **Tipo_Apto**\\n    - **Entity ID:** E\\n    - **Type:** Tipo_Apto\\n    - **Props:**\\n      - Tipo: E\\n      - Área Vivienda: 49.51 m²\\n      - Área Terrazas: 0.00 m²\\n      - Área Total: 49.51 m²\\n      - Unidades: 2\\n\\n## Relationships\\n\\n1. **HAS**\\n   - **From:** PARDELA\\n   - **To:** ALAMEDA_DEL_RIO\\n   - **Props:**\\n     - Relación: Parte de\\n\\n2. **HAS**\\n   - **From:** PARDELA\\n   - **To:** BARRANQUILLA\\n   - **Props:**\\n     - Relación: Ubicación\\n\\n## Additional Information\\n\\n- **Parqueaderos Totales en Pardela:**\\n  - Total de Viviendas: 510\\n  - Residentes: 568 cupos\\n  - Visitantes: 64 cupos\\n  - Discapacitados: 21 cupos\\n  - Motocicletas: 41 cupos\\n  - Bicicleteros: 122 cupos\\n  - Total Cupos: 632'}, {'name': 'res', 'description': None, 'value': {'relations': [{'from_entity_id': 'PARDELA', 'from_entity_type': 'Proyecto', 'to_entity_type': 'Tipo_Apto', 'type': 'HAS', 'to_entity_id': 'A', 'props': []}, {'from_entity_id': 'PARDELA', 'from_entity_type': 'Proyecto', 'to_entity_type': 'Tipo_Apto', 'type': 'HAS', 'to_entity_id': 'B', 'props': []}, {'from_entity_id': 'PARDELA', 'from_entity_type': 'Proyecto', 'to_entity_type': 'Tipo_Apto', 'type': 'HAS', 'to_entity_id': 'C', 'props': []}, {'from_entity_id': 'PARDELA', 'from_entity_type': 'Proyecto', 'to_entity_type': 'Tipo_Apto', 'type': 'HAS', 'to_entity_id': 'D', 'props': []}, {'from_entity_id': 'PARDELA', 'from_entity_type': 'Proyecto', 'to_entity_type': 'Tipo_Apto', 'type': 'HAS', 'to_entity_id': 'D1', 'props': []}, {'from_entity_id': 'PARDELA', 'from_entity_type': 'Proyecto', 'to_entity_type': 'Tipo_Apto', 'type': 'HAS', 'to_entity_id': 'D2', 'props': []}, {'from_entity_id': 'PARDELA', 'from_entity_type': 'Proyecto', 'to_entity_type': 'Tipo_Apto', 'type': 'HAS', 'to_entity_id': 'D3', 'props': []}, {'from_entity_id': 'PARDELA', 'from_entity_type': 'Proyecto', 'to_entity_type': 'Tipo_Apto', 'type': 'HAS', 'to_entity_id': 'D4', 'props': []}, {'from_entity_id': 'PARDELA', 'from_entity_type': 'Proyecto', 'to_entity_type': 'Tipo_Apto', 'type': 'HAS', 'to_entity_id': 'E', 'props': []}], 'entities': []}}]\n",
      "    from_entity_id     to_entity_id type  \\\n",
      "0  ALAMEDA_DEL_RIO     BARRANQUILLA  NaN   \n",
      "1  ALAMEDA_DEL_RIO          PARDELA  HAS   \n",
      "2     BARRANQUILLA  ALAMEDA_DEL_RIO  HAS   \n",
      "3          PARDELA                A  HAS   \n",
      "4          PARDELA                B  HAS   \n",
      "\n",
      "                                               props  \n",
      "0  {'descripcion': 'El macroproyecto Alameda del ...  \n",
      "1                                                 {}  \n",
      "2                                                 {}  \n",
      "3                                                 {}  \n",
      "4                                                 {}  \n",
      "  from_entity_id from_entity_type to_entity_type type to_entity_id props\n",
      "0        PARDELA         Proyecto      Tipo_Apto  HAS            A    {}\n",
      "1        PARDELA         Proyecto      Tipo_Apto  HAS            B    {}\n",
      "2        PARDELA         Proyecto      Tipo_Apto  HAS            C    {}\n",
      "3        PARDELA         Proyecto      Tipo_Apto  HAS            D    {}\n",
      "4        PARDELA         Proyecto      Tipo_Apto  HAS           D1    {}\n",
      "[{'name': 'extraction', 'description': None, 'value': '# Extracted Entities and Relationships\\n\\n## Nodes\\n\\n1. **Ciudad**\\n   - **Entity ID:** BARRANQUILLA\\n   - **Type:** Ciudad\\n   - **Properties:**\\n     - Nombre: Barranquilla\\n     - Departamento: Atlántico\\n\\n2. **Macroproyecto**\\n   - **Entity ID:** ALAMEDA_DEL_RIO\\n   - **Type:** Macroproyecto\\n   - **Properties:**\\n     - Nombre: Alameda del Rio\\n     - Ubicación: Barranquilla, Atlántico\\n     - Área Total: 181 hectáreas\\n     - Espacio Público: 92 hectáreas\\n     - Vivienda, Comercio y Equipamientos: 89 hectáreas\\n     - Parques, Alamedas, Andenes y Ciclorrutas: 50 hectáreas\\n     - Modelo: Ciudad dentro de la Ciudad\\n     - Capacidad: Cerca de 22,000 familias\\n\\n3. **Proyecto**\\n   - **Entity ID:** PARDELA\\n   - **Type:** Proyecto\\n   - **Properties:**\\n     - Nombre: Pardela\\n     - Parte de: Alameda del Rio\\n     - Localización: M-R14\\n     - Área Construida Total: 61,358.83 m²\\n     - Área Vivienda: 35,817.56 m²\\n     - Unidades Vivienda: 510\\n     - Estrato Socio-Económico: 3-4\\n     - Torres: 4\\n     - Torres A, B, C: 3 torres de 15 pisos, 8 apartamentos por piso\\n     - Torre D: 1 torre de 15 pisos, 10 apartamentos por piso\\n\\n4. **Tipo_Apto**\\n   - **Entity ID:** A\\n   - **Type:** Tipo_Apto\\n   - **Properties:**\\n     - Tipo: A\\n     - Área: 80.0 m²\\n\\n5. **Tipo_Apto**\\n   - **Entity ID:** B\\n   - **Type:** Tipo_Apto\\n   - **Properties:**\\n     - Tipo: B\\n     - Área: 70.0 m²\\n\\n6. **Tipo_Apto**\\n   - **Entity ID:** C\\n   - **Type:** Tipo_Apto\\n   - **Properties:**\\n     - Tipo: C\\n     - Área Vivienda: 56.57 m²\\n     - Área Terrazas: 5.02 m²\\n     - Área Total: 61.59 m²\\n     - Unidades: 9\\n\\n7. **Tipo_Apto**\\n   - **Entity ID:** D\\n   - **Type:** Tipo_Apto\\n   - **Properties:**\\n     - Tipo: D\\n     - Área: 57.0 m²\\n\\n8. **Tipo_Apto**\\n   - **Entity ID:** D1\\n   - **Type:** Tipo_Apto\\n   - **Properties:**\\n     - Tipo: D1\\n     - Área Vivienda: 58.69 m²\\n     - Área Terrazas: 0.00 m²\\n     - Área Total: 58.69 m²\\n     - Unidades: 30\\n\\n9. **Tipo_Apto**\\n   - **Entity ID:** D2\\n   - **Type:** Tipo_Apto\\n   - **Properties:**\\n     - Tipo: D2\\n     - Área Vivienda: 58.89 m²\\n     - Área Terrazas: 0.00 m²\\n     - Área Total: 58.89 m²\\n     - Unidades: 2\\n\\n10. **Tipo_Apto**\\n    - **Entity ID:** D3\\n    - **Type:** Tipo_Apto\\n    - **Properties:**\\n      - Tipo: D3\\n      - Área Vivienda: 58.59 m²\\n      - Área Terrazas: 0.00 m²\\n      - Área Total: 58.59 m²\\n      - Unidades: 28\\n\\n11. **Tipo_Apto**\\n    - **Entity ID:** D4\\n    - **Type:** Tipo_Apto\\n    - **Properties:**\\n      - Tipo: D4\\n      - Área Vivienda: 58.77 m²\\n      - Área Terrazas: 0.00 m²\\n      - Área Total: 58.77 m²\\n      - Unidades: 28\\n\\n12. **Tipo_Apto**\\n    - **Entity ID:** E\\n    - **Type:** Tipo_Apto\\n    - **Properties:**\\n      - Tipo: E\\n      - Área Vivienda: 49.51 m²\\n      - Área Terrazas: 0.00 m²\\n      - Área Total: 49.51 m²\\n      - Unidades: 2\\n\\n## Relationships\\n\\n1. **HAS**\\n   - **From:** ALAMEDA_DEL_RIO\\n   - **To:** PARDELA\\n   - **Properties:** None\\n\\n2. **HAS**\\n   - **From:** PARDELA\\n   - **To:** A\\n   - **Properties:** None\\n\\n3. **HAS**\\n   - **From:** PARDELA\\n   - **To:** B\\n   - **Properties:** None\\n\\n4. **HAS**\\n   - **From:** PARDELA\\n   - **To:** C\\n   - **Properties:** None\\n\\n5. **HAS**\\n   - **From:** PARDELA\\n   - **To:** D\\n   - **Properties:** None\\n\\n6. **HAS**\\n   - **From:** PARDELA\\n   - **To:** D1\\n   - **Properties:** None\\n\\n7. **HAS**\\n   - **From:** PARDELA\\n   - **To:** D2\\n   - **Properties:** None\\n\\n8. **HAS**\\n   - **From:** PARDELA\\n   - **To:** D3\\n   - **Properties:** None\\n\\n9. **HAS**\\n   - **From:** PARDELA\\n   - **To:** D4\\n   - **Properties:** None\\n\\n10. **HAS**\\n    - **From:** PARDELA\\n    - **To:** E\\n    - **Properties:** None\\n\\nThis extraction includes all identified entities and relationships based on the contextual text provided.'}, {'name': 'res', 'description': None, 'value': {'relations': [{'from_entity_id': 'BARRANQUILLA', 'from_entity_type': 'Ciudad', 'to_entity_type': 'Macroproyecto', 'type': 'HAS', 'to_entity_id': 'ALAMEDA_DEL_RIO', 'props': []}], 'entities': []}}]\n",
      "    from_entity_id     to_entity_id type  \\\n",
      "0  ALAMEDA_DEL_RIO     BARRANQUILLA  NaN   \n",
      "1  ALAMEDA_DEL_RIO          PARDELA  HAS   \n",
      "2     BARRANQUILLA  ALAMEDA_DEL_RIO  HAS   \n",
      "3          PARDELA                A  HAS   \n",
      "4          PARDELA                B  HAS   \n",
      "\n",
      "                                               props  \n",
      "0  {'descripcion': 'El macroproyecto Alameda del ...  \n",
      "1                                                 {}  \n",
      "2                                                 {}  \n",
      "3                                                 {}  \n",
      "4                                                 {}  \n",
      "  from_entity_id from_entity_type to_entity_type type     to_entity_id props\n",
      "0   BARRANQUILLA           Ciudad  Macroproyecto  HAS  ALAMEDA_DEL_RIO    {}\n"
     ]
    }
   ],
   "source": [
    "nodes_df, relations_df = None, None\n",
    "count = 0\n",
    "\n",
    "for chunk in prodesa_alameda_chunks:\n",
    "    json_nodes = \"None\"\n",
    "    if nodes_df is not None:\n",
    "        json_nodes = nodes_df.to_json(orient=\"records\")\n",
    "\n",
    "    _nodes_df, _relations_df = get_schema(json_nodes, chunk.text, \"node=Ciudad;node=Macroproyecto;node=Proyecto;node=Tipo_Apto\\nedge=HAS\")\n",
    "\n",
    "    if not _nodes_df.empty:\n",
    "        _nodes_df['props'] = _nodes_df['props'].apply(lambda x: {v['name']: v['value'] for v in x})\n",
    "\n",
    "    if not _relations_df.empty:\n",
    "        _relations_df['props'] = _relations_df['props'].apply(lambda x: {v['name']: v['value'] for v in x})\n",
    "\n",
    "    if nodes_df is None:\n",
    "        nodes_df = _nodes_df\n",
    "    else:\n",
    "        if not _nodes_df.empty:\n",
    "            nodes_df = merge_schemas(nodes_df, _nodes_df, ['entity_id'])\n",
    "\n",
    "    if relations_df is None:\n",
    "        relations_df = _relations_df\n",
    "    else:\n",
    "        if not _relations_df.empty:\n",
    "            relations_df = merge_schemas(relations_df, _relations_df, ['from_entity_id', 'to_entity_id'])"
   ]
  },
  {
   "cell_type": "code",
   "execution_count": 255,
   "metadata": {},
   "outputs": [
    {
     "data": {
      "text/html": [
       "<div>\n",
       "<style scoped>\n",
       "    .dataframe tbody tr th:only-of-type {\n",
       "        vertical-align: middle;\n",
       "    }\n",
       "\n",
       "    .dataframe tbody tr th {\n",
       "        vertical-align: top;\n",
       "    }\n",
       "\n",
       "    .dataframe thead th {\n",
       "        text-align: right;\n",
       "    }\n",
       "</style>\n",
       "<table border=\"1\" class=\"dataframe\">\n",
       "  <thead>\n",
       "    <tr style=\"text-align: right;\">\n",
       "      <th></th>\n",
       "      <th>entity_id</th>\n",
       "      <th>type</th>\n",
       "      <th>props</th>\n",
       "    </tr>\n",
       "  </thead>\n",
       "  <tbody>\n",
       "    <tr>\n",
       "      <th>0</th>\n",
       "      <td>A</td>\n",
       "      <td>Tipo_Apto</td>\n",
       "      <td>{'tipo': 'A', 'area': '80.0 m²'}</td>\n",
       "    </tr>\n",
       "    <tr>\n",
       "      <th>1</th>\n",
       "      <td>ALAMEDA_DEL_RIO</td>\n",
       "      <td>Macroproyecto</td>\n",
       "      <td>{'nombre': 'Alameda del Rio', 'ubicacion': 'Ba...</td>\n",
       "    </tr>\n",
       "    <tr>\n",
       "      <th>2</th>\n",
       "      <td>B</td>\n",
       "      <td>Tipo_Apto</td>\n",
       "      <td>{'tipo': 'B', 'area': '70.0 m²'}</td>\n",
       "    </tr>\n",
       "    <tr>\n",
       "      <th>3</th>\n",
       "      <td>BARRANQUILLA</td>\n",
       "      <td>Ciudad</td>\n",
       "      <td>{'nombre': 'Barranquilla', 'departamento': 'At...</td>\n",
       "    </tr>\n",
       "    <tr>\n",
       "      <th>4</th>\n",
       "      <td>C</td>\n",
       "      <td>NaN</td>\n",
       "      <td>{'tipo': 'C', 'area_vivienda': '56.57 m²', 'ar...</td>\n",
       "    </tr>\n",
       "    <tr>\n",
       "      <th>5</th>\n",
       "      <td>D</td>\n",
       "      <td>Tipo_Apto</td>\n",
       "      <td>{'tipo': 'D', 'area': '57.0 m²'}</td>\n",
       "    </tr>\n",
       "    <tr>\n",
       "      <th>6</th>\n",
       "      <td>D1</td>\n",
       "      <td>NaN</td>\n",
       "      <td>{'tipo': 'D1', 'area_vivienda': '58.69 m²', 'a...</td>\n",
       "    </tr>\n",
       "    <tr>\n",
       "      <th>7</th>\n",
       "      <td>D2</td>\n",
       "      <td>NaN</td>\n",
       "      <td>{'tipo': 'D2', 'area_vivienda': '58.89 m²', 'a...</td>\n",
       "    </tr>\n",
       "    <tr>\n",
       "      <th>8</th>\n",
       "      <td>D3</td>\n",
       "      <td>NaN</td>\n",
       "      <td>{'tipo': 'D3', 'area_vivienda': '58.59 m²', 'a...</td>\n",
       "    </tr>\n",
       "    <tr>\n",
       "      <th>9</th>\n",
       "      <td>D4</td>\n",
       "      <td>NaN</td>\n",
       "      <td>{'tipo': 'D4', 'area_vivienda': '58.77 m²', 'a...</td>\n",
       "    </tr>\n",
       "    <tr>\n",
       "      <th>10</th>\n",
       "      <td>E</td>\n",
       "      <td>NaN</td>\n",
       "      <td>{'tipo': 'E', 'area_vivienda': '49.51 m²', 'ar...</td>\n",
       "    </tr>\n",
       "    <tr>\n",
       "      <th>11</th>\n",
       "      <td>PARDELA</td>\n",
       "      <td>Proyecto</td>\n",
       "      <td>{'nombre': 'Pardela', 'parte_de': 'Alameda del...</td>\n",
       "    </tr>\n",
       "  </tbody>\n",
       "</table>\n",
       "</div>"
      ],
      "text/plain": [
       "          entity_id           type  \\\n",
       "0                 A      Tipo_Apto   \n",
       "1   ALAMEDA_DEL_RIO  Macroproyecto   \n",
       "2                 B      Tipo_Apto   \n",
       "3      BARRANQUILLA         Ciudad   \n",
       "4                 C            NaN   \n",
       "5                 D      Tipo_Apto   \n",
       "6                D1            NaN   \n",
       "7                D2            NaN   \n",
       "8                D3            NaN   \n",
       "9                D4            NaN   \n",
       "10                E            NaN   \n",
       "11          PARDELA       Proyecto   \n",
       "\n",
       "                                                props  \n",
       "0                    {'tipo': 'A', 'area': '80.0 m²'}  \n",
       "1   {'nombre': 'Alameda del Rio', 'ubicacion': 'Ba...  \n",
       "2                    {'tipo': 'B', 'area': '70.0 m²'}  \n",
       "3   {'nombre': 'Barranquilla', 'departamento': 'At...  \n",
       "4   {'tipo': 'C', 'area_vivienda': '56.57 m²', 'ar...  \n",
       "5                    {'tipo': 'D', 'area': '57.0 m²'}  \n",
       "6   {'tipo': 'D1', 'area_vivienda': '58.69 m²', 'a...  \n",
       "7   {'tipo': 'D2', 'area_vivienda': '58.89 m²', 'a...  \n",
       "8   {'tipo': 'D3', 'area_vivienda': '58.59 m²', 'a...  \n",
       "9   {'tipo': 'D4', 'area_vivienda': '58.77 m²', 'a...  \n",
       "10  {'tipo': 'E', 'area_vivienda': '49.51 m²', 'ar...  \n",
       "11  {'nombre': 'Pardela', 'parte_de': 'Alameda del...  "
      ]
     },
     "execution_count": 255,
     "metadata": {},
     "output_type": "execute_result"
    }
   ],
   "source": [
    "nodes_df"
   ]
  },
  {
   "cell_type": "code",
   "execution_count": 263,
   "metadata": {},
   "outputs": [
    {
     "data": {
      "text/html": [
       "<div>\n",
       "<style scoped>\n",
       "    .dataframe tbody tr th:only-of-type {\n",
       "        vertical-align: middle;\n",
       "    }\n",
       "\n",
       "    .dataframe tbody tr th {\n",
       "        vertical-align: top;\n",
       "    }\n",
       "\n",
       "    .dataframe thead th {\n",
       "        text-align: right;\n",
       "    }\n",
       "</style>\n",
       "<table border=\"1\" class=\"dataframe\">\n",
       "  <thead>\n",
       "    <tr style=\"text-align: right;\">\n",
       "      <th></th>\n",
       "      <th>from_entity_id</th>\n",
       "      <th>to_entity_id</th>\n",
       "      <th>type</th>\n",
       "      <th>props</th>\n",
       "    </tr>\n",
       "  </thead>\n",
       "  <tbody>\n",
       "    <tr>\n",
       "      <th>0</th>\n",
       "      <td>ALAMEDA_DEL_RIO</td>\n",
       "      <td>BARRANQUILLA</td>\n",
       "      <td>NaN</td>\n",
       "      <td>{'descripcion': 'El macroproyecto Alameda del ...</td>\n",
       "    </tr>\n",
       "    <tr>\n",
       "      <th>1</th>\n",
       "      <td>ALAMEDA_DEL_RIO</td>\n",
       "      <td>PARDELA</td>\n",
       "      <td>HAS</td>\n",
       "      <td>{}</td>\n",
       "    </tr>\n",
       "    <tr>\n",
       "      <th>2</th>\n",
       "      <td>BARRANQUILLA</td>\n",
       "      <td>ALAMEDA_DEL_RIO</td>\n",
       "      <td>HAS</td>\n",
       "      <td>{}</td>\n",
       "    </tr>\n",
       "    <tr>\n",
       "      <th>3</th>\n",
       "      <td>PARDELA</td>\n",
       "      <td>A</td>\n",
       "      <td>HAS</td>\n",
       "      <td>{}</td>\n",
       "    </tr>\n",
       "    <tr>\n",
       "      <th>4</th>\n",
       "      <td>PARDELA</td>\n",
       "      <td>B</td>\n",
       "      <td>HAS</td>\n",
       "      <td>{}</td>\n",
       "    </tr>\n",
       "    <tr>\n",
       "      <th>5</th>\n",
       "      <td>PARDELA</td>\n",
       "      <td>C</td>\n",
       "      <td>NaN</td>\n",
       "      <td>{}</td>\n",
       "    </tr>\n",
       "    <tr>\n",
       "      <th>6</th>\n",
       "      <td>PARDELA</td>\n",
       "      <td>D</td>\n",
       "      <td>HAS</td>\n",
       "      <td>{}</td>\n",
       "    </tr>\n",
       "    <tr>\n",
       "      <th>7</th>\n",
       "      <td>PARDELA</td>\n",
       "      <td>D1</td>\n",
       "      <td>NaN</td>\n",
       "      <td>{}</td>\n",
       "    </tr>\n",
       "    <tr>\n",
       "      <th>8</th>\n",
       "      <td>PARDELA</td>\n",
       "      <td>D2</td>\n",
       "      <td>NaN</td>\n",
       "      <td>{}</td>\n",
       "    </tr>\n",
       "    <tr>\n",
       "      <th>9</th>\n",
       "      <td>PARDELA</td>\n",
       "      <td>D3</td>\n",
       "      <td>NaN</td>\n",
       "      <td>{}</td>\n",
       "    </tr>\n",
       "    <tr>\n",
       "      <th>10</th>\n",
       "      <td>PARDELA</td>\n",
       "      <td>D4</td>\n",
       "      <td>NaN</td>\n",
       "      <td>{}</td>\n",
       "    </tr>\n",
       "    <tr>\n",
       "      <th>11</th>\n",
       "      <td>PARDELA</td>\n",
       "      <td>E</td>\n",
       "      <td>NaN</td>\n",
       "      <td>{}</td>\n",
       "    </tr>\n",
       "  </tbody>\n",
       "</table>\n",
       "</div>"
      ],
      "text/plain": [
       "     from_entity_id     to_entity_id type  \\\n",
       "0   ALAMEDA_DEL_RIO     BARRANQUILLA  NaN   \n",
       "1   ALAMEDA_DEL_RIO          PARDELA  HAS   \n",
       "2      BARRANQUILLA  ALAMEDA_DEL_RIO  HAS   \n",
       "3           PARDELA                A  HAS   \n",
       "4           PARDELA                B  HAS   \n",
       "5           PARDELA                C  NaN   \n",
       "6           PARDELA                D  HAS   \n",
       "7           PARDELA               D1  NaN   \n",
       "8           PARDELA               D2  NaN   \n",
       "9           PARDELA               D3  NaN   \n",
       "10          PARDELA               D4  NaN   \n",
       "11          PARDELA                E  NaN   \n",
       "\n",
       "                                                props  \n",
       "0   {'descripcion': 'El macroproyecto Alameda del ...  \n",
       "1                                                  {}  \n",
       "2                                                  {}  \n",
       "3                                                  {}  \n",
       "4                                                  {}  \n",
       "5                                                  {}  \n",
       "6                                                  {}  \n",
       "7                                                  {}  \n",
       "8                                                  {}  \n",
       "9                                                  {}  \n",
       "10                                                 {}  \n",
       "11                                                 {}  "
      ]
     },
     "execution_count": 263,
     "metadata": {},
     "output_type": "execute_result"
    }
   ],
   "source": [
    "relations_df"
   ]
  },
  {
   "cell_type": "markdown",
   "metadata": {},
   "source": [
    "# CSV Loading"
   ]
  },
  {
   "cell_type": "code",
   "execution_count": 258,
   "metadata": {},
   "outputs": [],
   "source": [
    "def create_csv(nodes_df, relations_df, filename):\n",
    "    nodes_df.to_csv(filename + \"_nodes.csv\", index=False)\n",
    "    relations_df.to_csv(filename + \"_relations.csv\", index=False)"
   ]
  },
  {
   "cell_type": "code",
   "execution_count": 259,
   "metadata": {},
   "outputs": [],
   "source": [
    "create_csv(nodes_df, relations_df, \"outputs/prodesa_alameda\")"
   ]
  },
  {
   "cell_type": "markdown",
   "metadata": {},
   "source": [
    "# Load into Neo4J"
   ]
  },
  {
   "cell_type": "code",
   "execution_count": 172,
   "metadata": {},
   "outputs": [],
   "source": [
    "import dotenv\n",
    "import os\n",
    "from neo4j import GraphDatabase\n",
    "\n",
    "load_status = dotenv.load_dotenv(\"Neo4j-0c2c4bc6-Created-2024-09-16.txt\")\n",
    "if load_status is False:\n",
    "    raise RuntimeError('Environment variables not loaded.')\n",
    "\n",
    "URI = os.getenv(\"NEO4J_URI\")\n",
    "AUTH = (os.getenv(\"NEO4J_USERNAME\"), os.getenv(\"NEO4J_PASSWORD\"))\n",
    "\n",
    "with GraphDatabase.driver(URI, auth=AUTH) as driver:\n",
    "    driver.verify_connectivity()"
   ]
  },
  {
   "cell_type": "code",
   "execution_count": 261,
   "metadata": {},
   "outputs": [],
   "source": [
    "import ast\n",
    "\n",
    "def load_csv_and_create_nodes(file_path):\n",
    "    with driver.session() as session:\n",
    "        df = pd.read_csv(file_path)\n",
    "\n",
    "        for _, row in df.iterrows():\n",
    "            props = ast.literal_eval(row['props'])\n",
    "\n",
    "            filtered_props = {k: v for k, v in props.items() if v is not None}\n",
    "            props_string = \", \".join([f\"{k}: ${k}\" for k in filtered_props.keys()])\n",
    "\n",
    "            query = f\"\"\"\n",
    "            MERGE (n:{row['type']} {{id: $entity_id, {props_string}}})\n",
    "            \"\"\"\n",
    "\n",
    "            session.run(query, entity_id=row['entity_id'], **filtered_props)\n",
    "\n",
    "def load_csv_and_create_relations(file_path):\n",
    "    with driver.session() as session:\n",
    "        df = pd.read_csv(file_path)\n",
    "\n",
    "        for _, row in df.iterrows():\n",
    "            props = ast.literal_eval(row['props'])\n",
    "\n",
    "            filtered_props = {k: v for k, v in props.items() if v is not None}\n",
    "            props_string = \", \".join([f\"{k}: ${k}\" for k in filtered_props.keys()])\n",
    "\n",
    "            query = f\"\"\"\n",
    "            MATCH (from:{row['from_entity_type']} {{id: $from_entity_id}})\n",
    "            MATCH (to:{row['to_entity_type']} {{id: $to_entity_id}})\n",
    "            MERGE (from)-[r:{row['type']} {{id: $relation_id, {props_string}}}]-(to)\n",
    "            \"\"\"\n",
    "\n",
    "            session.run(query, from_entity_id=row['from_entity_id'], to_entity_id=row['to_entity_id'], **filtered_props)\n"
   ]
  },
  {
   "cell_type": "code",
   "execution_count": 233,
   "metadata": {},
   "outputs": [
    {
     "name": "stderr",
     "output_type": "stream",
     "text": [
      "/tmp/ipykernel_15573/1156762767.py:4: DeprecationWarning: Using a driver after it has been closed is deprecated. Future versions of the driver will raise an error.\n",
      "  with driver.session() as session:\n"
     ]
    },
    {
     "name": "stdout",
     "output_type": "stream",
     "text": [
      "None\n"
     ]
    }
   ],
   "source": [
    "merges = load_csv_and_create_nodes(\"outputs/prodesa_alameda_nodes.csv\")\n",
    "\n",
    "print(merges)"
   ]
  },
  {
   "cell_type": "code",
   "execution_count": 262,
   "metadata": {},
   "outputs": [
    {
     "name": "stderr",
     "output_type": "stream",
     "text": [
      "/tmp/ipykernel_15573/3722110868.py:20: DeprecationWarning: Using a driver after it has been closed is deprecated. Future versions of the driver will raise an error.\n",
      "  with driver.session() as session:\n"
     ]
    },
    {
     "ename": "KeyError",
     "evalue": "'from_entity_type'",
     "output_type": "error",
     "traceback": [
      "\u001b[0;31m---------------------------------------------------------------------------\u001b[0m",
      "\u001b[0;31mKeyError\u001b[0m                                  Traceback (most recent call last)",
      "File \u001b[0;32m~/.pyenv/versions/3.11.0/envs/unstructured-parser/lib/python3.11/site-packages/pandas/core/indexes/base.py:3805\u001b[0m, in \u001b[0;36mIndex.get_loc\u001b[0;34m(self, key)\u001b[0m\n\u001b[1;32m   3804\u001b[0m \u001b[38;5;28;01mtry\u001b[39;00m:\n\u001b[0;32m-> 3805\u001b[0m     \u001b[38;5;28;01mreturn\u001b[39;00m \u001b[38;5;28;43mself\u001b[39;49m\u001b[38;5;241;43m.\u001b[39;49m\u001b[43m_engine\u001b[49m\u001b[38;5;241;43m.\u001b[39;49m\u001b[43mget_loc\u001b[49m\u001b[43m(\u001b[49m\u001b[43mcasted_key\u001b[49m\u001b[43m)\u001b[49m\n\u001b[1;32m   3806\u001b[0m \u001b[38;5;28;01mexcept\u001b[39;00m \u001b[38;5;167;01mKeyError\u001b[39;00m \u001b[38;5;28;01mas\u001b[39;00m err:\n",
      "File \u001b[0;32mindex.pyx:167\u001b[0m, in \u001b[0;36mpandas._libs.index.IndexEngine.get_loc\u001b[0;34m()\u001b[0m\n",
      "File \u001b[0;32mindex.pyx:196\u001b[0m, in \u001b[0;36mpandas._libs.index.IndexEngine.get_loc\u001b[0;34m()\u001b[0m\n",
      "File \u001b[0;32mpandas/_libs/hashtable_class_helper.pxi:7081\u001b[0m, in \u001b[0;36mpandas._libs.hashtable.PyObjectHashTable.get_item\u001b[0;34m()\u001b[0m\n",
      "File \u001b[0;32mpandas/_libs/hashtable_class_helper.pxi:7089\u001b[0m, in \u001b[0;36mpandas._libs.hashtable.PyObjectHashTable.get_item\u001b[0;34m()\u001b[0m\n",
      "\u001b[0;31mKeyError\u001b[0m: 'from_entity_type'",
      "\nThe above exception was the direct cause of the following exception:\n",
      "\u001b[0;31mKeyError\u001b[0m                                  Traceback (most recent call last)",
      "Cell \u001b[0;32mIn[262], line 1\u001b[0m\n\u001b[0;32m----> 1\u001b[0m \u001b[43mload_csv_and_create_relations\u001b[49m\u001b[43m(\u001b[49m\u001b[38;5;124;43m\"\u001b[39;49m\u001b[38;5;124;43moutputs/prodesa_alameda_relations.csv\u001b[39;49m\u001b[38;5;124;43m\"\u001b[39;49m\u001b[43m)\u001b[49m\n",
      "Cell \u001b[0;32mIn[261], line 30\u001b[0m, in \u001b[0;36mload_csv_and_create_relations\u001b[0;34m(file_path)\u001b[0m\n\u001b[1;32m     26\u001b[0m filtered_props \u001b[38;5;241m=\u001b[39m {k: v \u001b[38;5;28;01mfor\u001b[39;00m k, v \u001b[38;5;129;01min\u001b[39;00m props\u001b[38;5;241m.\u001b[39mitems() \u001b[38;5;28;01mif\u001b[39;00m v \u001b[38;5;129;01mis\u001b[39;00m \u001b[38;5;129;01mnot\u001b[39;00m \u001b[38;5;28;01mNone\u001b[39;00m}\n\u001b[1;32m     27\u001b[0m props_string \u001b[38;5;241m=\u001b[39m \u001b[38;5;124m\"\u001b[39m\u001b[38;5;124m, \u001b[39m\u001b[38;5;124m\"\u001b[39m\u001b[38;5;241m.\u001b[39mjoin([\u001b[38;5;124mf\u001b[39m\u001b[38;5;124m\"\u001b[39m\u001b[38;5;132;01m{\u001b[39;00mk\u001b[38;5;132;01m}\u001b[39;00m\u001b[38;5;124m: $\u001b[39m\u001b[38;5;132;01m{\u001b[39;00mk\u001b[38;5;132;01m}\u001b[39;00m\u001b[38;5;124m\"\u001b[39m \u001b[38;5;28;01mfor\u001b[39;00m k \u001b[38;5;129;01min\u001b[39;00m filtered_props\u001b[38;5;241m.\u001b[39mkeys()])\n\u001b[1;32m     29\u001b[0m query \u001b[38;5;241m=\u001b[39m \u001b[38;5;124mf\u001b[39m\u001b[38;5;124m\"\"\"\u001b[39m\n\u001b[0;32m---> 30\u001b[0m \u001b[38;5;124mMATCH (from:\u001b[39m\u001b[38;5;132;01m{\u001b[39;00m\u001b[43mrow\u001b[49m\u001b[43m[\u001b[49m\u001b[38;5;124;43m'\u001b[39;49m\u001b[38;5;124;43mfrom_entity_type\u001b[39;49m\u001b[38;5;124;43m'\u001b[39;49m\u001b[43m]\u001b[49m\u001b[38;5;132;01m}\u001b[39;00m\u001b[38;5;124m \u001b[39m\u001b[38;5;130;01m{{\u001b[39;00m\u001b[38;5;124mid: $from_entity_id\u001b[39m\u001b[38;5;130;01m}}\u001b[39;00m\u001b[38;5;124m)\u001b[39m\n\u001b[1;32m     31\u001b[0m \u001b[38;5;124mMATCH (to:\u001b[39m\u001b[38;5;132;01m{\u001b[39;00mrow[\u001b[38;5;124m'\u001b[39m\u001b[38;5;124mto_entity_type\u001b[39m\u001b[38;5;124m'\u001b[39m]\u001b[38;5;132;01m}\u001b[39;00m\u001b[38;5;124m \u001b[39m\u001b[38;5;130;01m{{\u001b[39;00m\u001b[38;5;124mid: $to_entity_id\u001b[39m\u001b[38;5;130;01m}}\u001b[39;00m\u001b[38;5;124m)\u001b[39m\n\u001b[1;32m     32\u001b[0m \u001b[38;5;124mMERGE (from)-[r:\u001b[39m\u001b[38;5;132;01m{\u001b[39;00mrow[\u001b[38;5;124m'\u001b[39m\u001b[38;5;124mtype\u001b[39m\u001b[38;5;124m'\u001b[39m]\u001b[38;5;132;01m}\u001b[39;00m\u001b[38;5;124m \u001b[39m\u001b[38;5;130;01m{{\u001b[39;00m\u001b[38;5;124mid: $relation_id, \u001b[39m\u001b[38;5;132;01m{\u001b[39;00mprops_string\u001b[38;5;132;01m}\u001b[39;00m\u001b[38;5;130;01m}}\u001b[39;00m\u001b[38;5;124m]-(to)\u001b[39m\n\u001b[1;32m     33\u001b[0m \u001b[38;5;124m\u001b[39m\u001b[38;5;124m\"\"\"\u001b[39m\n\u001b[1;32m     35\u001b[0m session\u001b[38;5;241m.\u001b[39mrun(query, from_entity_id\u001b[38;5;241m=\u001b[39mrow[\u001b[38;5;124m'\u001b[39m\u001b[38;5;124mfrom_entity_id\u001b[39m\u001b[38;5;124m'\u001b[39m], to_entity_id\u001b[38;5;241m=\u001b[39mrow[\u001b[38;5;124m'\u001b[39m\u001b[38;5;124mto_entity_id\u001b[39m\u001b[38;5;124m'\u001b[39m], \u001b[38;5;241m*\u001b[39m\u001b[38;5;241m*\u001b[39mfiltered_props)\n",
      "File \u001b[0;32m~/.pyenv/versions/3.11.0/envs/unstructured-parser/lib/python3.11/site-packages/pandas/core/series.py:1121\u001b[0m, in \u001b[0;36mSeries.__getitem__\u001b[0;34m(self, key)\u001b[0m\n\u001b[1;32m   1118\u001b[0m     \u001b[38;5;28;01mreturn\u001b[39;00m \u001b[38;5;28mself\u001b[39m\u001b[38;5;241m.\u001b[39m_values[key]\n\u001b[1;32m   1120\u001b[0m \u001b[38;5;28;01melif\u001b[39;00m key_is_scalar:\n\u001b[0;32m-> 1121\u001b[0m     \u001b[38;5;28;01mreturn\u001b[39;00m \u001b[38;5;28;43mself\u001b[39;49m\u001b[38;5;241;43m.\u001b[39;49m\u001b[43m_get_value\u001b[49m\u001b[43m(\u001b[49m\u001b[43mkey\u001b[49m\u001b[43m)\u001b[49m\n\u001b[1;32m   1123\u001b[0m \u001b[38;5;66;03m# Convert generator to list before going through hashable part\u001b[39;00m\n\u001b[1;32m   1124\u001b[0m \u001b[38;5;66;03m# (We will iterate through the generator there to check for slices)\u001b[39;00m\n\u001b[1;32m   1125\u001b[0m \u001b[38;5;28;01mif\u001b[39;00m is_iterator(key):\n",
      "File \u001b[0;32m~/.pyenv/versions/3.11.0/envs/unstructured-parser/lib/python3.11/site-packages/pandas/core/series.py:1237\u001b[0m, in \u001b[0;36mSeries._get_value\u001b[0;34m(self, label, takeable)\u001b[0m\n\u001b[1;32m   1234\u001b[0m     \u001b[38;5;28;01mreturn\u001b[39;00m \u001b[38;5;28mself\u001b[39m\u001b[38;5;241m.\u001b[39m_values[label]\n\u001b[1;32m   1236\u001b[0m \u001b[38;5;66;03m# Similar to Index.get_value, but we do not fall back to positional\u001b[39;00m\n\u001b[0;32m-> 1237\u001b[0m loc \u001b[38;5;241m=\u001b[39m \u001b[38;5;28;43mself\u001b[39;49m\u001b[38;5;241;43m.\u001b[39;49m\u001b[43mindex\u001b[49m\u001b[38;5;241;43m.\u001b[39;49m\u001b[43mget_loc\u001b[49m\u001b[43m(\u001b[49m\u001b[43mlabel\u001b[49m\u001b[43m)\u001b[49m\n\u001b[1;32m   1239\u001b[0m \u001b[38;5;28;01mif\u001b[39;00m is_integer(loc):\n\u001b[1;32m   1240\u001b[0m     \u001b[38;5;28;01mreturn\u001b[39;00m \u001b[38;5;28mself\u001b[39m\u001b[38;5;241m.\u001b[39m_values[loc]\n",
      "File \u001b[0;32m~/.pyenv/versions/3.11.0/envs/unstructured-parser/lib/python3.11/site-packages/pandas/core/indexes/base.py:3812\u001b[0m, in \u001b[0;36mIndex.get_loc\u001b[0;34m(self, key)\u001b[0m\n\u001b[1;32m   3807\u001b[0m     \u001b[38;5;28;01mif\u001b[39;00m \u001b[38;5;28misinstance\u001b[39m(casted_key, \u001b[38;5;28mslice\u001b[39m) \u001b[38;5;129;01mor\u001b[39;00m (\n\u001b[1;32m   3808\u001b[0m         \u001b[38;5;28misinstance\u001b[39m(casted_key, abc\u001b[38;5;241m.\u001b[39mIterable)\n\u001b[1;32m   3809\u001b[0m         \u001b[38;5;129;01mand\u001b[39;00m \u001b[38;5;28many\u001b[39m(\u001b[38;5;28misinstance\u001b[39m(x, \u001b[38;5;28mslice\u001b[39m) \u001b[38;5;28;01mfor\u001b[39;00m x \u001b[38;5;129;01min\u001b[39;00m casted_key)\n\u001b[1;32m   3810\u001b[0m     ):\n\u001b[1;32m   3811\u001b[0m         \u001b[38;5;28;01mraise\u001b[39;00m InvalidIndexError(key)\n\u001b[0;32m-> 3812\u001b[0m     \u001b[38;5;28;01mraise\u001b[39;00m \u001b[38;5;167;01mKeyError\u001b[39;00m(key) \u001b[38;5;28;01mfrom\u001b[39;00m \u001b[38;5;21;01merr\u001b[39;00m\n\u001b[1;32m   3813\u001b[0m \u001b[38;5;28;01mexcept\u001b[39;00m \u001b[38;5;167;01mTypeError\u001b[39;00m:\n\u001b[1;32m   3814\u001b[0m     \u001b[38;5;66;03m# If we have a listlike key, _check_indexing_error will raise\u001b[39;00m\n\u001b[1;32m   3815\u001b[0m     \u001b[38;5;66;03m#  InvalidIndexError. Otherwise we fall through and re-raise\u001b[39;00m\n\u001b[1;32m   3816\u001b[0m     \u001b[38;5;66;03m#  the TypeError.\u001b[39;00m\n\u001b[1;32m   3817\u001b[0m     \u001b[38;5;28mself\u001b[39m\u001b[38;5;241m.\u001b[39m_check_indexing_error(key)\n",
      "\u001b[0;31mKeyError\u001b[0m: 'from_entity_type'"
     ]
    }
   ],
   "source": [
    "load_csv_and_create_relations(\"outputs/prodesa_alameda_relations.csv\")"
   ]
  }
 ],
 "metadata": {
  "kernelspec": {
   "display_name": "unstructured-parser",
   "language": "python",
   "name": "python3"
  },
  "language_info": {
   "codemirror_mode": {
    "name": "ipython",
    "version": 3
   },
   "file_extension": ".py",
   "mimetype": "text/x-python",
   "name": "python",
   "nbconvert_exporter": "python",
   "pygments_lexer": "ipython3",
   "version": "3.11.0"
  }
 },
 "nbformat": 4,
 "nbformat_minor": 2
}
